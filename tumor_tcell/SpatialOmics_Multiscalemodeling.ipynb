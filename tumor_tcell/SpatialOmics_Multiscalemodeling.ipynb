{
  "cells": [
    {
      "cell_type": "code",
      "execution_count": null,
      "metadata": {
        "id": "T5P35lRILDWE"
      },
      "outputs": [],
      "source": [
        "#Import Packages\n",
        "#Needed for moving to output\n",
        "import numpy as np\n",
        "import pandas as pd\n",
        "import os\n",
        "import seaborn as sns\n",
        "import matplotlib.pyplot as pl\n",
        "import itertools\n",
        "from collections import Counter\n",
        "import pickle"
      ]
    },
    {
      "cell_type": "markdown",
      "metadata": {
        "id": "IZPot4pil9oH"
      },
      "source": [
        "# Install tumor-tcell model"
      ]
    },
    {
      "cell_type": "code",
      "execution_count": null,
      "metadata": {
        "colab": {
          "base_uri": "https://localhost:8080/"
        },
        "id": "bn6iHIdQLSIO",
        "outputId": "9b8edf6b-9a76-4c4f-8819-72bd86ac24bf"
      },
      "outputs": [],
      "source": [
        "!pip install tumor-tcell\n",
        "\n",
        "#Import other needed packages\n",
        "from vivarium.library.units import units, remove_units\n",
        "from tumor_tcell.experiments.main import tumor_tcell_abm\n",
        "from tumor_tcell.experiments.main import plots_suite\n",
        "from tumor_tcell.experiments.main import get_tcells\n",
        "from tumor_tcell.experiments.main import get_tumors\n",
        "from tumor_tcell.library.phylogeny import get_phylogeny\n",
        "\n",
        "#Analysis tumor-tcell modules needed\n",
        "from tumor_tcell.library.population_plots import death_group_plot\n",
        "from tumor_tcell.library.population_plots import population_group_plot\n",
        "from tumor_tcell.library.individual_analysis import individual_analysis"
      ]
    },
    {
      "cell_type": "markdown",
      "metadata": {
        "id": "RGDVPtCMo1uN"
      },
      "source": [
        "#Run a simulation\n",
        "Our model is much more in depth than a single function, but you can take a look at all the code and organization and underlying processes at our GitHub site here: https://github.com/vivarium-collective/tumor-tcell\n",
        "\n"
      ]
    },
    {
      "cell_type": "markdown",
      "metadata": {
        "id": "H6Nmj8ovmyA6"
      },
      "source": [
        "### Use the function to run a simulation\n",
        "We can take the function we built for specifying a number of different parameters that wraps all the model together to simulate the tumor microenvironment.\n",
        "\n",
        "It can take a long time to run with many cells, so while we are testing things out we will run it with fewer cells for longer times or more cells for shorter times. Right now it is set up as running with few cells for medium amount of times (not so interesting biologically).\n",
        "\n",
        "This current set up should take about 3 minutes to run on Colab."
      ]
    },
    {
      "cell_type": "markdown",
      "metadata": {
        "id": "0-_z8x54pXuS"
      },
      "source": [
        "All parameters are critical to the modeling outputs and depend on the question you are trying to answer. However, the parameters we will most play around with are:\n",
        "\n",
        "* ratio of tumor to T cells\n",
        "* ratio of PD1+ and PD1- T cells\n",
        "* total number of cells\n",
        "* time of the simulation\n",
        "* presence of DCs or LN process"
      ]
    },
    {
      "cell_type": "code",
      "execution_count": null,
      "metadata": {
        "colab": {
          "base_uri": "https://localhost:8080/",
          "height": 1000
        },
        "id": "PZTlQTn6E8PZ",
        "outputId": "97403a79-cb66-4073-a1ea-70495228d827"
      },
      "outputs": [],
      "source": [
        "all_dir =  './data_modeling/ABM'\n",
        "experiment_name = '20250303_ABMsimulation'\n",
        "exp_id = '/' + '60000seconds_132cells'\n",
        "\n",
        "#Make a directory to save simulation data\n",
        "exper_dir = all_dir + '/' + experiment_name\n",
        "if not os.path.exists(exper_dir):\n",
        "      os.makedirs(exper_dir)\n",
        "\n",
        "outdir = exper_dir + exp_id\n",
        "\n",
        "######################################\n",
        "#####SETTINGS FOR FULL EXPERIMENT#####\n",
        "FULL_BOUNDS = [1200*units.um, 1200*units.um] #size of area for simulation\n",
        "TIMESTEP = 60 #60 second intervals\n",
        "NBINS = [120, 120] # how to segment the area for diffusion, etc.\n",
        "\n",
        "data = tumor_tcell_abm(\n",
        "\n",
        "    halt_threshold=5000,  # stop simulation at this number of cells/agents\n",
        "\n",
        "    #Cell set up\n",
        "    n_tumors=120, #number of tumors in simulation\n",
        "    tumors_state_PDL1n=0.5, #percent of tumors that start PDL1-\n",
        "    n_tcells=12, #number of T cells in simulation\n",
        "    tcells_total_PD1n=9, #number of T cells out of total that are PD1-\n",
        "    tcells_state_PD1n=None, #Set absolute amount above (could set percent but increase variation with replicates)\n",
        "\n",
        "    #Lymph node options\n",
        "    lymph_nodes=False, #whether or not you want to use LN process\n",
        "    dendritic_state_active=0.5, #Assume half are in LN (active means they go to LN)\n",
        "    n_dendritic=0, #number of dendritic cells in tumor\n",
        "    n_tcells_lymph_node=0, #number of T cells that are in the LN\n",
        "\n",
        "    #field\n",
        "    bounds=FULL_BOUNDS, #size of area for simulation\n",
        "    n_bins=NBINS, # how to segment the area for diffusion, etc.\n",
        "    depth = 15, # um for calculating volumes for diffusion\n",
        "    field_molecules=['IFNg'], #molecules that we use, if using LN then include 'tumor_debris'\n",
        "\n",
        "    #Historic not needed\n",
        "    tumors=None, #can import CODEX data\n",
        "    tcells=None, #can import CODEX data\n",
        "    dendritic_cells=None, #can import CODEX data\n",
        "\n",
        "    #time\n",
        "    total_time=60000, #total time of simulation in seconds\n",
        "    time_step=TIMESTEP, #timestep intervals for updating simulation\n",
        "    sim_step=100*TIMESTEP,  # simulation increments at which halt_threshold is checked\n",
        "    emit_step=10*TIMESTEP, # simulation increments at which data is emitted for analysis\n",
        "    emitter='timeseries', # how to save the data\n",
        "    parallel=False, # whether you could do parallel processing\n",
        "\n",
        "    #Placement of cells\n",
        "    tumors_distance=260 * units.um,  # sqrt(n_tumors)*15(diameter)/2 can be used to determin based on number of tumors\n",
        "    tcells_distance=220 * units.um,  # in (less than tumors_distance) or out (None) of the tumor\n",
        "    tumors_excluded_distance=None, # if tumors need to be restricted radially\n",
        "    tcells_excluded_distance=None,  # for creating a ring around tumor to say they are not enriched within tumors\n",
        "    tumors_center=None, #\n",
        "    tcell_center=None,\n",
        "\n",
        ")\n",
        "\n",
        "############Set parameters for plotting/saving the data#################\n",
        "data = remove_units(data)\n",
        "bounds = data[0.0]['tumor_environment']['dimensions']['bounds']\n",
        "\n",
        "if not os.path.exists(outdir):\n",
        "    os.makedirs(outdir)\n",
        "data_export = open(outdir+'/data_export.pkl', 'wb')\n",
        "pickle.dump(data, data_export)\n",
        "data_export.close()\n",
        "\n",
        "individual_analysis(analysis_dir = exper_dir, experiment_id=exp_id,\n",
        "                    bounds=bounds, tcells=True, lymph_nodes=False)"
      ]
    },
    {
      "cell_type": "markdown",
      "metadata": {
        "id": "DXaLbxD6rFxP"
      },
      "source": [
        "# Analyze results\n",
        "\n",
        "We generate many figures automatically from the results. These include at a single-cell level (first set of figures), spatial positions at different snapshots (second set of figures), and then population trends over time (last set of figures).\n",
        "\n",
        "These are all saved as plots in the folder you created (e.g., '/data_modeling/ABM' above) as well as a video that was not able to be played here in the ouptut.\n",
        "\n",
        "The raw modeling output data that tracks cells at a single cell level, on which all of this output was generated is also saved as .csv files.\n",
        "\n",
        "We can think about all the different things that we could analyze like it would be a real experiment - there are many ways to interpret the data."
      ]
    },
    {
      "cell_type": "markdown",
      "metadata": {
        "id": "9Qhkq4KLpYda"
      },
      "source": [
        "# Run analysis on CODEX data\n",
        "\n",
        "We can directly import CODEX data that has x, y position, protein expression information, and cell type data that can be used as initial points for our simulation.\n",
        "\n",
        "I have already eliminated all the non-essential data (protein columns and metadata) we do not need so that it is quick to upload the data and import into the simulation. Look at the columns that are being used here and each column is kept because it is used as a parameter in the model on a per cell type or per location basis.\n",
        "\n",
        "This data is stored in the class Box that is shared under \"Data\" folder."
      ]
    },
    {
      "cell_type": "code",
      "execution_count": null,
      "metadata": {
        "colab": {
          "base_uri": "https://localhost:8080/",
          "height": 455
        },
        "id": "7trcQE3h1cYr",
        "outputId": "0ad63943-1820-4477-ebba-0d243fc6a756"
      },
      "outputs": [],
      "source": [
        "#Read in the data from parent directory\n",
        "analysis_file = '/home/john-hickey/Desktop/Lab Member Project/Bobby_Ni/Bobby Spatial Omics/2HCTcell_ABM_CODEX.csv'\n",
        "experiment_id = '/2HC/'\n",
        "experiment_dir = all_dir+experiment_id\n",
        "\n",
        "if not os.path.exists(experiment_dir):\n",
        "  os.makedirs(experiment_dir)\n",
        "\n",
        "#Read in the data from parent directory\n",
        "df_2HC_exp = pd.read_csv(analysis_file)\n",
        "df_2HC_exp.rename(columns = {\"Unnamed: 0\": \"cell_index\"},  inplace = True)\n",
        "df_2HC_exp.set_index('cell_index', inplace = True)\n",
        "df_2HC_exp"
      ]
    },
    {
      "cell_type": "markdown",
      "metadata": {
        "id": "kKv6kVjap6SM"
      },
      "source": [
        "Lets look at the area of the tissue that we decided to simulate (we took only a small portion of the tissue) rather than the whole tissue (it would take too long or be too computationally expensive)."
      ]
    },
    {
      "cell_type": "code",
      "execution_count": null,
      "metadata": {
        "colab": {
          "base_uri": "https://localhost:8080/",
          "height": 502
        },
        "id": "rIHkCDknGWvt",
        "outputId": "909f3dc7-dcbe-465d-eb91-0264643ef527"
      },
      "outputs": [],
      "source": [
        "# Plotting\n",
        "pl.scatter(df_2HC_exp['AbsoluteX'], df_2HC_exp['AbsoluteY'])\n",
        "pl.title('Tissue Graph')\n",
        "pl.xlabel('X-axis Label')\n",
        "pl.ylabel('Y-axis Label')\n",
        "pl.grid(True)\n",
        "pl.show()"
      ]
    },
    {
      "cell_type": "markdown",
      "metadata": {
        "id": "GJwNEhFYqBip"
      },
      "source": [
        "Notice that it is starting at point (0, 0). We will add some buffer so that the simulated tumor starts in the middle of the simulation environment (see that total bounds is going to be 1800)."
      ]
    },
    {
      "cell_type": "code",
      "execution_count": null,
      "metadata": {
        "colab": {
          "base_uri": "https://localhost:8080/",
          "height": 502
        },
        "id": "63tZfnLIGnI6",
        "outputId": "5d151efd-b7b7-4564-c1ac-ca7b416fe57f"
      },
      "outputs": [],
      "source": [
        "df_2HC_exp['AbsoluteX'] = df_2HC_exp['AbsoluteX'] + 600\n",
        "df_2HC_exp['AbsoluteY'] = df_2HC_exp['AbsoluteY'] + 600\n",
        "# Plotting\n",
        "pl.scatter(df_2HC_exp['AbsoluteX'], df_2HC_exp['AbsoluteY'])\n",
        "pl.title('Tissue Graph')\n",
        "pl.xlabel('X-axis Label')\n",
        "pl.ylabel('Y-axis Label')\n",
        "pl.grid(True)\n",
        "pl.show()"
      ]
    },
    {
      "cell_type": "markdown",
      "metadata": {
        "id": "ZpzKayXzqPVL"
      },
      "source": [
        "#Format the data for the Simulation\n",
        "The data input into the simulation requires nested dictionaries as opposed to dataframes, so we need to reformat the data accordingly based on each condition."
      ]
    },
    {
      "cell_type": "code",
      "execution_count": null,
      "metadata": {
        "colab": {
          "base_uri": "https://localhost:8080/"
        },
        "id": "MWWqHTCJFv8S",
        "outputId": "9879855a-e3ae-4942-83aa-c7cc31e2149a"
      },
      "outputs": [],
      "source": [
        "#Set bounds\n",
        "bounds = [1800,1800]\n",
        "\n",
        "#Create a copy\n",
        "df_2HC_exp1 = df_2HC_exp.copy()\n",
        "\n",
        "#Column Number for iloc iterating\n",
        "Ypos = 0\n",
        "Xpos = 1\n",
        "H2Kb = 3\n",
        "PD1 = 4\n",
        "PDL1 = 5\n",
        "Celltype = 7\n",
        "IFNg_con = 8\n",
        "\n",
        "tumor_diameter = 15 #set diamater for cell\n",
        "tcell_diameter = 7.5 #set diamater for cell\n",
        "\n",
        "tumors = {}\n",
        "IFNg = {}\n",
        "tcells = {}\n",
        "\n",
        "for i in range(len(df_2HC_exp1)):\n",
        "  if df_2HC_exp1.iloc[i, Celltype] == 'PDL1p' or df_2HC_exp1.iloc[i, Celltype] == 'PDL1n':\n",
        "    tumors.update({\n",
        "        'tumor_'+ str(df_2HC_exp1.index[i]) : {\n",
        "            'location': [df_2HC_exp1.iloc[i, Xpos]*units.um,df_2HC_exp1.iloc[i, Ypos]*units.um],\n",
        "            'type': 'tumor',\n",
        "            'cell_state': df_2HC_exp1.iloc[i, Celltype],\n",
        "            'PDL1': df_2HC_exp1.iloc[i, PDL1],\n",
        "            'MHCI': df_2HC_exp1.iloc[i, H2Kb],\n",
        "            'diameter': tumor_diameter*units.um,\n",
        "        }\n",
        "    })\n",
        "\n",
        "    IFNg.update({\n",
        "        df_2HC_exp1.index[i] : {\n",
        "            'amount': df_2HC_exp1.iloc[i, IFNg_con],\n",
        "            'location': [df_2HC_exp1.iloc[i, Xpos]*units.um,df_2HC_exp1.iloc[i, Ypos]*units.um],\n",
        "        }\n",
        "    })\n",
        "\n",
        "  else:\n",
        "    tcells.update({\n",
        "        'tcell_'+ str(df_2HC_exp1.index[i]) : {\n",
        "            'location': [df_2HC_exp1.iloc[i, Xpos]*units.um,df_2HC_exp1.iloc[i, Ypos]*units.um],\n",
        "            'type': 'tcell',\n",
        "            'cell_state': df_2HC_exp1.iloc[i, Celltype],\n",
        "            'PD1': df_2HC_exp1.iloc[i, PD1],\n",
        "            'diameter': tcell_diameter*units.um,\n",
        "        }\n",
        "    })\n",
        "    IFNg.update({\n",
        "        df_2HC_exp1.index[i]: {\n",
        "        'amount': df_2HC_exp1.iloc[i, IFNg_con],\n",
        "        'location': [df_2HC_exp1.iloc[i, Xpos]*units.um,df_2HC_exp1.iloc[i, Ypos]*units.um],\n",
        "        }\n",
        "    })\n",
        "\n",
        "# print the first tcell\n",
        "tcell_ids = list(tcells.keys())\n",
        "print(tcells[tcell_ids[0]])"
      ]
    },
    {
      "cell_type": "markdown",
      "metadata": {
        "id": "eXd1dNUFqdvC"
      },
      "source": [
        "Now we can use the reformatted dictionaries as input to the same function we used above to simulate what might happen in the tumor from this CODEX data. Notice we do not need to specify as many parameters since they are coming from our data directly.\n",
        "\n",
        "You can let this run as long as you want, but for the sake of running in class I have shortened to 600s (not very biologically relevant). You can increase further if you leave your notebook running. This should take about 1.5 minutes to run. It will largely scale linearly with the simulation time if you increase."
      ]
    },
    {
      "cell_type": "code",
      "execution_count": null,
      "metadata": {
        "colab": {
          "base_uri": "https://localhost:8080/"
        },
        "id": "y7TE1qVuFvqC",
        "outputId": "c2fc82db-0530-45fd-85ad-25db481a7c07"
      },
      "outputs": [],
      "source": [
        "#using experimental CODEX data\n",
        "data = tumor_tcell_abm(tumors=tumors,\n",
        "                       tcells=tcells,\n",
        "                       total_time=600,\n",
        "                       bounds=[b*units.um for b in bounds],\n",
        "                       halt_threshold=3000,\n",
        "                       emit_step=600,\n",
        "                       field_molecules=['IFNg'],\n",
        "                       emitter='timeseries',\n",
        "                       lymph_nodes=False,)\n",
        "data;"
      ]
    },
    {
      "cell_type": "markdown",
      "metadata": {
        "id": "T9d2XXBtq2Kw"
      },
      "source": [
        "Use a similar code to analyze the data post-experiment"
      ]
    },
    {
      "cell_type": "code",
      "execution_count": null,
      "metadata": {
        "colab": {
          "base_uri": "https://localhost:8080/",
          "height": 1000
        },
        "id": "DFYgpBtqIph7",
        "outputId": "02eb0947-2865-430f-9b00-c031b10711ea"
      },
      "outputs": [],
      "source": [
        "############Set parameters for plotting/saving the data#################\n",
        "data = remove_units(data)\n",
        "#bounds = data[0.0]['tumor_environment']['dimensions']['bounds']\n",
        "\n",
        "\n",
        "data_export = open(experiment_dir+'/data_export.pkl', 'wb')\n",
        "pickle.dump(data, data_export)\n",
        "data_export.close()\n",
        "\n",
        "individual_analysis(analysis_dir = all_dir, experiment_id=experiment_id,\n",
        "                    bounds=bounds, tcells=True, lymph_nodes=False)"
      ]
    },
    {
      "cell_type": "markdown",
      "metadata": {
        "id": "cMjNZluAnulU"
      },
      "source": [
        "#Assignment\n",
        "\n",
        "### Problem #1 (50 points)\n",
        "\n",
        "Run some simulations and change at least one important parameter. Comparing the results, what are some things that you observe from the simulation?"
      ]
    },
    {
      "cell_type": "code",
      "execution_count": null,
      "metadata": {},
      "outputs": [],
      "source": [
        "df_2HC_exp1 = df_2HC_exp.copy()\n",
        "df_2HC_exp1['AbsoluteX'] = df_2HC_exp1['AbsoluteX']\n",
        "df_2HC_exp1['AbsoluteY'] = df_2HC_exp1['AbsoluteY']"
      ]
    },
    {
      "cell_type": "code",
      "execution_count": null,
      "metadata": {},
      "outputs": [],
      "source": [
        "tumors = {}\n",
        "IFNg = {}\n",
        "tcells = {}\n",
        "\n",
        "for i in range(len(df_2HC_exp1)):\n",
        "  if df_2HC_exp1.iloc[i, Celltype] == 'PDL1p' or df_2HC_exp1.iloc[i, Celltype] == 'PDL1n':\n",
        "    tumors.update({\n",
        "        'tumor_'+ str(df_2HC_exp1.index[i]) : {\n",
        "            'location': [df_2HC_exp1.iloc[i, Xpos]*units.um,df_2HC_exp1.iloc[i, Ypos]*units.um],\n",
        "            'type': 'tumor',\n",
        "            'cell_state': df_2HC_exp1.iloc[i, Celltype],\n",
        "            'PDL1': df_2HC_exp1.iloc[i, PDL1],\n",
        "            'MHCI': df_2HC_exp1.iloc[i, H2Kb],\n",
        "            'diameter': tumor_diameter*units.um,\n",
        "        }\n",
        "    })\n",
        "\n",
        "    IFNg.update({\n",
        "        df_2HC_exp1.index[i] : {\n",
        "            'amount': df_2HC_exp1.iloc[i, IFNg_con],\n",
        "            'location': [df_2HC_exp1.iloc[i, Xpos]*units.um,df_2HC_exp1.iloc[i, Ypos]*units.um],\n",
        "        }\n",
        "    })\n",
        "\n",
        "  else:\n",
        "    tcells.update({\n",
        "        'tcell_'+ str(df_2HC_exp1.index[i]) : {\n",
        "            'location': [df_2HC_exp1.iloc[i, Xpos]*units.um,df_2HC_exp1.iloc[i, Ypos]*units.um],\n",
        "            'type': 'tcell',\n",
        "            'cell_state': df_2HC_exp1.iloc[i, Celltype],\n",
        "            'PD1': df_2HC_exp1.iloc[i, PD1],\n",
        "            'diameter': tcell_diameter*units.um,\n",
        "        }\n",
        "    })\n",
        "    IFNg.update({\n",
        "        df_2HC_exp1.index[i]: {\n",
        "        'amount': df_2HC_exp1.iloc[i, IFNg_con],\n",
        "        'location': [df_2HC_exp1.iloc[i, Xpos]*units.um,df_2HC_exp1.iloc[i, Ypos]*units.um],\n",
        "        }\n",
        "    })\n",
        "\n",
        "# print the first tcell\n",
        "tcell_ids = list(tcells.keys())\n",
        "print(tcells[tcell_ids[0]])"
      ]
    },
    {
      "cell_type": "code",
      "execution_count": null,
      "metadata": {},
      "outputs": [],
      "source": [
        "#using experimental CODEX data\n",
        "data = tumor_tcell_abm(tumors=tumors,\n",
        "                       tcells=tcells,\n",
        "                       total_time=600,\n",
        "                       bounds=[b*units.um for b in bounds],\n",
        "                       halt_threshold=3000,\n",
        "                       emit_step=600,\n",
        "                       field_molecules=['IFNg'],\n",
        "                       emitter='timeseries',\n",
        "                       lymph_nodes=False,)\n",
        "data;\n",
        "\n",
        "############Set parameters for plotting/saving the data#################\n",
        "data = remove_units(data)\n",
        "#bounds = data[0.0]['tumor_environment']['dimensions']['bounds']\n",
        "\n",
        "\n",
        "data_export = open(experiment_dir+'/data_export.pkl', 'wb')\n",
        "pickle.dump(data, data_export)\n",
        "data_export.close()\n",
        "\n",
        "individual_analysis(analysis_dir = all_dir, experiment_id=experiment_id,\n",
        "                    bounds=bounds, tcells=True, lymph_nodes=False)"
      ]
    },
    {
      "cell_type": "code",
      "execution_count": null,
      "metadata": {},
      "outputs": [],
      "source": []
    },
    {
      "cell_type": "code",
      "execution_count": null,
      "metadata": {},
      "outputs": [],
      "source": [
        "#using experimental CODEX data\n",
        "data = tumor_tcell_abm(tumors=tumors,\n",
        "                       tcells=tcells,\n",
        "                       total_time=6000,\n",
        "                       bounds=[b*units.um for b in bounds],\n",
        "                       halt_threshold=6000,\n",
        "                       emit_step=600,\n",
        "                       field_molecules=['IFNg'],\n",
        "                       emitter='timeseries',\n",
        "                       lymph_nodes=False,)\n",
        "data;\n",
        "\n",
        "############Set parameters for plotting/saving the data#################\n",
        "data = remove_units(data)\n",
        "#bounds = data[0.0]['tumor_environment']['dimensions']['bounds']\n",
        "\n",
        "\n",
        "data_export = open(experiment_dir+'/data_export.pkl', 'wb')\n",
        "pickle.dump(data, data_export)\n",
        "data_export.close()\n",
        "\n",
        "individual_analysis(analysis_dir = all_dir, experiment_id=experiment_id,\n",
        "                    bounds=bounds, tcells=True, lymph_nodes=False)"
      ]
    },
    {
      "cell_type": "code",
      "execution_count": null,
      "metadata": {},
      "outputs": [],
      "source": [
        "df_2HC_exp1['AbsoluteX'] = df_2HC_exp1['AbsoluteX'] + 600\n",
        "df_2HC_exp1['AbsoluteY'] = df_2HC_exp1['AbsoluteY'] + 600\n",
        "\n",
        "tumors = {}\n",
        "IFNg = {}\n",
        "tcells = {}\n",
        "\n",
        "for i in range(len(df_2HC_exp1)):\n",
        "  if df_2HC_exp1.iloc[i, Celltype] == 'PDL1p' or df_2HC_exp1.iloc[i, Celltype] == 'PDL1n':\n",
        "    tumors.update({\n",
        "        'tumor_'+ str(df_2HC_exp1.index[i]) : {\n",
        "            'location': [df_2HC_exp1.iloc[i, Xpos]*units.um,df_2HC_exp1.iloc[i, Ypos]*units.um],\n",
        "            'type': 'tumor',\n",
        "            'cell_state': df_2HC_exp1.iloc[i, Celltype],\n",
        "            'PDL1': df_2HC_exp1.iloc[i, PDL1],\n",
        "            'MHCI': df_2HC_exp1.iloc[i, H2Kb],\n",
        "            'diameter': tumor_diameter*units.um,\n",
        "        }\n",
        "    })\n",
        "\n",
        "    IFNg.update({\n",
        "        df_2HC_exp1.index[i] : {\n",
        "            'amount': df_2HC_exp1.iloc[i, IFNg_con],\n",
        "            'location': [df_2HC_exp1.iloc[i, Xpos]*units.um,df_2HC_exp1.iloc[i, Ypos]*units.um],\n",
        "        }\n",
        "    })\n",
        "\n",
        "  else:\n",
        "    tcells.update({\n",
        "        'tcell_'+ str(df_2HC_exp1.index[i]) : {\n",
        "            'location': [df_2HC_exp1.iloc[i, Xpos]*units.um,df_2HC_exp1.iloc[i, Ypos]*units.um],\n",
        "            'type': 'tcell',\n",
        "            'cell_state': df_2HC_exp1.iloc[i, Celltype],\n",
        "            'PD1': df_2HC_exp1.iloc[i, PD1],\n",
        "            'diameter': tcell_diameter*units.um,\n",
        "        }\n",
        "    })\n",
        "    IFNg.update({\n",
        "        df_2HC_exp1.index[i]: {\n",
        "        'amount': df_2HC_exp1.iloc[i, IFNg_con],\n",
        "        'location': [df_2HC_exp1.iloc[i, Xpos]*units.um,df_2HC_exp1.iloc[i, Ypos]*units.um],\n",
        "        }\n",
        "    })\n",
        "\n",
        "# print the first tcell\n",
        "tcell_ids = list(tcells.keys())\n",
        "print(tcells[tcell_ids[0]])\n",
        "\n",
        "#using experimental CODEX data\n",
        "data = tumor_tcell_abm(tumors=tumors,\n",
        "                       tcells=tcells,\n",
        "                       total_time=10000,\n",
        "                       bounds=[b*units.um for b in bounds],\n",
        "                       halt_threshold=6000,\n",
        "                       emit_step=600,\n",
        "                       field_molecules=['IFNg'],\n",
        "                       emitter='timeseries',\n",
        "                       lymph_nodes=False,)\n",
        "data;\n",
        "\n",
        "############Set parameters for plotting/saving the data#################\n",
        "data = remove_units(data)\n",
        "#bounds = data[0.0]['tumor_environment']['dimensions']['bounds']\n",
        "\n",
        "\n",
        "data_export = open(experiment_dir+'/data_export.pkl', 'wb')\n",
        "pickle.dump(data, data_export)\n",
        "data_export.close()\n",
        "\n",
        "individual_analysis(analysis_dir = all_dir, experiment_id=experiment_id,\n",
        "                    bounds=bounds, tcells=True, lymph_nodes=False)"
      ]
    },
    {
      "cell_type": "markdown",
      "metadata": {
        "id": "n6E9SgmAHRBi"
      },
      "source": [
        "### Problem #2 (30 points)\n",
        "What might be some scientific questions you could use this model to answer? What parameters would you set to answer at least one of these questions? (*note- you do not have to actually run these simulations because the parameters you suggest here would probably take too much compute to actually run)."
      ]
    },
    {
      "cell_type": "markdown",
      "metadata": {},
      "source": [
        "The most interesting questions that can be answered using this ABM and CODEX data are how the tumor environment evolves over time without a cell count halt threshold (though cell count increases very slowly at first but faster with more time). The parameters with which we can tune is quite limited if only give one dataset as a lot of the parameters"
      ]
    },
    {
      "cell_type": "markdown",
      "metadata": {
        "id": "SOMBERUlHRJG"
      },
      "source": [
        "### Problem #3 (20 points)\n",
        "How might starting imported data at (0,0) influence the simulation vs. centering the data? In what case would you want to start at 0,0?"
      ]
    },
    {
      "cell_type": "markdown",
      "metadata": {},
      "source": [
        "I plotted the data at 0,0 without reading the question thinking it would be a condition that I tune. It seems like the border acts like a wall and that affected the diffusion of IFNg. Both the boundaryh external and internal IFNg graphs looks different with the centered simulation having more internalized IFNg and less boundary IFNg. It is also visually reflected by the simulation animations.\n",
        "\n",
        "But given a very short time course, neither the # of tumors nor T cells varied between the two. When I increased the simulation time to 6000s, I was able to see variations in the  cytotoxic packet transfer dynamics and individual cells being exposed low and high IFNg concentrations. There wasn't PD1p T cell growth and tumor growth increased.\n",
        "\n",
        "In the case where there's an cultured tumor and it is pressed right against the wall of its culture container or we are interested in observing contact inhibition behaviours (since cells in the bottom left corner are very restricted), it'd make sense to start the simulation at (0,0). "
      ]
    },
    {
      "cell_type": "markdown",
      "metadata": {},
      "source": []
    }
  ],
  "metadata": {
    "colab": {
      "machine_shape": "hm",
      "provenance": []
    },
    "kernelspec": {
      "display_name": "bobby",
      "language": "python",
      "name": "python3"
    },
    "language_info": {
      "codemirror_mode": {
        "name": "ipython",
        "version": 3
      },
      "file_extension": ".py",
      "mimetype": "text/x-python",
      "name": "python",
      "nbconvert_exporter": "python",
      "pygments_lexer": "ipython3",
      "version": "3.13.2"
    }
  },
  "nbformat": 4,
  "nbformat_minor": 0
}
