{
 "cells": [
  {
   "cell_type": "markdown",
   "metadata": {
    "id": "iemTysKanIp1"
   },
   "source": [
    "#Format Data for Experiment in ABM environment"
   ]
  },
  {
   "cell_type": "code",
   "execution_count": 1,
   "metadata": {
    "executionInfo": {
     "elapsed": 1294,
     "status": "ok",
     "timestamp": 1614635767967,
     "user": {
      "displayName": "John Wirthlin Hickey",
      "photoUrl": "",
      "userId": "07408315926250182330"
     },
     "user_tz": 480
    },
    "id": "cT4WUWr_WNy9"
   },
   "outputs": [],
   "source": [
    "#Import Packages\n",
    "#Needed for moving to output\n",
    "import numpy as np\n",
    "import pandas as pd\n",
    "import os\n",
    "import seaborn as sns\n",
    "import matplotlib.pyplot as pl\n",
    "import itertools\n",
    "from collections import Counter"
   ]
  },
  {
   "cell_type": "code",
   "execution_count": 2,
   "metadata": {
    "colab": {
     "base_uri": "https://localhost:8080/"
    },
    "executionInfo": {
     "elapsed": 25515,
     "status": "ok",
     "timestamp": 1614635792198,
     "user": {
      "displayName": "John Wirthlin Hickey",
      "photoUrl": "",
      "userId": "07408315926250182330"
     },
     "user_tz": 480
    },
    "id": "yUPrsO5vWIKV",
    "outputId": "38e97d55-1e25-400a-9267-c0b4b0b23c2c"
   },
   "outputs": [
    {
     "data": {
      "text/html": [
       "<div>\n",
       "<style scoped>\n",
       "    .dataframe tbody tr th:only-of-type {\n",
       "        vertical-align: middle;\n",
       "    }\n",
       "\n",
       "    .dataframe tbody tr th {\n",
       "        vertical-align: top;\n",
       "    }\n",
       "\n",
       "    .dataframe thead th {\n",
       "        text-align: right;\n",
       "    }\n",
       "</style>\n",
       "<table border=\"1\" class=\"dataframe\">\n",
       "  <thead>\n",
       "    <tr style=\"text-align: right;\">\n",
       "      <th></th>\n",
       "      <th>AbsoluteY</th>\n",
       "      <th>AbsoluteX</th>\n",
       "      <th>H2Db</th>\n",
       "      <th>H2Kb</th>\n",
       "      <th>PD1</th>\n",
       "      <th>PDL1</th>\n",
       "      <th>Region</th>\n",
       "      <th>Cell Type</th>\n",
       "      <th>IFNg</th>\n",
       "    </tr>\n",
       "  </thead>\n",
       "  <tbody>\n",
       "    <tr>\n",
       "      <th>3416</th>\n",
       "      <td>17.420858</td>\n",
       "      <td>39.383058</td>\n",
       "      <td>7439.972930</td>\n",
       "      <td>14291.879749</td>\n",
       "      <td>1765.165893</td>\n",
       "      <td>37624.272605</td>\n",
       "      <td>2HCTcell_d3</td>\n",
       "      <td>PDL1p</td>\n",
       "      <td>0</td>\n",
       "    </tr>\n",
       "    <tr>\n",
       "      <th>3462</th>\n",
       "      <td>17.701583</td>\n",
       "      <td>48.443346</td>\n",
       "      <td>4321.991455</td>\n",
       "      <td>5538.288774</td>\n",
       "      <td>1967.220797</td>\n",
       "      <td>15787.306125</td>\n",
       "      <td>2HCTcell_d3</td>\n",
       "      <td>PDL1p</td>\n",
       "      <td>0</td>\n",
       "    </tr>\n",
       "    <tr>\n",
       "      <th>3464</th>\n",
       "      <td>17.415336</td>\n",
       "      <td>11.621325</td>\n",
       "      <td>5690.707305</td>\n",
       "      <td>8733.550956</td>\n",
       "      <td>2934.491795</td>\n",
       "      <td>21794.349526</td>\n",
       "      <td>2HCTcell_d3</td>\n",
       "      <td>PDL1p</td>\n",
       "      <td>0</td>\n",
       "    </tr>\n",
       "    <tr>\n",
       "      <th>3474</th>\n",
       "      <td>116.736335</td>\n",
       "      <td>56.197847</td>\n",
       "      <td>4882.764345</td>\n",
       "      <td>13602.709731</td>\n",
       "      <td>3341.373360</td>\n",
       "      <td>28624.012461</td>\n",
       "      <td>2HCTcell_d3</td>\n",
       "      <td>PDL1p</td>\n",
       "      <td>0</td>\n",
       "    </tr>\n",
       "    <tr>\n",
       "      <th>3478</th>\n",
       "      <td>99.554303</td>\n",
       "      <td>14.165983</td>\n",
       "      <td>4688.975777</td>\n",
       "      <td>15945.410596</td>\n",
       "      <td>2197.945326</td>\n",
       "      <td>19190.868573</td>\n",
       "      <td>2HCTcell_d3</td>\n",
       "      <td>PDL1p</td>\n",
       "      <td>0</td>\n",
       "    </tr>\n",
       "    <tr>\n",
       "      <th>...</th>\n",
       "      <td>...</td>\n",
       "      <td>...</td>\n",
       "      <td>...</td>\n",
       "      <td>...</td>\n",
       "      <td>...</td>\n",
       "      <td>...</td>\n",
       "      <td>...</td>\n",
       "      <td>...</td>\n",
       "      <td>...</td>\n",
       "    </tr>\n",
       "    <tr>\n",
       "      <th>17636</th>\n",
       "      <td>28.411844</td>\n",
       "      <td>41.846260</td>\n",
       "      <td>13985.433737</td>\n",
       "      <td>41314.542279</td>\n",
       "      <td>6279.721097</td>\n",
       "      <td>37080.194910</td>\n",
       "      <td>2HCTcell_d3</td>\n",
       "      <td>PD1n</td>\n",
       "      <td>0</td>\n",
       "    </tr>\n",
       "    <tr>\n",
       "      <th>17640</th>\n",
       "      <td>85.217626</td>\n",
       "      <td>18.389745</td>\n",
       "      <td>11528.709624</td>\n",
       "      <td>25363.626005</td>\n",
       "      <td>13704.653409</td>\n",
       "      <td>23124.886773</td>\n",
       "      <td>2HCTcell_d3</td>\n",
       "      <td>PD1n</td>\n",
       "      <td>0</td>\n",
       "    </tr>\n",
       "    <tr>\n",
       "      <th>17642</th>\n",
       "      <td>162.779854</td>\n",
       "      <td>147.480997</td>\n",
       "      <td>9087.268135</td>\n",
       "      <td>34835.322826</td>\n",
       "      <td>7723.293285</td>\n",
       "      <td>29137.886824</td>\n",
       "      <td>2HCTcell_d3</td>\n",
       "      <td>PD1n</td>\n",
       "      <td>0</td>\n",
       "    </tr>\n",
       "    <tr>\n",
       "      <th>17643</th>\n",
       "      <td>164.355964</td>\n",
       "      <td>198.745266</td>\n",
       "      <td>4670.813447</td>\n",
       "      <td>31052.547392</td>\n",
       "      <td>3183.370010</td>\n",
       "      <td>11234.107822</td>\n",
       "      <td>2HCTcell_d3</td>\n",
       "      <td>PD1n</td>\n",
       "      <td>0</td>\n",
       "    </tr>\n",
       "    <tr>\n",
       "      <th>17644</th>\n",
       "      <td>115.384805</td>\n",
       "      <td>66.559227</td>\n",
       "      <td>2886.941655</td>\n",
       "      <td>15114.600887</td>\n",
       "      <td>1915.076755</td>\n",
       "      <td>10886.953586</td>\n",
       "      <td>2HCTcell_d3</td>\n",
       "      <td>PD1n</td>\n",
       "      <td>0</td>\n",
       "    </tr>\n",
       "  </tbody>\n",
       "</table>\n",
       "<p>141 rows × 9 columns</p>\n",
       "</div>"
      ],
      "text/plain": [
       "        AbsoluteY   AbsoluteX          H2Db          H2Kb           PD1  \\\n",
       "3416    17.420858   39.383058   7439.972930  14291.879749   1765.165893   \n",
       "3462    17.701583   48.443346   4321.991455   5538.288774   1967.220797   \n",
       "3464    17.415336   11.621325   5690.707305   8733.550956   2934.491795   \n",
       "3474   116.736335   56.197847   4882.764345  13602.709731   3341.373360   \n",
       "3478    99.554303   14.165983   4688.975777  15945.410596   2197.945326   \n",
       "...           ...         ...           ...           ...           ...   \n",
       "17636   28.411844   41.846260  13985.433737  41314.542279   6279.721097   \n",
       "17640   85.217626   18.389745  11528.709624  25363.626005  13704.653409   \n",
       "17642  162.779854  147.480997   9087.268135  34835.322826   7723.293285   \n",
       "17643  164.355964  198.745266   4670.813447  31052.547392   3183.370010   \n",
       "17644  115.384805   66.559227   2886.941655  15114.600887   1915.076755   \n",
       "\n",
       "               PDL1       Region Cell Type  IFNg  \n",
       "3416   37624.272605  2HCTcell_d3     PDL1p     0  \n",
       "3462   15787.306125  2HCTcell_d3     PDL1p     0  \n",
       "3464   21794.349526  2HCTcell_d3     PDL1p     0  \n",
       "3474   28624.012461  2HCTcell_d3     PDL1p     0  \n",
       "3478   19190.868573  2HCTcell_d3     PDL1p     0  \n",
       "...             ...          ...       ...   ...  \n",
       "17636  37080.194910  2HCTcell_d3      PD1n     0  \n",
       "17640  23124.886773  2HCTcell_d3      PD1n     0  \n",
       "17642  29137.886824  2HCTcell_d3      PD1n     0  \n",
       "17643  11234.107822  2HCTcell_d3      PD1n     0  \n",
       "17644  10886.953586  2HCTcell_d3      PD1n     0  \n",
       "\n",
       "[141 rows x 9 columns]"
      ]
     },
     "execution_count": 2,
     "metadata": {},
     "output_type": "execute_result"
    }
   ],
   "source": [
    "from google.cloud import storage\n",
    "from io import BytesIO\n",
    "client = storage.Client()\n",
    "bucket_name = \"tcell_tumor_1\"\n",
    "file_name = \"df_ABM_import_2HCTcell_exp_no_other.csv\"\n",
    "bucket = client.get_bucket(bucket_name)\n",
    "blob = bucket.get_blob(file_name)\n",
    "content = blob.download_as_string()\n",
    "df = pd.read_csv(BytesIO(content), index_col=0)\n",
    "df"
   ]
  },
  {
   "cell_type": "code",
   "execution_count": 4,
   "metadata": {
    "colab": {
     "base_uri": "https://localhost:8080/"
    },
    "executionInfo": {
     "elapsed": 9148,
     "status": "ok",
     "timestamp": 1614635803166,
     "user": {
      "displayName": "John Wirthlin Hickey",
      "photoUrl": "",
      "userId": "07408315926250182330"
     },
     "user_tz": 480
    },
    "id": "85zqzj9Ho18t",
    "outputId": "b5555e53-d9a1-4db4-d71c-9f623391f4e2"
   },
   "outputs": [
    {
     "name": "stdout",
     "output_type": "stream",
     "text": [
      "Requirement already satisfied: tumor-tcell in /opt/conda/lib/python3.7/site-packages (0.0.26)\n",
      "Requirement already satisfied: vivarium-multibody==0.0.6 in /opt/conda/lib/python3.7/site-packages (from tumor-tcell) (0.0.6)\n",
      "Requirement already satisfied: vivarium-core>=0.2.9 in /opt/conda/lib/python3.7/site-packages (from tumor-tcell) (0.2.9)\n",
      "Requirement already satisfied: pymunk in /opt/conda/lib/python3.7/site-packages (from tumor-tcell) (6.0.0)\n",
      "Requirement already satisfied: pytest in /opt/conda/lib/python3.7/site-packages (from vivarium-multibody==0.0.6->tumor-tcell) (6.2.2)\n",
      "Requirement already satisfied: numpy in /opt/conda/lib/python3.7/site-packages (from vivarium-core>=0.2.9->tumor-tcell) (1.19.5)\n",
      "Requirement already satisfied: Pint in /opt/conda/lib/python3.7/site-packages (from vivarium-core>=0.2.9->tumor-tcell) (0.16.1)\n",
      "Requirement already satisfied: scipy in /opt/conda/lib/python3.7/site-packages (from vivarium-core>=0.2.9->tumor-tcell) (1.6.0)\n",
      "Requirement already satisfied: pymongo in /opt/conda/lib/python3.7/site-packages (from vivarium-core>=0.2.9->tumor-tcell) (3.11.3)\n",
      "Requirement already satisfied: networkx in /opt/conda/lib/python3.7/site-packages (from vivarium-core>=0.2.9->tumor-tcell) (2.5)\n",
      "Requirement already satisfied: matplotlib in /opt/conda/lib/python3.7/site-packages (from vivarium-core>=0.2.9->tumor-tcell) (3.3.4)\n",
      "Requirement already satisfied: kiwisolver>=1.0.1 in /opt/conda/lib/python3.7/site-packages (from matplotlib->vivarium-core>=0.2.9->tumor-tcell) (1.3.1)\n",
      "Requirement already satisfied: pillow>=6.2.0 in /opt/conda/lib/python3.7/site-packages (from matplotlib->vivarium-core>=0.2.9->tumor-tcell) (8.1.0)\n",
      "Requirement already satisfied: cycler>=0.10 in /opt/conda/lib/python3.7/site-packages (from matplotlib->vivarium-core>=0.2.9->tumor-tcell) (0.10.0)\n",
      "Requirement already satisfied: pyparsing!=2.0.4,!=2.1.2,!=2.1.6,>=2.0.3 in /opt/conda/lib/python3.7/site-packages (from matplotlib->vivarium-core>=0.2.9->tumor-tcell) (2.4.7)\n",
      "Requirement already satisfied: python-dateutil>=2.1 in /opt/conda/lib/python3.7/site-packages (from matplotlib->vivarium-core>=0.2.9->tumor-tcell) (2.8.1)\n",
      "Requirement already satisfied: six in /opt/conda/lib/python3.7/site-packages (from cycler>=0.10->matplotlib->vivarium-core>=0.2.9->tumor-tcell) (1.15.0)\n",
      "Requirement already satisfied: decorator>=4.3.0 in /opt/conda/lib/python3.7/site-packages (from networkx->vivarium-core>=0.2.9->tumor-tcell) (4.4.2)\n",
      "Requirement already satisfied: importlib-metadata in /opt/conda/lib/python3.7/site-packages (from Pint->vivarium-core>=0.2.9->tumor-tcell) (3.7.0)\n",
      "Requirement already satisfied: packaging in /opt/conda/lib/python3.7/site-packages (from Pint->vivarium-core>=0.2.9->tumor-tcell) (20.9)\n",
      "Requirement already satisfied: zipp>=0.5 in /opt/conda/lib/python3.7/site-packages (from importlib-metadata->Pint->vivarium-core>=0.2.9->tumor-tcell) (3.4.0)\n",
      "Requirement already satisfied: typing-extensions>=3.6.4 in /opt/conda/lib/python3.7/site-packages (from importlib-metadata->Pint->vivarium-core>=0.2.9->tumor-tcell) (3.7.4.3)\n",
      "Requirement already satisfied: cffi>1.14.0 in /opt/conda/lib/python3.7/site-packages (from pymunk->tumor-tcell) (1.14.5)\n",
      "Requirement already satisfied: pycparser in /opt/conda/lib/python3.7/site-packages (from cffi>1.14.0->pymunk->tumor-tcell) (2.20)\n",
      "Requirement already satisfied: pluggy<1.0.0a1,>=0.12 in /opt/conda/lib/python3.7/site-packages (from pytest->vivarium-multibody==0.0.6->tumor-tcell) (0.13.1)\n",
      "Requirement already satisfied: attrs>=19.2.0 in /opt/conda/lib/python3.7/site-packages (from pytest->vivarium-multibody==0.0.6->tumor-tcell) (20.3.0)\n",
      "Requirement already satisfied: toml in /opt/conda/lib/python3.7/site-packages (from pytest->vivarium-multibody==0.0.6->tumor-tcell) (0.10.2)\n",
      "Requirement already satisfied: py>=1.8.2 in /opt/conda/lib/python3.7/site-packages (from pytest->vivarium-multibody==0.0.6->tumor-tcell) (1.10.0)\n",
      "Requirement already satisfied: iniconfig in /opt/conda/lib/python3.7/site-packages (from pytest->vivarium-multibody==0.0.6->tumor-tcell) (1.1.1)\n"
     ]
    }
   ],
   "source": [
    "#Install tumor-tcell\n",
    "!pip install tumor-tcell #==0.0.22\n",
    "#!pip install vivarium-core==0.2.0\n",
    "#!pip install vivarium-multibody"
   ]
  },
  {
   "cell_type": "code",
   "execution_count": 5,
   "metadata": {
    "executionInfo": {
     "elapsed": 1308,
     "status": "ok",
     "timestamp": 1614635809123,
     "user": {
      "displayName": "John Wirthlin Hickey",
      "photoUrl": "",
      "userId": "07408315926250182330"
     },
     "user_tz": 480
    },
    "id": "uWmS7cJ86OGK"
   },
   "outputs": [],
   "source": [
    "from vivarium.library.units import units, remove_units\n",
    "from tumor_tcell.experiments.main import tumor_tcell_abm\n",
    "from tumor_tcell.experiments.main import plots_suite\n",
    "from tumor_tcell.experiments.main import get_tcells\n",
    "from tumor_tcell.experiments.main import get_tumors\n",
    "from tumor_tcell.library.phylogeny import get_phylogeny"
   ]
  },
  {
   "cell_type": "code",
   "execution_count": 6,
   "metadata": {
    "executionInfo": {
     "elapsed": 280,
     "status": "ok",
     "timestamp": 1614635812344,
     "user": {
      "displayName": "John Wirthlin Hickey",
      "photoUrl": "",
      "userId": "07408315926250182330"
     },
     "user_tz": 480
    },
    "id": "aL6lP7CVh0jS"
   },
   "outputs": [],
   "source": [
    "#Get bounds\n",
    "min_2HC_x = 0\n",
    "max_2HC_x = 200\n",
    "min_2HC_y = 0\n",
    "max_2HC_y = 200\n",
    "\n",
    "ybounds = max_2HC_y - min_2HC_y\n",
    "xbounds = max_2HC_x - min_2HC_x\n",
    "bounds = [xbounds,ybounds]"
   ]
  },
  {
   "cell_type": "code",
   "execution_count": 7,
   "metadata": {},
   "outputs": [],
   "source": [
    "df_2HC_exp = df.copy()"
   ]
  },
  {
   "cell_type": "code",
   "execution_count": 8,
   "metadata": {
    "colab": {
     "base_uri": "https://localhost:8080/"
    },
    "executionInfo": {
     "elapsed": 457,
     "status": "ok",
     "timestamp": 1614635813622,
     "user": {
      "displayName": "John Wirthlin Hickey",
      "photoUrl": "",
      "userId": "07408315926250182330"
     },
     "user_tz": 480
    },
    "id": "omrt10VH0p9c",
    "outputId": "a7df3465-02f8-4aa6-91e8-46cdf76d1387"
   },
   "outputs": [
    {
     "data": {
      "text/plain": [
       "{'tcell_17573': {'location': [96.44950048828127 <Unit('micrometer')>,\n",
       "   103.6805014648437 <Unit('micrometer')>],\n",
       "  'type': 'tcell',\n",
       "  'cell_state': 'PD1p',\n",
       "  'PD1': 37905.35372440419,\n",
       "  'diameter': 7.5 <Unit('micrometer')>},\n",
       " 'tcell_17574': {'location': [94.11488012695315 <Unit('micrometer')>,\n",
       "   145.88664550781257 <Unit('micrometer')>],\n",
       "  'type': 'tcell',\n",
       "  'cell_state': 'PD1p',\n",
       "  'PD1': 36077.359570303546,\n",
       "  'diameter': 7.5 <Unit('micrometer')>},\n",
       " 'tcell_17575': {'location': [112.01915869140625 <Unit('micrometer')>,\n",
       "   155.55481787109375 <Unit('micrometer')>],\n",
       "  'type': 'tcell',\n",
       "  'cell_state': 'PD1p',\n",
       "  'PD1': 27239.05224499536,\n",
       "  'diameter': 7.5 <Unit('micrometer')>},\n",
       " 'tcell_17633': {'location': [27.064288818359387 <Unit('micrometer')>,\n",
       "   54.30012841796884 <Unit('micrometer')>],\n",
       "  'type': 'tcell',\n",
       "  'cell_state': 'PD1n',\n",
       "  'PD1': 3377.8649764575835,\n",
       "  'diameter': 7.5 <Unit('micrometer')>},\n",
       " 'tcell_17635': {'location': [35.5597666015625 <Unit('micrometer')>,\n",
       "   27.292533203125004 <Unit('micrometer')>],\n",
       "  'type': 'tcell',\n",
       "  'cell_state': 'PD1n',\n",
       "  'PD1': 4902.089708080086,\n",
       "  'diameter': 7.5 <Unit('micrometer')>},\n",
       " 'tcell_17636': {'location': [41.846260009765615 <Unit('micrometer')>,\n",
       "   28.411843994140558 <Unit('micrometer')>],\n",
       "  'type': 'tcell',\n",
       "  'cell_state': 'PD1n',\n",
       "  'PD1': 6279.721097318609,\n",
       "  'diameter': 7.5 <Unit('micrometer')>},\n",
       " 'tcell_17640': {'location': [18.389745239257763 <Unit('micrometer')>,\n",
       "   85.21762597656243 <Unit('micrometer')>],\n",
       "  'type': 'tcell',\n",
       "  'cell_state': 'PD1n',\n",
       "  'PD1': 13704.65340919047,\n",
       "  'diameter': 7.5 <Unit('micrometer')>},\n",
       " 'tcell_17642': {'location': [147.48099731445313 <Unit('micrometer')>,\n",
       "   162.77985351562506 <Unit('micrometer')>],\n",
       "  'type': 'tcell',\n",
       "  'cell_state': 'PD1n',\n",
       "  'PD1': 7723.29328519632,\n",
       "  'diameter': 7.5 <Unit('micrometer')>},\n",
       " 'tcell_17643': {'location': [198.74526586914067 <Unit('micrometer')>,\n",
       "   164.35596386718748 <Unit('micrometer')>],\n",
       "  'type': 'tcell',\n",
       "  'cell_state': 'PD1n',\n",
       "  'PD1': 3183.37000996641,\n",
       "  'diameter': 7.5 <Unit('micrometer')>},\n",
       " 'tcell_17644': {'location': [66.55922668457026 <Unit('micrometer')>,\n",
       "   115.38480517578137 <Unit('micrometer')>],\n",
       "  'type': 'tcell',\n",
       "  'cell_state': 'PD1n',\n",
       "  'PD1': 1915.076755184464,\n",
       "  'diameter': 7.5 <Unit('micrometer')>}}"
      ]
     },
     "execution_count": 8,
     "metadata": {},
     "output_type": "execute_result"
    }
   ],
   "source": [
    "#Import from Jupyter notebook\n",
    "df_2HC_exp1 = df_2HC_exp.copy()\n",
    "\n",
    "#Column Number for iloc iterating\n",
    "Ypos = 0\n",
    "Xpos = 1\n",
    "H2Kb = 3\n",
    "PD1 = 4\n",
    "PDL1 = 5\n",
    "Celltype = 7\n",
    "IFNg_con = 8 \n",
    "\n",
    "tumor_diameter = 15\n",
    "tcell_diameter = 7.5\n",
    "\n",
    "tumors = {}\n",
    "IFNg = {}\n",
    "tcells = {}\n",
    "\n",
    "for i in range(len(df_2HC_exp1)):\n",
    "  if df_2HC_exp1.iloc[i, Celltype] == 'PDL1p' or df_2HC_exp1.iloc[i, Celltype] == 'PDL1n':\n",
    "    tumors.update({\n",
    "        'tumor_'+ str(df_2HC_exp1.index[i]) : {\n",
    "            'location': [df_2HC_exp1.iloc[i, Xpos]*units.um,df_2HC_exp1.iloc[i, Ypos]*units.um],\n",
    "            'type': 'tumor',\n",
    "            'cell_state': df_2HC_exp1.iloc[i, Celltype],\n",
    "            'PDL1': df_2HC_exp1.iloc[i, PDL1],\n",
    "            'MHCI': df_2HC_exp1.iloc[i, H2Kb],\n",
    "            'diameter': tumor_diameter*units.um,\n",
    "        }\n",
    "    })\n",
    "    \n",
    "    IFNg.update({\n",
    "        df_2HC_exp1.index[i] : {\n",
    "            'amount': df_2HC_exp1.iloc[i, IFNg_con],\n",
    "            'location': [df_2HC_exp1.iloc[i, Xpos]*units.um,df_2HC_exp1.iloc[i, Ypos]*units.um],\n",
    "        }\n",
    "    })\n",
    "\n",
    "  else: \n",
    "    tcells.update({\n",
    "        'tcell_'+ str(df_2HC_exp1.index[i]) : {\n",
    "            'location': [df_2HC_exp1.iloc[i, Xpos]*units.um,df_2HC_exp1.iloc[i, Ypos]*units.um],\n",
    "            'type': 'tcell',\n",
    "            'cell_state': df_2HC_exp1.iloc[i, Celltype],\n",
    "            'PD1': df_2HC_exp1.iloc[i, PD1],\n",
    "            'diameter': tcell_diameter*units.um,\n",
    "        }\n",
    "    })\n",
    "    IFNg.update({\n",
    "        df_2HC_exp1.index[i]: {\n",
    "        'amount': df_2HC_exp1.iloc[i, IFNg_con],\n",
    "        'location': [df_2HC_exp1.iloc[i, Xpos]*units.um,df_2HC_exp1.iloc[i, Ypos]*units.um],\n",
    "        }\n",
    "    })\n",
    "\n",
    "tcells"
   ]
  },
  {
   "cell_type": "markdown",
   "metadata": {
    "id": "vDGBmw7dnXOc"
   },
   "source": [
    "#Run tumor-tcell ABM Experiment"
   ]
  },
  {
   "cell_type": "code",
   "execution_count": null,
   "metadata": {
    "executionInfo": {
     "elapsed": 35632,
     "status": "ok",
     "timestamp": 1614635855859,
     "user": {
      "displayName": "John Wirthlin Hickey",
      "photoUrl": "",
      "userId": "07408315926250182330"
     },
     "user_tz": 480
    },
    "id": "SeSFGmzswuru"
   },
   "outputs": [],
   "source": [
    "#using experimental CODEX data\n",
    "data = tumor_tcell_abm(tumors=tumors, tcells=tcells, total_time=50000, bounds=[b*units.um for b in bounds], halt_threshold=300,emit_step=600)\n",
    "data;"
   ]
  },
  {
   "cell_type": "code",
   "execution_count": 9,
   "metadata": {
    "executionInfo": {
     "elapsed": 180374,
     "status": "ok",
     "timestamp": 1614636938060,
     "user": {
      "displayName": "John Wirthlin Hickey",
      "photoUrl": "",
      "userId": "07408315926250182330"
     },
     "user_tz": 480
    },
    "id": "VVXcep8PqsGD"
   },
   "outputs": [
    {
     "name": "stdout",
     "output_type": "stream",
     "text": [
      "Initializing experiment tumor_tcell_20210317.203621\n",
      "Completed in 264.74 seconds\n"
     ]
    }
   ],
   "source": [
    "##With simulated data\n",
    "N_TUMORS = 150\n",
    "N_TCELLS = 6\n",
    "PD1n_per = 0.5\n",
    "PDL1n_per = 0.9\n",
    "DEFAULT_TUMORS = get_tumors(number=N_TUMORS, state_per=PD1n_per)\n",
    "DEFAULT_TCELLS = get_tcells(number=N_TCELLS, state_per=PDL1n_per)\n",
    "\n",
    "data = tumor_tcell_abm(total_time=50000, tumors=DEFAULT_TUMORS, tcells=DEFAULT_TCELLS, halt_threshold=300,emit_step=600)\n",
    "data;"
   ]
  },
  {
   "cell_type": "code",
   "execution_count": null,
   "metadata": {},
   "outputs": [],
   "source": [
    "##Eran's cell for optimization\n",
    "total_time = 259200 # 3 days\n",
    "bounds = [750, 750]\n",
    "n_bins = [75, 75]\n",
    "# total cells ~4000\n",
    "N_TUMORS = 3500\n",
    "N_TCELLS = 30\n",
    "PD1n_per = 0.5\n",
    "PDL1n_per = 0.9\n",
    "DEFAULT_TUMORS = get_tumors(number=N_TUMORS, state_per=PD1n_per)\n",
    "DEFAULT_TCELLS = get_tcells(number=N_TCELLS, state_per=PDL1n_per)\n",
    "\n",
    "data = tumor_tcell_abm(\n",
    "    total_time=total_time, \n",
    "    tumors=DEFAULT_TUMORS, \n",
    "    tcells=DEFAULT_TCELLS, \n",
    "    bounds=[b*units.um for b in bounds], \n",
    "    n_bins=n_bins,\n",
    "    halt_threshold=300,\n",
    "    emit_step=600,\n",
    "    parallel=True,\n",
    ")\n",
    "data;"
   ]
  },
  {
   "cell_type": "code",
   "execution_count": null,
   "metadata": {
    "executionInfo": {
     "elapsed": 808,
     "status": "ok",
     "timestamp": 1614636484186,
     "user": {
      "displayName": "John Wirthlin Hickey",
      "photoUrl": "",
      "userId": "07408315926250182330"
     },
     "user_tz": 480
    },
    "id": "euyujEkIN5dM"
   },
   "outputs": [],
   "source": [
    "data = remove_units(data)\r\n",
    "data;"
   ]
  },
  {
   "cell_type": "code",
   "execution_count": null,
   "metadata": {
    "colab": {
     "base_uri": "https://localhost:8080/",
     "height": 1000
    },
    "executionInfo": {
     "elapsed": 18695,
     "status": "ok",
     "timestamp": 1614636503283,
     "user": {
      "displayName": "John Wirthlin Hickey",
      "photoUrl": "",
      "userId": "07408315926250182330"
     },
     "user_tz": 480
    },
    "id": "qNWGMp967YIm",
    "outputId": "9a76e9f5-3e99-4df4-d6dd-e5096463d39b"
   },
   "outputs": [],
   "source": [
    "#Plot the data using tumor-tcell experiment notebook and save in current directory\n",
    "fig1, fig2, fig3 = plots_suite(data, out_dir = os.getcwd(), bounds=[b*units.um for b in bounds])"
   ]
  },
  {
   "cell_type": "markdown",
   "metadata": {
    "id": "ob54Abe_noQo"
   },
   "source": [
    "#Convert ABM data output to pandas dataframe format"
   ]
  },
  {
   "cell_type": "code",
   "execution_count": null,
   "metadata": {
    "colab": {
     "base_uri": "https://localhost:8080/",
     "height": 450
    },
    "executionInfo": {
     "elapsed": 729,
     "status": "ok",
     "timestamp": 1614636515702,
     "user": {
      "displayName": "John Wirthlin Hickey",
      "photoUrl": "",
      "userId": "07408315926250182330"
     },
     "user_tz": 480
    },
    "id": "MfkKgKx0Nj6v",
    "outputId": "0a035052-ca5c-4b78-f047-6f3adcf64c31"
   },
   "outputs": [],
   "source": [
    "#Convert to initial dataframe\n",
    "df_data = pd.DataFrame(data)\n",
    "\n",
    "\n",
    "#Extract agents from the data\n",
    "df_copy = df_data.copy()\n",
    "df_agents = df_copy.iloc[0,:]\n",
    "agents_dict = df_agents.to_dict()\n",
    "\n",
    "#reformat the dictionary into mulitiindexed dataframe\n",
    "reform_agents = {(level1_key, level2_key): values\n",
    "          for level1_key, level2_dict in agents_dict.items()\n",
    "          for level2_key, values in level2_dict.items()\n",
    "          }\n",
    "df_agents_exp1 = pd.DataFrame(reform_agents)\n",
    "df_agents_multi = df_agents_exp1.T\n",
    "names=['time', 'cell']\n",
    "df_agents_multi.index.set_names(names, inplace=True)\n",
    "\n",
    "\n",
    "#Subset only T cells from all agents\n",
    "df_tcell_agents = df_agents_multi.iloc[df_agents_multi.index.get_level_values('cell').str.contains('tcell'), :]\n",
    "\n",
    "\n",
    "#Subset categories and recombine in T cells\n",
    "df_tcell_trans = df_tcell_agents.T\n",
    "tcell_categories = []\n",
    "\n",
    "#Extract each feature - boundary, internal, neighbors\n",
    "for category in df_tcell_trans.index.values:\n",
    "  df_boundary_sub = df_tcell_trans.loc[category,:]\n",
    "  tcell_boundary_dict = df_boundary_sub.to_dict()\n",
    "  df_boundary_sub2 = pd.DataFrame(tcell_boundary_dict)\n",
    "  tcell_categories.append(df_boundary_sub2.T)\n",
    "\n",
    "#concatenate dataframes\n",
    "tcell_data = pd.concat(tcell_categories, axis=1)\n",
    "\n",
    "\n",
    "#reformat T cell data for plotting\n",
    "tcell_data['IFNg'] = tcell_data['external'].apply(lambda x: x.get('IFNg'))\n",
    "#tcell_data['PD1'] = tcell_data['present'].apply(lambda x: x.get('PD1'))\n",
    "#tcell_data['PDL1'] = tcell_data['accept'].apply(lambda x: x.get('PDL1'))\n",
    "#tcell_data['MHCI'] = tcell_data['accept'].apply(lambda x: x.get('MHCI'))\n",
    "tcell_data['transferable_cytotoxic_packets'] = tcell_data['transfer'].apply(lambda x: x.get('cytotoxic_packets'))\n",
    "tcell_data['X'] = tcell_data['location'].apply(lambda x: x[0])\n",
    "tcell_data['Y'] = tcell_data['location'].apply(lambda x: x[1])\n",
    "tcell_data['MHCI_timer'] = tcell_data['MHCI_timer'].astype(float)\n",
    "#tcell_data['total_cytotoxic_packets'] = tcell_data['total_cytotoxic_packets'].astype(float)\n",
    "\n",
    "#Only select columns of interest\n",
    "tcell_columns = ['MHCI_timer', 'cell_state', 'death',\n",
    "                 'IFNg', 'transferable_cytotoxic_packets', 'X', 'Y']\n",
    "tcell_data_form = tcell_data[tcell_columns]\n",
    "tcell_data_form.index.set_names(names, inplace=True)\n",
    "\n",
    "#Get different death groupings and count total over time\n",
    "death_types_list = list(tcell_data_form['death'].unique())\n",
    "death_types_list.remove(False)\n",
    "for death_type in death_types_list:\n",
    "  tcell_data_form[death_type] = tcell_data_form['death'].apply(lambda x: 1 if x==death_type else 0)\n",
    "  tcell_data_form['total_'+str(death_type)] = tcell_data_form[death_type].cumsum()\n",
    "\n",
    "tcell_data_form"
   ]
  },
  {
   "cell_type": "code",
   "execution_count": null,
   "metadata": {
    "colab": {
     "base_uri": "https://localhost:8080/",
     "height": 450
    },
    "executionInfo": {
     "elapsed": 1292,
     "status": "ok",
     "timestamp": 1614636518045,
     "user": {
      "displayName": "John Wirthlin Hickey",
      "photoUrl": "",
      "userId": "07408315926250182330"
     },
     "user_tz": 480
    },
    "id": "kSqJFlbOYHbp",
    "outputId": "ddf3b82b-317e-4091-fa94-96a30c528fbf"
   },
   "outputs": [],
   "source": [
    "#Subset only Tumor cells from all agents\n",
    "df_tumor_agents = df_agents_multi.iloc[df_agents_multi.index.get_level_values('cell').str.contains('tumor'), :]\n",
    "\n",
    "\n",
    "#Subset categories and recombine in Tumor cells\n",
    "df_tumor_trans = df_tumor_agents.T\n",
    "tumor_categories = []\n",
    "\n",
    "#Extract each feature - boundary, internal, neighbors\n",
    "for category in df_tumor_trans.index.values:\n",
    "  df_boundary_sub = df_tumor_trans.loc[category,:]\n",
    "  tumor_boundary_dict = df_boundary_sub.to_dict()\n",
    "  df_boundary_sub2 = pd.DataFrame(tumor_boundary_dict)\n",
    "  tumor_categories.append(df_boundary_sub2.T)\n",
    "\n",
    "#concatenate dataframes\n",
    "tumor_data = pd.concat(tumor_categories, axis=1)\n",
    "tumor_data;\n",
    "\n",
    "#reformat Tumor cell data for plotting\n",
    "tumor_data['IFNg'] = tumor_data['external'].apply(lambda x: x.get('IFNg'))\n",
    "#tumor_data['PD1'] = tumor_data['accept'].apply(lambda x: x.get('PD1'))\n",
    "#tumor_data['PDL1'] = tumor_data['present'].apply(lambda x: x.get('PDL1'))\n",
    "#tumor_data['MHCI'] = tumor_data['present'].apply(lambda x: x.get('MHCI'))\n",
    "tumor_data['cytotoxic_packets'] = tumor_data['receive'].apply(lambda x: x.get('cytotoxic_packets'))\n",
    "tumor_data['X'] = tumor_data['location'].apply(lambda x: x[0])\n",
    "tumor_data['Y'] = tumor_data['location'].apply(lambda x: x[1])\n",
    "tumor_data['IFNg_timer'] = tumor_data['IFNg_timer'].astype(float)\n",
    "tumor_data.columns\n",
    "\n",
    "#Only select columns of interest\n",
    "tumor_columns = ['IFNg_timer', 'death', 'cell_state', 'IFNg', 'cytotoxic_packets', 'X', 'Y']\n",
    "tumor_data_form = tumor_data[tumor_columns]\n",
    "tumor_data_form.index.set_names(names, inplace=True)\n",
    "\n",
    "#Get different death groupings and count total over time\n",
    "tumor_death_types_list = list(tumor_data_form['death'].unique())\n",
    "tumor_death_types_list.remove(False)\n",
    "for death_type in tumor_death_types_list:\n",
    "  tumor_data_form[death_type] = tumor_data_form['death'].apply(lambda x: 1 if x==death_type else 0)\n",
    "  tumor_data_form['total_'+str(death_type)] = tumor_data_form[death_type].cumsum()\n",
    "\n",
    "tumor_data_form"
   ]
  },
  {
   "cell_type": "code",
   "execution_count": null,
   "metadata": {
    "executionInfo": {
     "elapsed": 243,
     "status": "ok",
     "timestamp": 1614636518487,
     "user": {
      "displayName": "John Wirthlin Hickey",
      "photoUrl": "",
      "userId": "07408315926250182330"
     },
     "user_tz": 480
    },
    "id": "jUjOs9yxgArh"
   },
   "outputs": [],
   "source": [
    "#phylogeny plot?"
   ]
  },
  {
   "cell_type": "markdown",
   "metadata": {
    "id": "V7pTheQfpJsr"
   },
   "source": [
    "#Plotting the Data from the Experiment"
   ]
  },
  {
   "cell_type": "code",
   "execution_count": null,
   "metadata": {
    "colab": {
     "base_uri": "https://localhost:8080/",
     "height": 1000
    },
    "executionInfo": {
     "elapsed": 1730,
     "status": "ok",
     "timestamp": 1614636521895,
     "user": {
      "displayName": "John Wirthlin Hickey",
      "photoUrl": "",
      "userId": "07408315926250182330"
     },
     "user_tz": 480
    },
    "id": "lq5t-X5iYkCm",
    "outputId": "38aad3e9-925f-404c-fe01-eaa887db32fb"
   },
   "outputs": [],
   "source": [
    "#reset index for plotting\n",
    "tcell_plot = tcell_data_form.reset_index()\n",
    "death_types_list_total = ['total_'+ s for s in death_types_list] \n",
    "death_types_list.extend(death_types_list_total)\n",
    "# plot the data to analyze\n",
    "plotting_columns = ['cell', 'MHCI_timer', 'cell_state', 'IFNg', 'transferable_cytotoxic_packets']\n",
    "plotting_columns.extend(death_types_list)\n",
    "for column in plotting_columns:\n",
    "  pl.figure(figsize=(16, 6))\n",
    "  column = sns.lineplot(data=tcell_plot, x=\"time\", y=column, style = 'cell_state', hue=\"cell\", legend = None)"
   ]
  },
  {
   "cell_type": "code",
   "execution_count": null,
   "metadata": {
    "executionInfo": {
     "elapsed": 277,
     "status": "ok",
     "timestamp": 1614636524452,
     "user": {
      "displayName": "John Wirthlin Hickey",
      "photoUrl": "",
      "userId": "07408315926250182330"
     },
     "user_tz": 480
    },
    "id": "aFnkn4KEch7x"
   },
   "outputs": [],
   "source": [
    "#How to extract individual T cells\n",
    "df_divide_T = tcell_plot.drop_duplicates('cell', keep='first')\n",
    "\n",
    "#Get unique agent IDs\n",
    "unique_T_cell = list(df_divide_T.cell.unique())\n",
    "\n",
    "#run phylogeny function\n",
    "phylogeny_T = get_phylogeny(unique_T_cell)\n",
    "\n",
    "# get initial ancestors, daughters, and mothers\n",
    "daughters_T = list(phylogeny_T.values())\n",
    "daughters_T = set([item for sublist in daughters_T for item in sublist])\n",
    "descendents_T = list(daughters_T)\n",
    "mothers_T = set(list(phylogeny_T.keys()))\n",
    "ancestors_T = list(mothers_T - daughters_T)\n",
    "ancestors_T;"
   ]
  },
  {
   "cell_type": "code",
   "execution_count": null,
   "metadata": {
    "colab": {
     "base_uri": "https://localhost:8080/",
     "height": 409
    },
    "executionInfo": {
     "elapsed": 269,
     "status": "error",
     "timestamp": 1614636525384,
     "user": {
      "displayName": "John Wirthlin Hickey",
      "photoUrl": "",
      "userId": "07408315926250182330"
     },
     "user_tz": 480
    },
    "id": "re147lm-nRwi",
    "outputId": "67c7cf21-06be-47b2-db7b-05aede696be0"
   },
   "outputs": [],
   "source": [
    "#Time for plotting cell divisions\n",
    "div_list_T = []\n",
    "for cell in descendents_T:\n",
    "  div = df_divide_T[df_divide_T[\"cell\"] == cell]['time'].min()\n",
    "  div_list_T.append(div)\n",
    "\n",
    "#get unique counts from the list\n",
    "div_counts_T = Counter(div_list_T)\n",
    "divide_time_T = pd.DataFrame.from_dict(div_counts_T, orient='index').reset_index()\n",
    "\n",
    "#convert to dataframe\n",
    "column_names = ['time', 'counts']\n",
    "divide_time_T.columns = column_names\n",
    "\n",
    "#divide counts by 2 because each daughter and original cell is counted twice\n",
    "divide_time_T['counts'] = divide_time_T['counts'] / 2\n",
    "\n",
    "#add 0, 0 initial point\n",
    "divide_time_T.loc[-1] = [0, 0]\n",
    "divide_time_T.index = divide_time_T.index + 1  # shifting index\n",
    "divide_time_T = divide_time_T.sort_values(by = 'time') \n",
    "\n",
    "#accumulate the counts as progresses\n",
    "divide_time_T['total_division'] = divide_time_T.counts.cumsum()\n",
    "\n",
    "pl.figure(figsize=(16, 6))\n",
    "div_cell_T = sns.lineplot(data=divide_time_T, x=\"time\", y='total_division')\n",
    "\n",
    "pl.title(\"# of divisions\")"
   ]
  },
  {
   "cell_type": "code",
   "execution_count": null,
   "metadata": {
    "colab": {
     "base_uri": "https://localhost:8080/",
     "height": 421
    },
    "executionInfo": {
     "elapsed": 607,
     "status": "ok",
     "timestamp": 1614636527913,
     "user": {
      "displayName": "John Wirthlin Hickey",
      "photoUrl": "",
      "userId": "07408315926250182330"
     },
     "user_tz": 480
    },
    "id": "QwZ5LsKTf7Bt",
    "outputId": "43efa001-56b7-4c36-92b0-82c3272b60d7"
   },
   "outputs": [],
   "source": [
    "#Plot total cells and see how changing over time\n",
    "total_tcell = tcell_plot.groupby('time')['cell'].nunique().reset_index()\n",
    "tcell_state = tcell_plot.groupby(['time','cell_state'])['cell'].nunique().reset_index()\n",
    "total_PD1n = tcell_state.loc[tcell_state['cell_state']=='PD1n']\n",
    "total_PD1p = tcell_state.loc[tcell_state['cell_state']=='PD1p']\n",
    "\n",
    "pl.figure(figsize=(16, 6))\n",
    "ttl_tcell = sns.lineplot(data=total_tcell, x=\"time\", y='cell', label = 'total')\n",
    "ttl_PD1n = sns.lineplot(data=total_PD1n, x=\"time\", y='cell', label = 'PD1n')\n",
    "ttl_PD1p = sns.lineplot(data=total_PD1p, x=\"time\", y='cell', label = 'PD1p')\n",
    "\n",
    "pl.title(\"Total T Cells\")\n",
    "pl.legend(title=\"Cell type\")"
   ]
  },
  {
   "cell_type": "code",
   "execution_count": null,
   "metadata": {
    "colab": {
     "base_uri": "https://localhost:8080/",
     "height": 606
    },
    "executionInfo": {
     "elapsed": 1032,
     "status": "ok",
     "timestamp": 1614636529617,
     "user": {
      "displayName": "John Wirthlin Hickey",
      "photoUrl": "",
      "userId": "07408315926250182330"
     },
     "user_tz": 480
    },
    "id": "POuNihnFcLfO",
    "outputId": "92ab15b8-6ebc-4d38-87cb-fe61222304e3"
   },
   "outputs": [],
   "source": [
    "#Spatial\n",
    "pl.figure(figsize=(10, 10))\n",
    "XandY = sns.lineplot(data=tcell_plot, x=\"X\", y=\"Y\", style = 'cell_state', hue=\"cell\", legend = None)"
   ]
  },
  {
   "cell_type": "code",
   "execution_count": null,
   "metadata": {
    "colab": {
     "base_uri": "https://localhost:8080/",
     "height": 1000
    },
    "executionInfo": {
     "elapsed": 14625,
     "status": "ok",
     "timestamp": 1614636545366,
     "user": {
      "displayName": "John Wirthlin Hickey",
      "photoUrl": "",
      "userId": "07408315926250182330"
     },
     "user_tz": 480
    },
    "id": "Cf9oR54DO_AF",
    "outputId": "78dd4f59-33ae-428d-f927-c85d78743a33"
   },
   "outputs": [],
   "source": [
    "#reset index for plotting\n",
    "tumor_plot = tumor_data_form.reset_index()\n",
    "tumor_death_types_list_total = ['total_'+ s for s in tumor_death_types_list] \n",
    "tumor_death_types_list.extend(tumor_death_types_list_total)\n",
    "\n",
    "# plot the data to analyze\n",
    "plotting_columns = ['cell', 'IFNg_timer', 'cell_state', 'IFNg', 'cytotoxic_packets']\n",
    "plotting_columns.extend(tumor_death_types_list)\n",
    "for column in plotting_columns:\n",
    "  pl.figure(figsize=(16, 6))\n",
    "  column = sns.lineplot(data=tumor_plot, x=\"time\", y=column, style = 'cell_state', hue=\"cell\", legend = None)"
   ]
  },
  {
   "cell_type": "code",
   "execution_count": null,
   "metadata": {
    "executionInfo": {
     "elapsed": 450,
     "status": "ok",
     "timestamp": 1614636638809,
     "user": {
      "displayName": "John Wirthlin Hickey",
      "photoUrl": "",
      "userId": "07408315926250182330"
     },
     "user_tz": 480
    },
    "id": "aCdLL-PbtZyr"
   },
   "outputs": [],
   "source": [
    "#How to extract individual tumor cells\n",
    "df_divide_tumor = tumor_plot.drop_duplicates('cell', keep='first')\n",
    "\n",
    "#Get unique agent IDs\n",
    "unique_tumor_cell = list(df_divide_tumor.cell.unique())\n",
    "\n",
    "#run phylogeny function\n",
    "phylogeny_tumor = get_phylogeny(unique_tumor_cell)\n",
    "\n",
    "# get initial ancestors, daughters, and mothers\n",
    "daughters_tumor = list(phylogeny_tumor.values())\n",
    "daughters_tumor = set([item for sublist in daughters_tumor for item in sublist])\n",
    "descendents_tumor = list(daughters_tumor)\n",
    "mothers_tumor = set(list(phylogeny_tumor.keys()))\n",
    "ancestors_tumor = list(mothers_tumor - daughters_tumor)\n",
    "descendents_tumor;"
   ]
  },
  {
   "cell_type": "code",
   "execution_count": null,
   "metadata": {
    "colab": {
     "base_uri": "https://localhost:8080/",
     "height": 421
    },
    "executionInfo": {
     "elapsed": 829,
     "status": "ok",
     "timestamp": 1614636640075,
     "user": {
      "displayName": "John Wirthlin Hickey",
      "photoUrl": "",
      "userId": "07408315926250182330"
     },
     "user_tz": 480
    },
    "id": "f6AY68QVsvAT",
    "outputId": "ee7f676d-beec-452e-8622-02d0af36d66f"
   },
   "outputs": [],
   "source": [
    "#Time for plotting cell divisions\n",
    "div_list_tumor = []\n",
    "for cell in descendents_tumor:\n",
    "  div = df_divide_tumor[df_divide_tumor[\"cell\"] == cell]['time'].min()\n",
    "  div_list_tumor.append(div)\n",
    "\n",
    "#get unique counts from the list\n",
    "div_counts_tumor = Counter(div_list_tumor)\n",
    "divide_time_tumor = pd.DataFrame.from_dict(div_counts_tumor, orient='index').reset_index()\n",
    "\n",
    "#convert to dataframe\n",
    "column_names = ['time', 'counts']\n",
    "divide_time_tumor.columns = column_names\n",
    "\n",
    "#divide counts by 2 because each daughter and original cell is counted twice\n",
    "divide_time_tumor['counts'] = divide_time_tumor['counts'] / 2\n",
    "\n",
    "#add 0, 0 initial point\n",
    "divide_time_tumor.loc[-1] = [0, 0]\n",
    "divide_time_tumor.index = divide_time_tumor.index + 1  # shifting index\n",
    "divide_time_tumor = divide_time_tumor.sort_values(by = 'time') \n",
    "\n",
    "#accumulate the counts as progresses\n",
    "divide_time_tumor['total_division'] = divide_time_tumor.counts.cumsum()\n",
    "\n",
    "pl.figure(figsize=(16, 6))\n",
    "div_cell_tumor = sns.lineplot(data=divide_time_tumor, x=\"time\", y='total_division')\n",
    "\n",
    "pl.title(\"# of divisions\")"
   ]
  },
  {
   "cell_type": "code",
   "execution_count": null,
   "metadata": {
    "colab": {
     "base_uri": "https://localhost:8080/",
     "height": 421
    },
    "executionInfo": {
     "elapsed": 690,
     "status": "ok",
     "timestamp": 1614636641600,
     "user": {
      "displayName": "John Wirthlin Hickey",
      "photoUrl": "",
      "userId": "07408315926250182330"
     },
     "user_tz": 480
    },
    "id": "M7lYLfk9edA1",
    "outputId": "0d2147e1-617b-4cf3-8d04-417b716f90dd"
   },
   "outputs": [],
   "source": [
    "#Plot total cells and see how changing over time\n",
    "total_tumor = tumor_plot.groupby('time')['cell'].nunique().reset_index()\n",
    "tumor_state = tumor_plot.groupby(['time','cell_state'])['cell'].nunique().reset_index()\n",
    "total_PDL1n = tumor_state.loc[tumor_state['cell_state']=='PDL1n']\n",
    "total_PDL1p = tumor_state.loc[tumor_state['cell_state']=='PDL1p']\n",
    "\n",
    "pl.figure(figsize=(16, 6))\n",
    "ttl_tumorcell = sns.lineplot(data=total_tumor, x=\"time\", y='cell', label = 'total')\n",
    "ttl_PDL1n = sns.lineplot(data=total_PDL1n, x=\"time\", y='cell', label = 'PDL1n')\n",
    "ttl_PDL1p = sns.lineplot(data=total_PDL1p, x=\"time\", y='cell', label = 'PDL1p')\n",
    "\n",
    "pl.title(\"Total Tumor Cells\")\n",
    "pl.legend(title=\"Cell type\")"
   ]
  },
  {
   "cell_type": "markdown",
   "metadata": {
    "id": "FlliW-9VsP0F"
   },
   "source": [
    "#Spatial Widget"
   ]
  },
  {
   "cell_type": "code",
   "execution_count": null,
   "metadata": {
    "colab": {
     "base_uri": "https://localhost:8080/",
     "height": 328,
     "referenced_widgets": [
      "5a582f9b88554fa7b6bbd0926cc706ff",
      "3f5274ab59e14c838f876186b74e7589",
      "12d250d4f3a64c2eac4a913ff70c7052",
      "1e58dbece1c64e48b6bd447276eb4a4e",
      "dfd5a5db84c74994870f7d3176f72662",
      "2a8ecbbecd39403e96af4cad2f9381e1",
      "7ea3b20bb63b4149a5da8283f553d358"
     ]
    },
    "executionInfo": {
     "elapsed": 733,
     "status": "ok",
     "timestamp": 1614636660538,
     "user": {
      "displayName": "John Wirthlin Hickey",
      "photoUrl": "",
      "userId": "07408315926250182330"
     },
     "user_tz": 480
    },
    "id": "0VgzVpzltmya",
    "outputId": "1c089592-cf78-4603-9690-5114ef6a4970"
   },
   "outputs": [],
   "source": [
    "from ipywidgets import interact, interactive, fixed, interact_manual\n",
    "import ipywidgets as widgets\n",
    "%matplotlib inline\n",
    "\n",
    "def plot_func(time):\n",
    "    x = tcell_plot[tcell_plot['time']<=time]['X']\n",
    "    y = tcell_plot[tcell_plot['time']<=time]['Y']\n",
    "    data_t = tcell_plot[tcell_plot['time']<=time]\n",
    "    xandy = sns.lineplot(data=data_t, x=x, y=y, hue = 'cell_state', style = 'cell', legend = None)\n",
    "    pl.show()\n",
    "\n",
    "interact(plot_func, time = widgets.FloatSlider(value=0,\n",
    "                                               min=0,\n",
    "                                               max=10000,\n",
    "                                               step=60))"
   ]
  },
  {
   "cell_type": "code",
   "execution_count": null,
   "metadata": {
    "colab": {
     "base_uri": "https://localhost:8080/"
    },
    "executionInfo": {
     "elapsed": 339,
     "status": "ok",
     "timestamp": 1614636660538,
     "user": {
      "displayName": "John Wirthlin Hickey",
      "photoUrl": "",
      "userId": "07408315926250182330"
     },
     "user_tz": 480
    },
    "id": "n_uCMVtnI9AO",
    "outputId": "4a3d69d2-4a51-4d96-c8d0-c3e953abbaed"
   },
   "outputs": [],
   "source": [
    "tcell_plot.X.min()"
   ]
  },
  {
   "cell_type": "code",
   "execution_count": null,
   "metadata": {
    "colab": {
     "base_uri": "https://localhost:8080/"
    },
    "executionInfo": {
     "elapsed": 434,
     "status": "ok",
     "timestamp": 1614636661218,
     "user": {
      "displayName": "John Wirthlin Hickey",
      "photoUrl": "",
      "userId": "07408315926250182330"
     },
     "user_tz": 480
    },
    "id": "HN8SIeT6JgRc",
    "outputId": "83037316-1ad4-4586-fc53-cb500afa57e5"
   },
   "outputs": [],
   "source": [
    "tcell_plot.Y.min()"
   ]
  },
  {
   "cell_type": "code",
   "execution_count": null,
   "metadata": {
    "id": "xg9lDDdpJl-I"
   },
   "outputs": [],
   "source": [
    "#tcell_plot.to_csv(ROOT + '/My Drive/Research/TNT/ABM_CODEX/Scripts_Data/'+'tcell_neg_data.csv')"
   ]
  },
  {
   "cell_type": "code",
   "execution_count": null,
   "metadata": {
    "id": "iBpee7KhLgat"
   },
   "outputs": [],
   "source": []
  }
 ],
 "metadata": {
  "colab": {
   "collapsed_sections": [],
   "name": "21_03_ABM_CODEX_exp.ipynb",
   "provenance": [
    {
     "file_id": "10dSbwG2FL77SqkiZ-GGrCYRR2KaVHtsh",
     "timestamp": 1614633368744
    }
   ]
  },
  "environment": {
   "name": "common-cpu.m65",
   "type": "gcloud",
   "uri": "gcr.io/deeplearning-platform-release/base-cpu:m65"
  },
  "kernelspec": {
   "display_name": "Python 3",
   "language": "python",
   "name": "python3"
  },
  "language_info": {
   "codemirror_mode": {
    "name": "ipython",
    "version": 3
   },
   "file_extension": ".py",
   "mimetype": "text/x-python",
   "name": "python",
   "nbconvert_exporter": "python",
   "pygments_lexer": "ipython3",
   "version": "3.7.10"
  },
  "widgets": {
   "application/vnd.jupyter.widget-state+json": {
    "12d250d4f3a64c2eac4a913ff70c7052": {
     "model_module": "@jupyter-widgets/controls",
     "model_name": "FloatSliderModel",
     "state": {
      "_dom_classes": [],
      "_model_module": "@jupyter-widgets/controls",
      "_model_module_version": "1.5.0",
      "_model_name": "FloatSliderModel",
      "_view_count": null,
      "_view_module": "@jupyter-widgets/controls",
      "_view_module_version": "1.5.0",
      "_view_name": "FloatSliderView",
      "continuous_update": true,
      "description": "time",
      "description_tooltip": null,
      "disabled": false,
      "layout": "IPY_MODEL_2a8ecbbecd39403e96af4cad2f9381e1",
      "max": 10000,
      "min": 0,
      "orientation": "horizontal",
      "readout": true,
      "readout_format": ".2f",
      "step": 60,
      "style": "IPY_MODEL_dfd5a5db84c74994870f7d3176f72662",
      "value": 9960
     }
    },
    "1e58dbece1c64e48b6bd447276eb4a4e": {
     "model_module": "@jupyter-widgets/output",
     "model_name": "OutputModel",
     "state": {
      "_dom_classes": [],
      "_model_module": "@jupyter-widgets/output",
      "_model_module_version": "1.0.0",
      "_model_name": "OutputModel",
      "_view_count": null,
      "_view_module": "@jupyter-widgets/output",
      "_view_module_version": "1.0.0",
      "_view_name": "OutputView",
      "layout": "IPY_MODEL_7ea3b20bb63b4149a5da8283f553d358",
      "msg_id": "",
      "outputs": [
       {
        "image/png": "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\n",
        "metadata": {
         "needs_background": "light",
         "tags": []
        },
        "output_type": "display_data",
        "text/plain": "<Figure size 432x288 with 1 Axes>"
       }
      ]
     }
    },
    "2a8ecbbecd39403e96af4cad2f9381e1": {
     "model_module": "@jupyter-widgets/base",
     "model_name": "LayoutModel",
     "state": {
      "_model_module": "@jupyter-widgets/base",
      "_model_module_version": "1.2.0",
      "_model_name": "LayoutModel",
      "_view_count": null,
      "_view_module": "@jupyter-widgets/base",
      "_view_module_version": "1.2.0",
      "_view_name": "LayoutView",
      "align_content": null,
      "align_items": null,
      "align_self": null,
      "border": null,
      "bottom": null,
      "display": null,
      "flex": null,
      "flex_flow": null,
      "grid_area": null,
      "grid_auto_columns": null,
      "grid_auto_flow": null,
      "grid_auto_rows": null,
      "grid_column": null,
      "grid_gap": null,
      "grid_row": null,
      "grid_template_areas": null,
      "grid_template_columns": null,
      "grid_template_rows": null,
      "height": null,
      "justify_content": null,
      "justify_items": null,
      "left": null,
      "margin": null,
      "max_height": null,
      "max_width": null,
      "min_height": null,
      "min_width": null,
      "object_fit": null,
      "object_position": null,
      "order": null,
      "overflow": null,
      "overflow_x": null,
      "overflow_y": null,
      "padding": null,
      "right": null,
      "top": null,
      "visibility": null,
      "width": null
     }
    },
    "3f5274ab59e14c838f876186b74e7589": {
     "model_module": "@jupyter-widgets/base",
     "model_name": "LayoutModel",
     "state": {
      "_model_module": "@jupyter-widgets/base",
      "_model_module_version": "1.2.0",
      "_model_name": "LayoutModel",
      "_view_count": null,
      "_view_module": "@jupyter-widgets/base",
      "_view_module_version": "1.2.0",
      "_view_name": "LayoutView",
      "align_content": null,
      "align_items": null,
      "align_self": null,
      "border": null,
      "bottom": null,
      "display": null,
      "flex": null,
      "flex_flow": null,
      "grid_area": null,
      "grid_auto_columns": null,
      "grid_auto_flow": null,
      "grid_auto_rows": null,
      "grid_column": null,
      "grid_gap": null,
      "grid_row": null,
      "grid_template_areas": null,
      "grid_template_columns": null,
      "grid_template_rows": null,
      "height": null,
      "justify_content": null,
      "justify_items": null,
      "left": null,
      "margin": null,
      "max_height": null,
      "max_width": null,
      "min_height": null,
      "min_width": null,
      "object_fit": null,
      "object_position": null,
      "order": null,
      "overflow": null,
      "overflow_x": null,
      "overflow_y": null,
      "padding": null,
      "right": null,
      "top": null,
      "visibility": null,
      "width": null
     }
    },
    "5a582f9b88554fa7b6bbd0926cc706ff": {
     "model_module": "@jupyter-widgets/controls",
     "model_name": "VBoxModel",
     "state": {
      "_dom_classes": [
       "widget-interact"
      ],
      "_model_module": "@jupyter-widgets/controls",
      "_model_module_version": "1.5.0",
      "_model_name": "VBoxModel",
      "_view_count": null,
      "_view_module": "@jupyter-widgets/controls",
      "_view_module_version": "1.5.0",
      "_view_name": "VBoxView",
      "box_style": "",
      "children": [
       "IPY_MODEL_12d250d4f3a64c2eac4a913ff70c7052",
       "IPY_MODEL_1e58dbece1c64e48b6bd447276eb4a4e"
      ],
      "layout": "IPY_MODEL_3f5274ab59e14c838f876186b74e7589"
     }
    },
    "7ea3b20bb63b4149a5da8283f553d358": {
     "model_module": "@jupyter-widgets/base",
     "model_name": "LayoutModel",
     "state": {
      "_model_module": "@jupyter-widgets/base",
      "_model_module_version": "1.2.0",
      "_model_name": "LayoutModel",
      "_view_count": null,
      "_view_module": "@jupyter-widgets/base",
      "_view_module_version": "1.2.0",
      "_view_name": "LayoutView",
      "align_content": null,
      "align_items": null,
      "align_self": null,
      "border": null,
      "bottom": null,
      "display": null,
      "flex": null,
      "flex_flow": null,
      "grid_area": null,
      "grid_auto_columns": null,
      "grid_auto_flow": null,
      "grid_auto_rows": null,
      "grid_column": null,
      "grid_gap": null,
      "grid_row": null,
      "grid_template_areas": null,
      "grid_template_columns": null,
      "grid_template_rows": null,
      "height": null,
      "justify_content": null,
      "justify_items": null,
      "left": null,
      "margin": null,
      "max_height": null,
      "max_width": null,
      "min_height": null,
      "min_width": null,
      "object_fit": null,
      "object_position": null,
      "order": null,
      "overflow": null,
      "overflow_x": null,
      "overflow_y": null,
      "padding": null,
      "right": null,
      "top": null,
      "visibility": null,
      "width": null
     }
    },
    "dfd5a5db84c74994870f7d3176f72662": {
     "model_module": "@jupyter-widgets/controls",
     "model_name": "SliderStyleModel",
     "state": {
      "_model_module": "@jupyter-widgets/controls",
      "_model_module_version": "1.5.0",
      "_model_name": "SliderStyleModel",
      "_view_count": null,
      "_view_module": "@jupyter-widgets/base",
      "_view_module_version": "1.2.0",
      "_view_name": "StyleView",
      "description_width": "",
      "handle_color": null
     }
    }
   }
  }
 },
 "nbformat": 4,
 "nbformat_minor": 4
}
