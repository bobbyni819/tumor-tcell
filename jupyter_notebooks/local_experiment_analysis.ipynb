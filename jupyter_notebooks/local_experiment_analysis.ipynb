{
 "cells": [
  {
   "cell_type": "markdown",
   "metadata": {
    "id": "iemTysKanIp1"
   },
   "source": [
    "#Format Data for Experiment in ABM environment"
   ]
  },
  {
   "cell_type": "code",
   "execution_count": 1,
   "metadata": {
    "executionInfo": {
     "elapsed": 1123,
     "status": "ok",
     "timestamp": 1617811204750,
     "user": {
      "displayName": "John Wirthlin Hickey",
      "photoUrl": "",
      "userId": "07408315926250182330"
     },
     "user_tz": 420
    },
    "id": "cT4WUWr_WNy9"
   },
   "outputs": [
    {
     "name": "stdout",
     "output_type": "stream",
     "text": [
      "Loading chipmunk for Linux (64bit) [/mnt/c/Users/akoya-stanford/Python_Code/tumor-tcell/vivarium_env/lib/python3.8/site-packages/pymunk/libchipmunk.so]\n"
     ]
    }
   ],
   "source": [
    "#Import Packages\n",
    "#Needed for moving to output\n",
    "import numpy as np\n",
    "import pandas as pd\n",
    "import os\n",
    "import seaborn as sns\n",
    "import matplotlib.pyplot as pl\n",
    "import itertools\n",
    "from collections import Counter\n",
    "import pickle\n",
    "\n",
    "from vivarium.library.units import units, remove_units\n",
    "from tumor_tcell.library.phylogeny import get_phylogeny\n",
    "from tumor_tcell.experiments.main import plots_suite"
   ]
  },
  {
   "cell_type": "code",
   "execution_count": 2,
   "metadata": {},
   "outputs": [
    {
     "data": {
      "text/plain": [
       "'/mnt/c/Users/akoya-stanford/Python_Code/tumor-tcell/out/analysis/tumor_tcell_20210415.165209'"
      ]
     },
     "execution_count": 2,
     "metadata": {},
     "output_type": "execute_result"
    }
   ],
   "source": [
    "#Read in the data from parent directory\n",
    "analysis_dir = '/mnt/c/Users/akoya-stanford/Python_Code/tumor-tcell/out/analysis/'\n",
    "experiment_id = 'tumor_tcell_20210415.165209/'\n",
    "experiment_dir = analysis_dir+experiment_id\n",
    "os.chdir(experiment_dir)\n",
    "os.getcwd()"
   ]
  },
  {
   "cell_type": "code",
   "execution_count": 3,
   "metadata": {
    "colab": {
     "base_uri": "https://localhost:8080/",
     "height": 450
    },
    "executionInfo": {
     "elapsed": 6197,
     "status": "ok",
     "timestamp": 1617811238430,
     "user": {
      "displayName": "John Wirthlin Hickey",
      "photoUrl": "",
      "userId": "07408315926250182330"
     },
     "user_tz": 420
    },
    "id": "WaES9C5kv-9c",
    "outputId": "89122bc1-db77-429c-f7cd-9ee93bf9fddd"
   },
   "outputs": [],
   "source": [
    "file_to_read = open(\"data_export.pkl\", \"rb\")\n",
    "data = pickle.load(file_to_read)\n",
    "data;"
   ]
  },
  {
   "cell_type": "code",
   "execution_count": 4,
   "metadata": {
    "colab": {
     "base_uri": "https://localhost:8080/",
     "height": 933
    },
    "executionInfo": {
     "elapsed": 25810,
     "status": "ok",
     "timestamp": 1617815484866,
     "user": {
      "displayName": "John Wirthlin Hickey",
      "photoUrl": "",
      "userId": "07408315926250182330"
     },
     "user_tz": 420
    },
    "id": "qNWGMp967YIm",
    "outputId": "cc04bb84-1638-4ae4-a72c-444a16f77509"
   },
   "outputs": [],
   "source": [
    "# #Plot the data using tumor-tcell experiment notebook and save in current directory\n",
    "# bounds = [75,75]\n",
    "figures_out_dir = experiment_dir + 'figures'\n",
    "os.makedirs(figures_out_dir, exist_ok=True)\n",
    "# fig1, fig2, fig3 = plots_suite(data, out_dir = figures_out_dir, bounds=[b*units.um for b in bounds])"
   ]
  },
  {
   "cell_type": "markdown",
   "metadata": {
    "id": "ob54Abe_noQo"
   },
   "source": [
    "#Convert ABM data output to pandas dataframe format"
   ]
  },
  {
   "cell_type": "code",
   "execution_count": 5,
   "metadata": {
    "colab": {
     "base_uri": "https://localhost:8080/",
     "height": 450
    },
    "executionInfo": {
     "elapsed": 18830,
     "status": "ok",
     "timestamp": 1617814591250,
     "user": {
      "displayName": "John Wirthlin Hickey",
      "photoUrl": "",
      "userId": "07408315926250182330"
     },
     "user_tz": 420
    },
    "id": "MfkKgKx0Nj6v",
    "outputId": "28287ada-e350-42bb-e906-21f3a0536f29"
   },
   "outputs": [
    {
     "data": {
      "text/html": [
       "<div>\n",
       "<style scoped>\n",
       "    .dataframe tbody tr th:only-of-type {\n",
       "        vertical-align: middle;\n",
       "    }\n",
       "\n",
       "    .dataframe tbody tr th {\n",
       "        vertical-align: top;\n",
       "    }\n",
       "\n",
       "    .dataframe thead th {\n",
       "        text-align: right;\n",
       "    }\n",
       "</style>\n",
       "<table border=\"1\" class=\"dataframe\">\n",
       "  <thead>\n",
       "    <tr style=\"text-align: right;\">\n",
       "      <th></th>\n",
       "      <th></th>\n",
       "      <th>cell_state</th>\n",
       "      <th>IFNg</th>\n",
       "      <th>TCR</th>\n",
       "      <th>velocity</th>\n",
       "      <th>transferable_cytotoxic_packets</th>\n",
       "      <th>X</th>\n",
       "      <th>Y</th>\n",
       "    </tr>\n",
       "    <tr>\n",
       "      <th>time</th>\n",
       "      <th>cell</th>\n",
       "      <th></th>\n",
       "      <th></th>\n",
       "      <th></th>\n",
       "      <th></th>\n",
       "      <th></th>\n",
       "      <th></th>\n",
       "      <th></th>\n",
       "    </tr>\n",
       "  </thead>\n",
       "  <tbody>\n",
       "    <tr>\n",
       "      <th rowspan=\"3\" valign=\"top\">0.0</th>\n",
       "      <th>tcell_0</th>\n",
       "      <td>PD1p</td>\n",
       "      <td>0.000000</td>\n",
       "      <td>50000</td>\n",
       "      <td>10.0 micrometer / minute</td>\n",
       "      <td>0.0</td>\n",
       "      <td>29.700695344117868 micrometer</td>\n",
       "      <td>15.734868045097201 micrometer</td>\n",
       "    </tr>\n",
       "    <tr>\n",
       "      <th>tcell_1</th>\n",
       "      <td>PD1n</td>\n",
       "      <td>0.000000</td>\n",
       "      <td>50000</td>\n",
       "      <td>10.0 micrometer / minute</td>\n",
       "      <td>0.0</td>\n",
       "      <td>21.15733761002662 micrometer</td>\n",
       "      <td>17.12100003120723 micrometer</td>\n",
       "    </tr>\n",
       "    <tr>\n",
       "      <th>tcell_2</th>\n",
       "      <td>PD1n</td>\n",
       "      <td>0.000000</td>\n",
       "      <td>50000</td>\n",
       "      <td>10.0 micrometer / minute</td>\n",
       "      <td>0.0</td>\n",
       "      <td>28.901564380051088 micrometer</td>\n",
       "      <td>28.887399376242758 micrometer</td>\n",
       "    </tr>\n",
       "    <tr>\n",
       "      <th rowspan=\"2\" valign=\"top\">60.0</th>\n",
       "      <th>tcell_0</th>\n",
       "      <td>PD1p</td>\n",
       "      <td>0.997436</td>\n",
       "      <td>50000</td>\n",
       "      <td>0.0 micrometer / minute</td>\n",
       "      <td>0.0</td>\n",
       "      <td>26.35000000149012 micrometer</td>\n",
       "      <td>5.374918223986101 micrometer</td>\n",
       "    </tr>\n",
       "    <tr>\n",
       "      <th>tcell_1</th>\n",
       "      <td>PD1n</td>\n",
       "      <td>0.997436</td>\n",
       "      <td>50000</td>\n",
       "      <td>0.0 micrometer / minute</td>\n",
       "      <td>0.0</td>\n",
       "      <td>18.540110651229465 micrometer</td>\n",
       "      <td>5.463852644612405 micrometer</td>\n",
       "    </tr>\n",
       "    <tr>\n",
       "      <th>...</th>\n",
       "      <th>...</th>\n",
       "      <td>...</td>\n",
       "      <td>...</td>\n",
       "      <td>...</td>\n",
       "      <td>...</td>\n",
       "      <td>...</td>\n",
       "      <td>...</td>\n",
       "      <td>...</td>\n",
       "    </tr>\n",
       "    <tr>\n",
       "      <th rowspan=\"5\" valign=\"top\">50400.0</th>\n",
       "      <th>tcell_1ABB</th>\n",
       "      <td>PD1n</td>\n",
       "      <td>0.000027</td>\n",
       "      <td>50000</td>\n",
       "      <td>0.0 micrometer / minute</td>\n",
       "      <td>0.0</td>\n",
       "      <td>29.491338571275026 micrometer</td>\n",
       "      <td>15.681963593859582 micrometer</td>\n",
       "    </tr>\n",
       "    <tr>\n",
       "      <th>tcell_2AA</th>\n",
       "      <td>PD1n</td>\n",
       "      <td>0.000027</td>\n",
       "      <td>50000</td>\n",
       "      <td>0.0 micrometer / minute</td>\n",
       "      <td>0.0</td>\n",
       "      <td>23.18967616690053 micrometer</td>\n",
       "      <td>26.35000000149012 micrometer</td>\n",
       "    </tr>\n",
       "    <tr>\n",
       "      <th>tcell_2AB</th>\n",
       "      <td>PD1n</td>\n",
       "      <td>0.000027</td>\n",
       "      <td>50000</td>\n",
       "      <td>0.0 micrometer / minute</td>\n",
       "      <td>0.0</td>\n",
       "      <td>27.54843950296285 micrometer</td>\n",
       "      <td>22.143389200643426 micrometer</td>\n",
       "    </tr>\n",
       "    <tr>\n",
       "      <th>tcell_1ABAA</th>\n",
       "      <td>PD1n</td>\n",
       "      <td>0.000027</td>\n",
       "      <td>50000</td>\n",
       "      <td>0.0 micrometer / minute</td>\n",
       "      <td>0.0</td>\n",
       "      <td>27.885163751535675 micrometer</td>\n",
       "      <td>3.0756659620041185 micrometer</td>\n",
       "    </tr>\n",
       "    <tr>\n",
       "      <th>tcell_1ABAB</th>\n",
       "      <td>PD1n</td>\n",
       "      <td>0.000027</td>\n",
       "      <td>50000</td>\n",
       "      <td>0.0 micrometer / minute</td>\n",
       "      <td>0.0</td>\n",
       "      <td>27.6444188704856 micrometer</td>\n",
       "      <td>8.493867921194715 micrometer</td>\n",
       "    </tr>\n",
       "  </tbody>\n",
       "</table>\n",
       "<p>3831 rows × 7 columns</p>\n",
       "</div>"
      ],
      "text/plain": [
       "                    cell_state      IFNg    TCR                  velocity  \\\n",
       "time    cell                                                                \n",
       "0.0     tcell_0           PD1p  0.000000  50000  10.0 micrometer / minute   \n",
       "        tcell_1           PD1n  0.000000  50000  10.0 micrometer / minute   \n",
       "        tcell_2           PD1n  0.000000  50000  10.0 micrometer / minute   \n",
       "60.0    tcell_0           PD1p  0.997436  50000   0.0 micrometer / minute   \n",
       "        tcell_1           PD1n  0.997436  50000   0.0 micrometer / minute   \n",
       "...                        ...       ...    ...                       ...   \n",
       "50400.0 tcell_1ABB        PD1n  0.000027  50000   0.0 micrometer / minute   \n",
       "        tcell_2AA         PD1n  0.000027  50000   0.0 micrometer / minute   \n",
       "        tcell_2AB         PD1n  0.000027  50000   0.0 micrometer / minute   \n",
       "        tcell_1ABAA       PD1n  0.000027  50000   0.0 micrometer / minute   \n",
       "        tcell_1ABAB       PD1n  0.000027  50000   0.0 micrometer / minute   \n",
       "\n",
       "                     transferable_cytotoxic_packets  \\\n",
       "time    cell                                          \n",
       "0.0     tcell_0                                 0.0   \n",
       "        tcell_1                                 0.0   \n",
       "        tcell_2                                 0.0   \n",
       "60.0    tcell_0                                 0.0   \n",
       "        tcell_1                                 0.0   \n",
       "...                                             ...   \n",
       "50400.0 tcell_1ABB                              0.0   \n",
       "        tcell_2AA                               0.0   \n",
       "        tcell_2AB                               0.0   \n",
       "        tcell_1ABAA                             0.0   \n",
       "        tcell_1ABAB                             0.0   \n",
       "\n",
       "                                                 X  \\\n",
       "time    cell                                         \n",
       "0.0     tcell_0      29.700695344117868 micrometer   \n",
       "        tcell_1       21.15733761002662 micrometer   \n",
       "        tcell_2      28.901564380051088 micrometer   \n",
       "60.0    tcell_0       26.35000000149012 micrometer   \n",
       "        tcell_1      18.540110651229465 micrometer   \n",
       "...                                            ...   \n",
       "50400.0 tcell_1ABB   29.491338571275026 micrometer   \n",
       "        tcell_2AA     23.18967616690053 micrometer   \n",
       "        tcell_2AB     27.54843950296285 micrometer   \n",
       "        tcell_1ABAA  27.885163751535675 micrometer   \n",
       "        tcell_1ABAB    27.6444188704856 micrometer   \n",
       "\n",
       "                                                 Y  \n",
       "time    cell                                        \n",
       "0.0     tcell_0      15.734868045097201 micrometer  \n",
       "        tcell_1       17.12100003120723 micrometer  \n",
       "        tcell_2      28.887399376242758 micrometer  \n",
       "60.0    tcell_0       5.374918223986101 micrometer  \n",
       "        tcell_1       5.463852644612405 micrometer  \n",
       "...                                            ...  \n",
       "50400.0 tcell_1ABB   15.681963593859582 micrometer  \n",
       "        tcell_2AA     26.35000000149012 micrometer  \n",
       "        tcell_2AB    22.143389200643426 micrometer  \n",
       "        tcell_1ABAA  3.0756659620041185 micrometer  \n",
       "        tcell_1ABAB   8.493867921194715 micrometer  \n",
       "\n",
       "[3831 rows x 7 columns]"
      ]
     },
     "execution_count": 5,
     "metadata": {},
     "output_type": "execute_result"
    }
   ],
   "source": [
    "#Convert to initial dataframe\n",
    "df_data = pd.DataFrame(data)\n",
    "\n",
    "\n",
    "#Extract agents from the data\n",
    "df_copy = df_data.copy()\n",
    "df_agents = df_copy.iloc[0,:]\n",
    "agents_dict = df_agents.to_dict()\n",
    "\n",
    "#reformat the dictionary into mulitiindexed dataframe\n",
    "reform_agents = {(level1_key, level2_key): values\n",
    "          for level1_key, level2_dict in agents_dict.items()\n",
    "          for level2_key, values in level2_dict.items()\n",
    "          }\n",
    "df_agents_exp1 = pd.DataFrame(reform_agents)\n",
    "df_agents_multi = df_agents_exp1.T\n",
    "names=['time', 'cell']\n",
    "df_agents_multi.index.set_names(names, inplace=True)\n",
    "\n",
    "\n",
    "#Subset only T cells from all agents\n",
    "df_tcell_agents = df_agents_multi.iloc[df_agents_multi.index.get_level_values('cell').str.contains('tcell'), :]\n",
    "\n",
    "\n",
    "#Subset categories and recombine in T cells\n",
    "df_tcell_trans = df_tcell_agents.T\n",
    "tcell_categories = []\n",
    "\n",
    "#Extract each feature - boundary, internal, neighbors\n",
    "for category in df_tcell_trans.index.values:\n",
    "  df_boundary_sub = df_tcell_trans.loc[category,:]\n",
    "  tcell_boundary_dict = df_boundary_sub.to_dict()\n",
    "  df_boundary_sub2 = pd.DataFrame(tcell_boundary_dict)\n",
    "  tcell_categories.append(df_boundary_sub2.T)\n",
    "\n",
    "#concatenate dataframes\n",
    "tcell_data = pd.concat(tcell_categories, axis=1)\n",
    "\n",
    "\n",
    "#reformat T cell data for plotting\n",
    "tcell_data['IFNg'] = tcell_data['external'].apply(lambda x: x.get('IFNg'))\n",
    "tcell_data['transferable_cytotoxic_packets'] = tcell_data['transfer'].apply(lambda x: x.get('cytotoxic_packets'))\n",
    "tcell_data['TCR'] = tcell_data['present'].apply(lambda x: x.get('TCR'))\n",
    "tcell_data['X'] = tcell_data['location'].apply(lambda x: x[0])\n",
    "tcell_data['Y'] = tcell_data['location'].apply(lambda x: x[1])\n",
    "\n",
    "#Only select columns of interest\n",
    "tcell_columns = ['cell_state', 'IFNg', 'TCR', 'velocity', 'transferable_cytotoxic_packets', 'X', 'Y']\n",
    "tcell_data_form = tcell_data[tcell_columns]\n",
    "tcell_data_form.index.set_names(names, inplace=True)\n",
    "\n",
    "tcell_data_form"
   ]
  },
  {
   "cell_type": "code",
   "execution_count": 6,
   "metadata": {
    "colab": {
     "base_uri": "https://localhost:8080/"
    },
    "executionInfo": {
     "elapsed": 30760,
     "status": "ok",
     "timestamp": 1617814608825,
     "user": {
      "displayName": "John Wirthlin Hickey",
      "photoUrl": "",
      "userId": "07408315926250182330"
     },
     "user_tz": 420
    },
    "id": "3lOjqeBjVQe7",
    "outputId": "a1659340-af70-4e5b-dbcb-a71bb6511fa0"
   },
   "outputs": [
    {
     "name": "stderr",
     "output_type": "stream",
     "text": [
      "<ipython-input-6-6c37bd279b4c>:46: SettingWithCopyWarning: \n",
      "A value is trying to be set on a copy of a slice from a DataFrame\n",
      "\n",
      "See the caveats in the documentation: https://pandas.pydata.org/pandas-docs/stable/user_guide/indexing.html#returning-a-view-versus-a-copy\n",
      "  df_tumor_death.sort_values(by=['time'], inplace=True)\n"
     ]
    }
   ],
   "source": [
    "####Extract death log statistics\n",
    "df_death = df_copy.iloc[1,:]\n",
    "death_dict = df_death.to_dict()\n",
    "\n",
    "#reformat the dictionary into mulitiindexed dataframe\n",
    "reform_death = {(level1_key, level2_key): values\n",
    "          for level1_key, level2_dict in death_dict.items()\n",
    "          for level2_key, values in level2_dict.items()}\n",
    "\n",
    "#Make dataframe\n",
    "df_death_exp1 = pd.DataFrame(reform_death)\n",
    "df_death_multi = df_death_exp1.T\n",
    "names=['time', 'cell']\n",
    "df_death_multi.index.set_names(names, inplace=True)\n",
    "df_death_multi.columns = ['time', 'death']\n",
    "\n",
    "#subset only where death is not equal to false\n",
    "df_death_sub = df_death_multi[~(df_death_multi['death'] == False)]\n",
    "\n",
    "#Only get the final log of the death than contains all the death information\n",
    "df_last_death = df_death_sub.loc[df_death_sub.index.levels[0][-1]]\n",
    "\n",
    "#Subset only T cells from all agents\n",
    "df_tcell_death = df_last_death.iloc[df_last_death.index.get_level_values('cell').str.contains('tcell'), :]\n",
    "df_tumor_death = df_last_death.iloc[df_last_death.index.get_level_values('cell').str.contains('tumor'), :]\n",
    "\n",
    "\n",
    "\n",
    "##Do for T cells\n",
    "#sort deaths by time\n",
    "df_tcell_death.sort_values(by=['time'], inplace=True)\n",
    "\n",
    "#Get different death groupings and count total over time\n",
    "death_types_list = list(df_tcell_death['death'].unique())\n",
    "for death_type in death_types_list:\n",
    "  df_tcell_death[death_type] = df_tcell_death['death'].apply(lambda x: 1 if x==death_type else 0)\n",
    "  df_tcell_death['total_'+str(death_type)] = df_tcell_death[death_type].cumsum()\n",
    "\n",
    "#get total death count over time\n",
    "total_col_t = [col for col in df_tcell_death.columns if 'total' in col]\n",
    "df_tcell_death['total_death'] = df_tcell_death[total_col_t].sum(axis = 1)\n",
    "\n",
    "\n",
    "##Do for Tumors\n",
    "#sort deaths by time\n",
    "df_tumor_death.sort_values(by=['time'], inplace=True)\n",
    "\n",
    "#Get different death groupings and count total over time\n",
    "death_types_list = list(df_tumor_death['death'].unique())\n",
    "for death_type in death_types_list:\n",
    "  df_tumor_death[death_type] = df_tumor_death['death'].apply(lambda x: 1 if x==death_type else 0)\n",
    "  df_tumor_death['total_'+str(death_type)] = df_tumor_death[death_type].cumsum()\n",
    "\n",
    "#get total death count over time\n",
    "total_col = [col for col in df_tumor_death.columns if 'total' in col]\n",
    "df_tumor_death['total_death'] = df_tumor_death[total_col].sum(axis = 1)\n",
    "\n",
    "df_tumor_death;"
   ]
  },
  {
   "cell_type": "code",
   "execution_count": 7,
   "metadata": {
    "colab": {
     "base_uri": "https://localhost:8080/",
     "height": 450
    },
    "executionInfo": {
     "elapsed": 78019,
     "status": "ok",
     "timestamp": 1617814657056,
     "user": {
      "displayName": "John Wirthlin Hickey",
      "photoUrl": "",
      "userId": "07408315926250182330"
     },
     "user_tz": 420
    },
    "id": "kSqJFlbOYHbp",
    "outputId": "74b4dc1e-f3e0-4aba-c863-d6884955cb96"
   },
   "outputs": [
    {
     "data": {
      "text/html": [
       "<div>\n",
       "<style scoped>\n",
       "    .dataframe tbody tr th:only-of-type {\n",
       "        vertical-align: middle;\n",
       "    }\n",
       "\n",
       "    .dataframe tbody tr th {\n",
       "        vertical-align: top;\n",
       "    }\n",
       "\n",
       "    .dataframe thead th {\n",
       "        text-align: right;\n",
       "    }\n",
       "</style>\n",
       "<table border=\"1\" class=\"dataframe\">\n",
       "  <thead>\n",
       "    <tr style=\"text-align: right;\">\n",
       "      <th></th>\n",
       "      <th></th>\n",
       "      <th>cell_state</th>\n",
       "      <th>IFNg</th>\n",
       "      <th>TCR_neighbor</th>\n",
       "      <th>cytotoxic_packets</th>\n",
       "      <th>X</th>\n",
       "      <th>Y</th>\n",
       "    </tr>\n",
       "    <tr>\n",
       "      <th>time</th>\n",
       "      <th>cell</th>\n",
       "      <th></th>\n",
       "      <th></th>\n",
       "      <th></th>\n",
       "      <th></th>\n",
       "      <th></th>\n",
       "      <th></th>\n",
       "    </tr>\n",
       "  </thead>\n",
       "  <tbody>\n",
       "    <tr>\n",
       "      <th rowspan=\"3\" valign=\"top\">0.0</th>\n",
       "      <th>tumor_0</th>\n",
       "      <td>PDL1n</td>\n",
       "      <td>0.000000</td>\n",
       "      <td>0.0</td>\n",
       "      <td>0.0</td>\n",
       "      <td>8.631013440824889 micrometer</td>\n",
       "      <td>6.156635255635826 micrometer</td>\n",
       "    </tr>\n",
       "    <tr>\n",
       "      <th>tumor_1</th>\n",
       "      <td>PDL1n</td>\n",
       "      <td>0.000000</td>\n",
       "      <td>0.0</td>\n",
       "      <td>0.0</td>\n",
       "      <td>16.361502640321646 micrometer</td>\n",
       "      <td>27.545959333887684 micrometer</td>\n",
       "    </tr>\n",
       "    <tr>\n",
       "      <th>tumor_2</th>\n",
       "      <td>PDL1n</td>\n",
       "      <td>0.000000</td>\n",
       "      <td>0.0</td>\n",
       "      <td>0.0</td>\n",
       "      <td>22.529429741121298 micrometer</td>\n",
       "      <td>20.177426716195118 micrometer</td>\n",
       "    </tr>\n",
       "    <tr>\n",
       "      <th rowspan=\"2\" valign=\"top\">60.0</th>\n",
       "      <th>tumor_0</th>\n",
       "      <td>PDL1n</td>\n",
       "      <td>0.997436</td>\n",
       "      <td>50000.0</td>\n",
       "      <td>0.0</td>\n",
       "      <td>7.559499231650993 micrometer</td>\n",
       "      <td>7.400001610729659 micrometer</td>\n",
       "    </tr>\n",
       "    <tr>\n",
       "      <th>tumor_1</th>\n",
       "      <td>PDL1n</td>\n",
       "      <td>0.997436</td>\n",
       "      <td>0.0</td>\n",
       "      <td>0.0</td>\n",
       "      <td>9.274296847333856 micrometer</td>\n",
       "      <td>22.60000000149013 micrometer</td>\n",
       "    </tr>\n",
       "    <tr>\n",
       "      <th>...</th>\n",
       "      <th>...</th>\n",
       "      <td>...</td>\n",
       "      <td>...</td>\n",
       "      <td>...</td>\n",
       "      <td>...</td>\n",
       "      <td>...</td>\n",
       "      <td>...</td>\n",
       "    </tr>\n",
       "    <tr>\n",
       "      <th rowspan=\"2\" valign=\"top\">50340.0</th>\n",
       "      <th>tumor_1</th>\n",
       "      <td>PDL1n</td>\n",
       "      <td>0.000027</td>\n",
       "      <td>50000.0</td>\n",
       "      <td>0.0</td>\n",
       "      <td>6.491810469925031 micrometer</td>\n",
       "      <td>23.005494264981934 micrometer</td>\n",
       "    </tr>\n",
       "    <tr>\n",
       "      <th>tumor_2</th>\n",
       "      <td>PDL1n</td>\n",
       "      <td>0.000027</td>\n",
       "      <td>350000.0</td>\n",
       "      <td>0.0</td>\n",
       "      <td>19.14010379684904 micrometer</td>\n",
       "      <td>15.091645931599096 micrometer</td>\n",
       "    </tr>\n",
       "    <tr>\n",
       "      <th rowspan=\"3\" valign=\"top\">50400.0</th>\n",
       "      <th>tumor_0</th>\n",
       "      <td>PDL1n</td>\n",
       "      <td>0.000027</td>\n",
       "      <td>50000.0</td>\n",
       "      <td>0.0</td>\n",
       "      <td>6.755553517885749 micrometer</td>\n",
       "      <td>7.30588783473934 micrometer</td>\n",
       "    </tr>\n",
       "    <tr>\n",
       "      <th>tumor_1</th>\n",
       "      <td>PDL1n</td>\n",
       "      <td>0.000027</td>\n",
       "      <td>50000.0</td>\n",
       "      <td>0.0</td>\n",
       "      <td>6.351296654880101 micrometer</td>\n",
       "      <td>22.984141724235613 micrometer</td>\n",
       "    </tr>\n",
       "    <tr>\n",
       "      <th>tumor_2</th>\n",
       "      <td>PDL1n</td>\n",
       "      <td>0.000027</td>\n",
       "      <td>350000.0</td>\n",
       "      <td>0.0</td>\n",
       "      <td>19.001250101632195 micrometer</td>\n",
       "      <td>15.61770577297416 micrometer</td>\n",
       "    </tr>\n",
       "  </tbody>\n",
       "</table>\n",
       "<p>2523 rows × 6 columns</p>\n",
       "</div>"
      ],
      "text/plain": [
       "                cell_state      IFNg  TCR_neighbor  cytotoxic_packets  \\\n",
       "time    cell                                                            \n",
       "0.0     tumor_0      PDL1n  0.000000           0.0                0.0   \n",
       "        tumor_1      PDL1n  0.000000           0.0                0.0   \n",
       "        tumor_2      PDL1n  0.000000           0.0                0.0   \n",
       "60.0    tumor_0      PDL1n  0.997436       50000.0                0.0   \n",
       "        tumor_1      PDL1n  0.997436           0.0                0.0   \n",
       "...                    ...       ...           ...                ...   \n",
       "50340.0 tumor_1      PDL1n  0.000027       50000.0                0.0   \n",
       "        tumor_2      PDL1n  0.000027      350000.0                0.0   \n",
       "50400.0 tumor_0      PDL1n  0.000027       50000.0                0.0   \n",
       "        tumor_1      PDL1n  0.000027       50000.0                0.0   \n",
       "        tumor_2      PDL1n  0.000027      350000.0                0.0   \n",
       "\n",
       "                                             X                              Y  \n",
       "time    cell                                                                   \n",
       "0.0     tumor_0   8.631013440824889 micrometer   6.156635255635826 micrometer  \n",
       "        tumor_1  16.361502640321646 micrometer  27.545959333887684 micrometer  \n",
       "        tumor_2  22.529429741121298 micrometer  20.177426716195118 micrometer  \n",
       "60.0    tumor_0   7.559499231650993 micrometer   7.400001610729659 micrometer  \n",
       "        tumor_1   9.274296847333856 micrometer   22.60000000149013 micrometer  \n",
       "...                                        ...                            ...  \n",
       "50340.0 tumor_1   6.491810469925031 micrometer  23.005494264981934 micrometer  \n",
       "        tumor_2   19.14010379684904 micrometer  15.091645931599096 micrometer  \n",
       "50400.0 tumor_0   6.755553517885749 micrometer    7.30588783473934 micrometer  \n",
       "        tumor_1   6.351296654880101 micrometer  22.984141724235613 micrometer  \n",
       "        tumor_2  19.001250101632195 micrometer   15.61770577297416 micrometer  \n",
       "\n",
       "[2523 rows x 6 columns]"
      ]
     },
     "execution_count": 7,
     "metadata": {},
     "output_type": "execute_result"
    }
   ],
   "source": [
    "#Subset only Tumor cells from all agents\n",
    "df_tumor_agents = df_agents_multi.iloc[df_agents_multi.index.get_level_values('cell').str.contains('tumor'), :]\n",
    "\n",
    "\n",
    "#Subset categories and recombine in Tumor cells\n",
    "df_tumor_trans = df_tumor_agents.T\n",
    "tumor_categories = []\n",
    "\n",
    "#Extract each feature - boundary, internal, neighbors\n",
    "for category in df_tumor_trans.index.values:\n",
    "  df_boundary_sub = df_tumor_trans.loc[category,:]\n",
    "  tumor_boundary_dict = df_boundary_sub.to_dict()\n",
    "  df_boundary_sub2 = pd.DataFrame(tumor_boundary_dict)\n",
    "  tumor_categories.append(df_boundary_sub2.T)\n",
    "\n",
    "#concatenate dataframes\n",
    "tumor_data = pd.concat(tumor_categories, axis=1)\n",
    "tumor_data;\n",
    "\n",
    "#reformat Tumor cell data for plotting\n",
    "tumor_data['IFNg'] = tumor_data['external'].apply(lambda x: x.get('IFNg'))\n",
    "tumor_data['cytotoxic_packets'] = tumor_data['receive'].apply(lambda x: x.get('cytotoxic_packets'))\n",
    "tumor_data['TCR_neighbor'] = tumor_data['accept'].apply(lambda x: x.get('TCR'))\n",
    "tumor_data['X'] = tumor_data['location'].apply(lambda x: x[0])\n",
    "tumor_data['Y'] = tumor_data['location'].apply(lambda x: x[1])\n",
    "tumor_data.columns\n",
    "\n",
    "#Only select columns of interest\n",
    "tumor_columns = ['cell_state', 'IFNg', 'TCR_neighbor', 'cytotoxic_packets', 'X', 'Y']\n",
    "tumor_data_form = tumor_data[tumor_columns]\n",
    "tumor_data_form.index.set_names(names, inplace=True)\n",
    "\n",
    "tumor_data_form"
   ]
  },
  {
   "cell_type": "code",
   "execution_count": 8,
   "metadata": {
    "executionInfo": {
     "elapsed": 77280,
     "status": "ok",
     "timestamp": 1617814657056,
     "user": {
      "displayName": "John Wirthlin Hickey",
      "photoUrl": "",
      "userId": "07408315926250182330"
     },
     "user_tz": 420
    },
    "id": "jUjOs9yxgArh"
   },
   "outputs": [],
   "source": [
    "#phylogeny plot?"
   ]
  },
  {
   "cell_type": "markdown",
   "metadata": {
    "id": "V7pTheQfpJsr"
   },
   "source": [
    "#Plotting the Data from the Experiment"
   ]
  },
  {
   "cell_type": "code",
   "execution_count": 9,
   "metadata": {},
   "outputs": [],
   "source": [
    "SMALL_SIZE = 18\n",
    "MEDIUM_SIZE = 22\n",
    "BIGGER_SIZE = 24\n",
    "\n",
    "pl.rc('font', size=SMALL_SIZE)          # controls default text sizes\n",
    "pl.rc('axes', titlesize=SMALL_SIZE)     # fontsize of the axes title\n",
    "pl.rc('axes', labelsize=MEDIUM_SIZE)    # fontsize of the x and y labels\n",
    "pl.rc('xtick', labelsize=SMALL_SIZE)    # fontsize of the tick labels\n",
    "pl.rc('ytick', labelsize=SMALL_SIZE)    # fontsize of the tick labels\n",
    "pl.rc('legend', fontsize=SMALL_SIZE)    # legend fontsize\n",
    "pl.rc('figure', titlesize=BIGGER_SIZE)  # fontsize of the figure title"
   ]
  },
  {
   "cell_type": "code",
   "execution_count": 10,
   "metadata": {},
   "outputs": [],
   "source": [
    "os.chdir(figures_out_dir)"
   ]
  },
  {
   "cell_type": "code",
   "execution_count": 11,
   "metadata": {
    "colab": {
     "base_uri": "https://localhost:8080/",
     "height": 1000
    },
    "executionInfo": {
     "elapsed": 80617,
     "status": "ok",
     "timestamp": 1617814661876,
     "user": {
      "displayName": "John Wirthlin Hickey",
      "photoUrl": "",
      "userId": "07408315926250182330"
     },
     "user_tz": 420
    },
    "id": "lq5t-X5iYkCm",
    "outputId": "362d868c-2955-4312-a9f8-5f10da25ca7f"
   },
   "outputs": [
    {
     "data": {
      "image/png": "[encoded data removed]",
      "text/plain": [
       "<Figure size 576x288 with 1 Axes>"
      ]
     },
     "metadata": {
      "needs_background": "light"
     },
     "output_type": "display_data"
    },
    {
     "data": {
      "image/png": "[encoded data removed]",
      "text/plain": [
       "<Figure size 576x288 with 1 Axes>"
      ]
     },
     "metadata": {
      "needs_background": "light"
     },
     "output_type": "display_data"
    },
    {
     "data": {
      "image/png": "[encoded data removed]",
      "text/plain": [
       "<Figure size 576x288 with 1 Axes>"
      ]
     },
     "metadata": {
      "needs_background": "light"
     },
     "output_type": "display_data"
    },
    {
     "data": {
      "image/png": "[encoded data removed]",
      "text/plain": [
       "<Figure size 576x288 with 1 Axes>"
      ]
     },
     "metadata": {
      "needs_background": "light"
     },
     "output_type": "display_data"
    }
   ],
   "source": [
    "#reset index for plotting\n",
    "tcell_plot = tcell_data_form.reset_index()\n",
    "# plot the data to analyze\n",
    "plotting_columns = ['IFNg', 'TCR', 'velocity', 'transferable_cytotoxic_packets']\n",
    "for column in plotting_columns:\n",
    "    pl.figure(figsize=(8, 4))\n",
    "    column_1 = sns.lineplot(data=tcell_plot, x=\"time\", y=column, style = 'cell_state', hue=\"cell\", legend = None)\n",
    "    pl.savefig(column+'_t_cell.png', format='png', bbox_inches='tight', dpi=300)"
   ]
  },
  {
   "cell_type": "code",
   "execution_count": 12,
   "metadata": {
    "executionInfo": {
     "elapsed": 79847,
     "status": "ok",
     "timestamp": 1617814661877,
     "user": {
      "displayName": "John Wirthlin Hickey",
      "photoUrl": "",
      "userId": "07408315926250182330"
     },
     "user_tz": 420
    },
    "id": "aFnkn4KEch7x"
   },
   "outputs": [],
   "source": [
    "#How to extract individual T cells\n",
    "df_divide_T = tcell_plot.drop_duplicates('cell', keep='first')\n",
    "\n",
    "#Get unique agent IDs\n",
    "unique_T_cell = list(df_divide_T.cell.unique())\n",
    "\n",
    "#run phylogeny function\n",
    "phylogeny_T = get_phylogeny(unique_T_cell)\n",
    "\n",
    "# get initial ancestors, daughters, and mothers\n",
    "daughters_T = list(phylogeny_T.values())\n",
    "daughters_T = set([item for sublist in daughters_T for item in sublist])\n",
    "descendents_T = list(daughters_T)\n",
    "mothers_T = set(list(phylogeny_T.keys()))\n",
    "ancestors_T = list(mothers_T - daughters_T)\n",
    "ancestors_T;"
   ]
  },
  {
   "cell_type": "code",
   "execution_count": 13,
   "metadata": {
    "colab": {
     "base_uri": "https://localhost:8080/",
     "height": 421
    },
    "executionInfo": {
     "elapsed": 79529,
     "status": "ok",
     "timestamp": 1617814662233,
     "user": {
      "displayName": "John Wirthlin Hickey",
      "photoUrl": "",
      "userId": "07408315926250182330"
     },
     "user_tz": 420
    },
    "id": "re147lm-nRwi",
    "outputId": "d6e66a53-5b0c-4f64-a8ad-8e3e8c06e3c0"
   },
   "outputs": [
    {
     "data": {
      "image/png": "[encoded data removed]",
      "text/plain": [
       "<Figure size 576x288 with 1 Axes>"
      ]
     },
     "metadata": {
      "needs_background": "light"
     },
     "output_type": "display_data"
    }
   ],
   "source": [
    "#Time for plotting cell divisions\n",
    "div_list_T = []\n",
    "for cell in descendents_T:\n",
    "  div = df_divide_T[df_divide_T[\"cell\"] == cell]['time'].min()\n",
    "  div_list_T.append(div)\n",
    "\n",
    "#get unique counts from the list\n",
    "div_counts_T = Counter(div_list_T)\n",
    "divide_time_T = pd.DataFrame.from_dict(div_counts_T, orient='index').reset_index()\n",
    "\n",
    "#convert to dataframe\n",
    "column_names = ['time', 'counts']\n",
    "divide_time_T.columns = column_names\n",
    "\n",
    "#divide counts by 2 because each daughter and original cell is counted twice\n",
    "divide_time_T['counts'] = divide_time_T['counts'] / 2\n",
    "\n",
    "#add 0, 0 initial point\n",
    "divide_time_T.loc[-1] = [0, 0]\n",
    "divide_time_T.index = divide_time_T.index + 1  # shifting index\n",
    "divide_time_T = divide_time_T.sort_values(by = 'time') \n",
    "\n",
    "#accumulate the counts as progresses\n",
    "divide_time_T['total_division'] = divide_time_T.counts.cumsum()\n",
    "\n",
    "pl.figure(figsize=(8, 4))\n",
    "div_cell_T = sns.lineplot(data=divide_time_T, x=\"time\", y='total_division')\n",
    "\n",
    "pl.title(\"# of divisions\")\n",
    "pl.savefig('tcell_division.png', format='png', bbox_inches='tight', dpi=300)"
   ]
  },
  {
   "cell_type": "code",
   "execution_count": 14,
   "metadata": {
    "colab": {
     "base_uri": "https://localhost:8080/",
     "height": 421
    },
    "executionInfo": {
     "elapsed": 79471,
     "status": "ok",
     "timestamp": 1617814662880,
     "user": {
      "displayName": "John Wirthlin Hickey",
      "photoUrl": "",
      "userId": "07408315926250182330"
     },
     "user_tz": 420
    },
    "id": "QwZ5LsKTf7Bt",
    "outputId": "44c84fa7-fe03-47fe-e5a5-1210c97be648"
   },
   "outputs": [
    {
     "data": {
      "image/png": "[encoded data removed]",
      "text/plain": [
       "<Figure size 576x288 with 1 Axes>"
      ]
     },
     "metadata": {
      "needs_background": "light"
     },
     "output_type": "display_data"
    }
   ],
   "source": [
    "#Plot total cells and see how changing over time\n",
    "total_tcell = tcell_plot.groupby('time')['cell'].nunique().reset_index()\n",
    "tcell_state = tcell_plot.groupby(['time','cell_state'])['cell'].nunique().reset_index()\n",
    "total_PD1n = tcell_state.loc[tcell_state['cell_state']=='PD1n']\n",
    "total_PD1p = tcell_state.loc[tcell_state['cell_state']=='PD1p']\n",
    "\n",
    "pl.figure(figsize=(8, 4))\n",
    "ttl_tcell = sns.lineplot(data=total_tcell, x=\"time\", y='cell', label = 'total')\n",
    "ttl_PD1n = sns.lineplot(data=total_PD1n, x=\"time\", y='cell', label = 'PD1n')\n",
    "ttl_PD1p = sns.lineplot(data=total_PD1p, x=\"time\", y='cell', label = 'PD1p')\n",
    "\n",
    "pl.title(\"Total T Cells\")\n",
    "pl.legend(title=\"Cell type\")\n",
    "pl.legend(bbox_to_anchor=(1.05, 1), loc=2, borderaxespad=0.)\n",
    "pl.savefig('tcell_total.png', format='png', bbox_inches='tight', dpi=300)"
   ]
  },
  {
   "cell_type": "code",
   "execution_count": 15,
   "metadata": {
    "colab": {
     "base_uri": "https://localhost:8080/",
     "height": 421
    },
    "executionInfo": {
     "elapsed": 79042,
     "status": "ok",
     "timestamp": 1617814663121,
     "user": {
      "displayName": "John Wirthlin Hickey",
      "photoUrl": "",
      "userId": "07408315926250182330"
     },
     "user_tz": 420
    },
    "id": "xe0WVOA3L-kf",
    "outputId": "adc5eeec-a422-490a-bfb6-9514a5666215"
   },
   "outputs": [
    {
     "data": {
      "image/png": "[encoded data removed]",
      "text/plain": [
       "<Figure size 576x288 with 1 Axes>"
      ]
     },
     "metadata": {
      "needs_background": "light"
     },
     "output_type": "display_data"
    }
   ],
   "source": [
    "#Plot total number of deaths and type\n",
    "total_col_t = [col for col in df_tcell_death.columns if 'total' in col]\n",
    "pl.figure(figsize=(8, 4))\n",
    "death_plot_t = pd.melt(df_tcell_death, id_vars= ['death', 'time'], value_vars= total_col_t)\n",
    "death_plot_t.rename(columns={'variable':'death type', 'value' : 'death count'}, inplace=True)\n",
    "death_cell_T = sns.lineplot(data=death_plot_t, x=\"time\", y='death count', hue='death type')\n",
    "pl.title(\"# of deaths\")\n",
    "pl.legend(bbox_to_anchor=(1.05, 1), loc=2, borderaxespad=0.)\n",
    "pl.savefig('tcell_death.png', format='png', bbox_inches='tight', dpi=300)"
   ]
  },
  {
   "cell_type": "code",
   "execution_count": 16,
   "metadata": {
    "colab": {
     "base_uri": "https://localhost:8080/",
     "height": 608
    },
    "executionInfo": {
     "elapsed": 96226,
     "status": "ok",
     "timestamp": 1617814680988,
     "user": {
      "displayName": "John Wirthlin Hickey",
      "photoUrl": "",
      "userId": "07408315926250182330"
     },
     "user_tz": 420
    },
    "id": "POuNihnFcLfO",
    "outputId": "e6919121-f2ee-4e4b-e0bf-51dd99483777"
   },
   "outputs": [],
   "source": [
    "# #Spatial\n",
    "# pl.figure(figsize=(10, 10))\n",
    "# XandY = sns.lineplot(data=tcell_plot, x=\"X\", y=\"Y\", style = 'cell_state', hue=\"cell\", legend = None)"
   ]
  },
  {
   "cell_type": "code",
   "execution_count": 17,
   "metadata": {
    "colab": {
     "base_uri": "https://localhost:8080/",
     "height": 1000
    },
    "executionInfo": {
     "elapsed": 140991,
     "status": "ok",
     "timestamp": 1617814726322,
     "user": {
      "displayName": "John Wirthlin Hickey",
      "photoUrl": "",
      "userId": "07408315926250182330"
     },
     "user_tz": 420
    },
    "id": "Cf9oR54DO_AF",
    "outputId": "d4489f5b-e77f-460e-868b-bb58667a172b"
   },
   "outputs": [
    {
     "data": {
      "image/png": "[encoded data removed]",
      "text/plain": [
       "<Figure size 576x288 with 1 Axes>"
      ]
     },
     "metadata": {
      "needs_background": "light"
     },
     "output_type": "display_data"
    },
    {
     "data": {
      "image/png": "[encoded data removed]",
      "text/plain": [
       "<Figure size 576x288 with 1 Axes>"
      ]
     },
     "metadata": {
      "needs_background": "light"
     },
     "output_type": "display_data"
    },
    {
     "data": {
      "image/png": "[encoded data removed]",
      "text/plain": [
       "<Figure size 576x288 with 1 Axes>"
      ]
     },
     "metadata": {
      "needs_background": "light"
     },
     "output_type": "display_data"
    }
   ],
   "source": [
    "#reset index for plotting\n",
    "tumor_plot = tumor_data_form.reset_index()\n",
    "\n",
    "# plot the data to analyze\n",
    "plotting_columns = ['TCR_neighbor', 'IFNg', 'cytotoxic_packets']\n",
    "for column in plotting_columns:\n",
    "    pl.figure(figsize=(8, 4))\n",
    "    column_1 = sns.lineplot(data=tumor_plot, x=\"time\", y=column, style = 'cell_state', hue=\"cell\", legend = None)\n",
    "    pl.savefig(column+'_tumor.png', format='png', bbox_inches='tight', dpi=300)"
   ]
  },
  {
   "cell_type": "code",
   "execution_count": 18,
   "metadata": {
    "executionInfo": {
     "elapsed": 140389,
     "status": "ok",
     "timestamp": 1617814726323,
     "user": {
      "displayName": "John Wirthlin Hickey",
      "photoUrl": "",
      "userId": "07408315926250182330"
     },
     "user_tz": 420
    },
    "id": "aCdLL-PbtZyr"
   },
   "outputs": [],
   "source": [
    "#How to extract individual tumor cells\n",
    "df_divide_tumor = tumor_plot.drop_duplicates('cell', keep='first')\n",
    "\n",
    "#Get unique agent IDs\n",
    "unique_tumor_cell = list(df_divide_tumor.cell.unique())\n",
    "\n",
    "#run phylogeny function\n",
    "phylogeny_tumor = get_phylogeny(unique_tumor_cell)\n",
    "\n",
    "# get initial ancestors, daughters, and mothers\n",
    "daughters_tumor = list(phylogeny_tumor.values())\n",
    "daughters_tumor = set([item for sublist in daughters_tumor for item in sublist])\n",
    "descendents_tumor = list(daughters_tumor)\n",
    "mothers_tumor = set(list(phylogeny_tumor.keys()))\n",
    "ancestors_tumor = list(mothers_tumor - daughters_tumor)\n",
    "descendents_tumor;"
   ]
  },
  {
   "cell_type": "code",
   "execution_count": 19,
   "metadata": {
    "colab": {
     "base_uri": "https://localhost:8080/",
     "height": 421
    },
    "executionInfo": {
     "elapsed": 140172,
     "status": "ok",
     "timestamp": 1617814726667,
     "user": {
      "displayName": "John Wirthlin Hickey",
      "photoUrl": "",
      "userId": "07408315926250182330"
     },
     "user_tz": 420
    },
    "id": "f6AY68QVsvAT",
    "outputId": "beac8a58-28cb-4f7e-a732-b65865e8f166"
   },
   "outputs": [
    {
     "ename": "ValueError",
     "evalue": "Length mismatch: Expected axis has 1 elements, new values have 2 elements",
     "output_type": "error",
     "traceback": [
      "\u001b[0;31m---------------------------------------------------------------------------\u001b[0m",
      "\u001b[0;31mValueError\u001b[0m                                Traceback (most recent call last)",
      "\u001b[0;32m<ipython-input-19-dcc625b588c4>\u001b[0m in \u001b[0;36m<module>\u001b[0;34m\u001b[0m\n\u001b[1;32m     11\u001b[0m \u001b[0;31m#convert to dataframe\u001b[0m\u001b[0;34m\u001b[0m\u001b[0;34m\u001b[0m\u001b[0;34m\u001b[0m\u001b[0m\n\u001b[1;32m     12\u001b[0m \u001b[0mcolumn_names\u001b[0m \u001b[0;34m=\u001b[0m \u001b[0;34m[\u001b[0m\u001b[0;34m'time'\u001b[0m\u001b[0;34m,\u001b[0m \u001b[0;34m'counts'\u001b[0m\u001b[0;34m]\u001b[0m\u001b[0;34m\u001b[0m\u001b[0;34m\u001b[0m\u001b[0m\n\u001b[0;32m---> 13\u001b[0;31m \u001b[0mdivide_time_tumor\u001b[0m\u001b[0;34m.\u001b[0m\u001b[0mcolumns\u001b[0m \u001b[0;34m=\u001b[0m \u001b[0mcolumn_names\u001b[0m\u001b[0;34m\u001b[0m\u001b[0;34m\u001b[0m\u001b[0m\n\u001b[0m\u001b[1;32m     14\u001b[0m \u001b[0;34m\u001b[0m\u001b[0m\n\u001b[1;32m     15\u001b[0m \u001b[0;31m#divide counts by 2 because each daughter and original cell is counted twice\u001b[0m\u001b[0;34m\u001b[0m\u001b[0;34m\u001b[0m\u001b[0;34m\u001b[0m\u001b[0m\n",
      "\u001b[0;32m/mnt/c/Users/akoya-stanford/Python_Code/tumor-tcell/vivarium_env/lib/python3.8/site-packages/pandas/core/generic.py\u001b[0m in \u001b[0;36m__setattr__\u001b[0;34m(self, name, value)\u001b[0m\n\u001b[1;32m   5150\u001b[0m         \u001b[0;32mtry\u001b[0m\u001b[0;34m:\u001b[0m\u001b[0;34m\u001b[0m\u001b[0;34m\u001b[0m\u001b[0m\n\u001b[1;32m   5151\u001b[0m             \u001b[0mobject\u001b[0m\u001b[0;34m.\u001b[0m\u001b[0m__getattribute__\u001b[0m\u001b[0;34m(\u001b[0m\u001b[0mself\u001b[0m\u001b[0;34m,\u001b[0m \u001b[0mname\u001b[0m\u001b[0;34m)\u001b[0m\u001b[0;34m\u001b[0m\u001b[0;34m\u001b[0m\u001b[0m\n\u001b[0;32m-> 5152\u001b[0;31m             \u001b[0;32mreturn\u001b[0m \u001b[0mobject\u001b[0m\u001b[0;34m.\u001b[0m\u001b[0m__setattr__\u001b[0m\u001b[0;34m(\u001b[0m\u001b[0mself\u001b[0m\u001b[0;34m,\u001b[0m \u001b[0mname\u001b[0m\u001b[0;34m,\u001b[0m \u001b[0mvalue\u001b[0m\u001b[0;34m)\u001b[0m\u001b[0;34m\u001b[0m\u001b[0;34m\u001b[0m\u001b[0m\n\u001b[0m\u001b[1;32m   5153\u001b[0m         \u001b[0;32mexcept\u001b[0m \u001b[0mAttributeError\u001b[0m\u001b[0;34m:\u001b[0m\u001b[0;34m\u001b[0m\u001b[0;34m\u001b[0m\u001b[0m\n\u001b[1;32m   5154\u001b[0m             \u001b[0;32mpass\u001b[0m\u001b[0;34m\u001b[0m\u001b[0;34m\u001b[0m\u001b[0m\n",
      "\u001b[0;32mpandas/_libs/properties.pyx\u001b[0m in \u001b[0;36mpandas._libs.properties.AxisProperty.__set__\u001b[0;34m()\u001b[0m\n",
      "\u001b[0;32m/mnt/c/Users/akoya-stanford/Python_Code/tumor-tcell/vivarium_env/lib/python3.8/site-packages/pandas/core/generic.py\u001b[0m in \u001b[0;36m_set_axis\u001b[0;34m(self, axis, labels)\u001b[0m\n\u001b[1;32m    562\u001b[0m     \u001b[0;32mdef\u001b[0m \u001b[0m_set_axis\u001b[0m\u001b[0;34m(\u001b[0m\u001b[0mself\u001b[0m\u001b[0;34m,\u001b[0m \u001b[0maxis\u001b[0m\u001b[0;34m:\u001b[0m \u001b[0mint\u001b[0m\u001b[0;34m,\u001b[0m \u001b[0mlabels\u001b[0m\u001b[0;34m:\u001b[0m \u001b[0mIndex\u001b[0m\u001b[0;34m)\u001b[0m \u001b[0;34m->\u001b[0m \u001b[0;32mNone\u001b[0m\u001b[0;34m:\u001b[0m\u001b[0;34m\u001b[0m\u001b[0;34m\u001b[0m\u001b[0m\n\u001b[1;32m    563\u001b[0m         \u001b[0mlabels\u001b[0m \u001b[0;34m=\u001b[0m \u001b[0mensure_index\u001b[0m\u001b[0;34m(\u001b[0m\u001b[0mlabels\u001b[0m\u001b[0;34m)\u001b[0m\u001b[0;34m\u001b[0m\u001b[0;34m\u001b[0m\u001b[0m\n\u001b[0;32m--> 564\u001b[0;31m         \u001b[0mself\u001b[0m\u001b[0;34m.\u001b[0m\u001b[0m_mgr\u001b[0m\u001b[0;34m.\u001b[0m\u001b[0mset_axis\u001b[0m\u001b[0;34m(\u001b[0m\u001b[0maxis\u001b[0m\u001b[0;34m,\u001b[0m \u001b[0mlabels\u001b[0m\u001b[0;34m)\u001b[0m\u001b[0;34m\u001b[0m\u001b[0;34m\u001b[0m\u001b[0m\n\u001b[0m\u001b[1;32m    565\u001b[0m         \u001b[0mself\u001b[0m\u001b[0;34m.\u001b[0m\u001b[0m_clear_item_cache\u001b[0m\u001b[0;34m(\u001b[0m\u001b[0;34m)\u001b[0m\u001b[0;34m\u001b[0m\u001b[0;34m\u001b[0m\u001b[0m\n\u001b[1;32m    566\u001b[0m \u001b[0;34m\u001b[0m\u001b[0m\n",
      "\u001b[0;32m/mnt/c/Users/akoya-stanford/Python_Code/tumor-tcell/vivarium_env/lib/python3.8/site-packages/pandas/core/internals/managers.py\u001b[0m in \u001b[0;36mset_axis\u001b[0;34m(self, axis, new_labels)\u001b[0m\n\u001b[1;32m    224\u001b[0m \u001b[0;34m\u001b[0m\u001b[0m\n\u001b[1;32m    225\u001b[0m         \u001b[0;32mif\u001b[0m \u001b[0mnew_len\u001b[0m \u001b[0;34m!=\u001b[0m \u001b[0mold_len\u001b[0m\u001b[0;34m:\u001b[0m\u001b[0;34m\u001b[0m\u001b[0;34m\u001b[0m\u001b[0m\n\u001b[0;32m--> 226\u001b[0;31m             raise ValueError(\n\u001b[0m\u001b[1;32m    227\u001b[0m                 \u001b[0;34mf\"Length mismatch: Expected axis has {old_len} elements, new \"\u001b[0m\u001b[0;34m\u001b[0m\u001b[0;34m\u001b[0m\u001b[0m\n\u001b[1;32m    228\u001b[0m                 \u001b[0;34mf\"values have {new_len} elements\"\u001b[0m\u001b[0;34m\u001b[0m\u001b[0;34m\u001b[0m\u001b[0m\n",
      "\u001b[0;31mValueError\u001b[0m: Length mismatch: Expected axis has 1 elements, new values have 2 elements"
     ]
    }
   ],
   "source": [
    "#Time for plotting cell divisions\n",
    "div_list_tumor = []\n",
    "for cell in descendents_tumor:\n",
    "  div = df_divide_tumor[df_divide_tumor[\"cell\"] == cell]['time'].min()\n",
    "  div_list_tumor.append(div)\n",
    "\n",
    "#get unique counts from the list\n",
    "div_counts_tumor = Counter(div_list_tumor)\n",
    "divide_time_tumor = pd.DataFrame.from_dict(div_counts_tumor, orient='index').reset_index()\n",
    "\n",
    "#convert to dataframe\n",
    "column_names = ['time', 'counts']\n",
    "divide_time_tumor.columns = column_names\n",
    "\n",
    "#divide counts by 2 because each daughter and original cell is counted twice\n",
    "divide_time_tumor['counts'] = divide_time_tumor['counts'] / 2\n",
    "\n",
    "#add 0, 0 initial point\n",
    "divide_time_tumor.loc[-1] = [0, 0]\n",
    "divide_time_tumor.index = divide_time_tumor.index + 1  # shifting index\n",
    "divide_time_tumor = divide_time_tumor.sort_values(by = 'time') \n",
    "\n",
    "#accumulate the counts as progresses\n",
    "divide_time_tumor['total_division'] = divide_time_tumor.counts.cumsum()\n",
    "\n",
    "pl.figure(figsize=(8, 4))\n",
    "div_cell_tumor = sns.lineplot(data=divide_time_tumor, x=\"time\", y='total_division')\n",
    "\n",
    "pl.title(\"# of divisions\")\n",
    "pl.savefig('tumor_division.png', format='png', bbox_inches='tight', dpi=300)"
   ]
  },
  {
   "cell_type": "code",
   "execution_count": 20,
   "metadata": {
    "colab": {
     "base_uri": "https://localhost:8080/",
     "height": 421
    },
    "executionInfo": {
     "elapsed": 141122,
     "status": "ok",
     "timestamp": 1617814728206,
     "user": {
      "displayName": "John Wirthlin Hickey",
      "photoUrl": "",
      "userId": "07408315926250182330"
     },
     "user_tz": 420
    },
    "id": "M7lYLfk9edA1",
    "outputId": "1b716352-a2d1-42d5-8931-110c952746cb"
   },
   "outputs": [
    {
     "data": {
      "image/png": "[encoded data removed]",
      "text/plain": [
       "<Figure size 576x288 with 1 Axes>"
      ]
     },
     "metadata": {
      "needs_background": "light"
     },
     "output_type": "display_data"
    }
   ],
   "source": [
    "#Plot total cells and see how changing over time\n",
    "total_tumor = tumor_plot.groupby('time')['cell'].nunique().reset_index()\n",
    "tumor_state = tumor_plot.groupby(['time','cell_state'])['cell'].nunique().reset_index()\n",
    "total_PDL1n = tumor_state.loc[tumor_state['cell_state']=='PDL1n']\n",
    "total_PDL1p = tumor_state.loc[tumor_state['cell_state']=='PDL1p']\n",
    "\n",
    "pl.figure(figsize=(8, 4))\n",
    "ttl_tumorcell = sns.lineplot(data=total_tumor, x=\"time\", y='cell', label = 'total')\n",
    "ttl_PDL1n = sns.lineplot(data=total_PDL1n, x=\"time\", y='cell', label = 'PDL1n')\n",
    "ttl_PDL1p = sns.lineplot(data=total_PDL1p, x=\"time\", y='cell', label = 'PDL1p')\n",
    "\n",
    "pl.title(\"Total Tumor Cells\")\n",
    "pl.legend(title=\"Cell type\")\n",
    "pl.legend(bbox_to_anchor=(1.05, 1), loc=2, borderaxespad=0.)\n",
    "pl.savefig('tumor_total.png', format='png', bbox_inches='tight', dpi=300)"
   ]
  },
  {
   "cell_type": "code",
   "execution_count": 21,
   "metadata": {
    "colab": {
     "base_uri": "https://localhost:8080/",
     "height": 421
    },
    "executionInfo": {
     "elapsed": 140493,
     "status": "ok",
     "timestamp": 1617814728206,
     "user": {
      "displayName": "John Wirthlin Hickey",
      "photoUrl": "",
      "userId": "07408315926250182330"
     },
     "user_tz": 420
    },
    "id": "sj5qfYtsNE2S",
    "outputId": "d95961f6-7356-44a3-b165-b80d6cf243b9"
   },
   "outputs": [
    {
     "name": "stderr",
     "output_type": "stream",
     "text": [
      "WARNING:matplotlib.legend:No handles with labels found to put in legend.\n"
     ]
    },
    {
     "data": {
      "image/png": "[encoded data removed]",
      "text/plain": [
       "<Figure size 576x288 with 1 Axes>"
      ]
     },
     "metadata": {
      "needs_background": "light"
     },
     "output_type": "display_data"
    }
   ],
   "source": [
    "#Plot total number of deaths and type\n",
    "total_col = [col for col in df_tumor_death.columns if 'total' in col]\n",
    "pl.figure(figsize=(8, 4))\n",
    "death_plot = pd.melt(df_tumor_death, id_vars= ['death', 'time'], value_vars= total_col)\n",
    "death_plot.rename(columns={'variable':'death type', 'value' : 'death count'}, inplace=True)\n",
    "death_cell = sns.lineplot(data=death_plot, x=\"time\", y='death count', hue='death type')\n",
    "pl.title(\"# of deaths\")\n",
    "pl.legend(bbox_to_anchor=(1.05, 1), loc=2, borderaxespad=0.)\n",
    "pl.savefig('tumor_death.png', format='png', bbox_inches='tight', dpi=300)"
   ]
  },
  {
   "cell_type": "markdown",
   "metadata": {
    "id": "FlliW-9VsP0F"
   },
   "source": [
    "#Spatial Widget"
   ]
  },
  {
   "cell_type": "code",
   "execution_count": 22,
   "metadata": {
    "colab": {
     "base_uri": "https://localhost:8080/",
     "height": 332,
     "referenced_widgets": [
      "281e5a208c9c4acbb92b00eecbf93c4f",
      "4813cf771d084197bf1456eb27e8ed81",
      "8ff8c17aa6964365a1e7d0ca0447767c",
      "5e1dd62568eb4810b71d3bf5e17cdbae",
      "4f7061adcc2740079b71946341e60edb",
      "ace84326f59c4591ba77c71b0b854985",
      "5daf5395c7fe4246a34c4efa243ff2e9"
     ]
    },
    "executionInfo": {
     "elapsed": 139397,
     "status": "ok",
     "timestamp": 1617814728459,
     "user": {
      "displayName": "John Wirthlin Hickey",
      "photoUrl": "",
      "userId": "07408315926250182330"
     },
     "user_tz": 420
    },
    "id": "0VgzVpzltmya",
    "outputId": "6d89ef29-5a7f-47f4-dc51-92e8da85947a"
   },
   "outputs": [],
   "source": [
    "# from ipywidgets import interact, interactive, fixed, interact_manual\n",
    "# import ipywidgets as widgets\n",
    "# %matplotlib inline\n",
    "\n",
    "# def plot_func(time):\n",
    "#     x = tcell_plot[tcell_plot['time']<=time]['X']\n",
    "#     y = tcell_plot[tcell_plot['time']<=time]['Y']\n",
    "#     data_t = tcell_plot[tcell_plot['time']<=time]\n",
    "#     xandy = sns.lineplot(data=data_t, x=x, y=y, hue = 'cell_state', style = 'cell', legend = None)\n",
    "#     pl.show()\n",
    "\n",
    "# interact(plot_func, time = widgets.FloatSlider(value=0,\n",
    "#                                                min=0,\n",
    "#                                                max=10000,\n",
    "#                                                step=60))"
   ]
  },
  {
   "cell_type": "code",
   "execution_count": 25,
   "metadata": {
    "colab": {
     "base_uri": "https://localhost:8080/"
    },
    "executionInfo": {
     "elapsed": 138453,
     "status": "ok",
     "timestamp": 1617814728459,
     "user": {
      "displayName": "John Wirthlin Hickey",
      "photoUrl": "",
      "userId": "07408315926250182330"
     },
     "user_tz": 420
    },
    "id": "n_uCMVtnI9AO",
    "outputId": "f16fd495-24cb-4f27-bd54-8fa3c122c893"
   },
   "outputs": [
    {
     "data": {
      "text/plain": [
       "'15.107203502120036 micrometer'"
      ]
     },
     "execution_count": 25,
     "metadata": {},
     "output_type": "execute_result"
    }
   ],
   "source": [
    "tcell_plot.X.min()"
   ]
  },
  {
   "cell_type": "code",
   "execution_count": 26,
   "metadata": {
    "colab": {
     "base_uri": "https://localhost:8080/"
    },
    "executionInfo": {
     "elapsed": 137997,
     "status": "ok",
     "timestamp": 1617814728460,
     "user": {
      "displayName": "John Wirthlin Hickey",
      "photoUrl": "",
      "userId": "07408315926250182330"
     },
     "user_tz": 420
    },
    "id": "HN8SIeT6JgRc",
    "outputId": "593d5ecb-6830-490e-d515-38f1630843c0"
   },
   "outputs": [
    {
     "data": {
      "text/plain": [
       "'1.5747838844981135 micrometer'"
      ]
     },
     "execution_count": 26,
     "metadata": {},
     "output_type": "execute_result"
    }
   ],
   "source": [
    "tcell_plot.Y.min()"
   ]
  },
  {
   "cell_type": "code",
   "execution_count": null,
   "metadata": {
    "id": "xg9lDDdpJl-I"
   },
   "outputs": [],
   "source": [
    "#tcell_plot.to_csv(ROOT + '/My Drive/Research/TNT/ABM_CODEX/Scripts_Data/'+'tcell_neg_data.csv')"
   ]
  },
  {
   "cell_type": "code",
   "execution_count": 24,
   "metadata": {
    "id": "iBpee7KhLgat"
   },
   "outputs": [
    {
     "data": {
      "image/png": "[encoded data removed]",
      "text/plain": [
       "<Figure size 504x504 with 1 Axes>"
      ]
     },
     "metadata": {
      "needs_background": "light"
     },
     "output_type": "display_data"
    }
   ],
   "source": [
    "#Animated scatter plot trial\n",
    "from matplotlib.animation import FuncAnimation\n",
    "fig, ax = pl.subplots(figsize = (7, 7))\n",
    "\n",
    "def animate(i):\n",
    "    ax.cla()\n",
    "    time1 = i * 60\n",
    "    sns.scatterplot(x = 'X',\n",
    "                    y = 'Y',\n",
    "                    data = tcell_plot[tcell_plot.time == time1],\n",
    "                    hue = 'cell_state',\n",
    "                    ax = ax,\n",
    "                    alpha = 0.7,)\n",
    "    ax.set_title(f'Seconds {time1}')\n",
    "\n",
    "ani = FuncAnimation(fig = fig, func = animate, frames = len(tcell_plot.time.unique()), interval = 60)\n",
    "pl.show()\n",
    "#ani.save('animation.mp4')"
   ]
  },
  {
   "cell_type": "code",
   "execution_count": null,
   "metadata": {},
   "outputs": [],
   "source": [
    "#Or try this\n",
    "fig, ax = pl.subplots()\n",
    "scatters = []\n",
    "for g,d in tips.groupby('smoker'):\n",
    "    s = ax.scatter(x=\"total_bill\", y=\"tip\", data=tips, label=g)\n",
    "    scatters.append(s)\n",
    "ax.legend(bbox_to_anchor=(1.,1.), loc=1)\n",
    "txt = ax.text(0.1,0.9,'frame=0', transform=ax.transAxes)\n",
    "\n",
    "def animate(i):\n",
    "    for c in scatters:\n",
    "        x = np.random.random(size=(50,1))*50\n",
    "        y = np.random.random(size=(50,1))*10\n",
    "        xy = np.hstack([x,y])\n",
    "        c.set_offsets(xy)\n",
    "    txt.set_text('frame={:d}'.format(i))\n",
    "    return scatters+[txt]\n",
    "\n",
    "ani = animation.FuncAnimation(fig, animate, frames=10, blit=True)"
   ]
  }
 ],
 "metadata": {
  "colab": {
   "collapsed_sections": [],
   "name": "21_04_ABM_CODEX_exp.ipynb",
   "provenance": [
    {
     "file_id": "16XtlMpm0ZcngKm9sdufNEQlP7yBsAloZ",
     "timestamp": 1617748650442
    },
    {
     "file_id": "10dSbwG2FL77SqkiZ-GGrCYRR2KaVHtsh",
     "timestamp": 1614633368744
    }
   ]
  },
  "kernelspec": {
   "display_name": "Python 3",
   "language": "python",
   "name": "python3"
  },
  "language_info": {
   "codemirror_mode": {
    "name": "ipython",
    "version": 3
   },
   "file_extension": ".py",
   "mimetype": "text/x-python",
   "name": "python",
   "nbconvert_exporter": "python",
   "pygments_lexer": "ipython3",
   "version": "3.8.5"
  },
  "widgets": {
   "application/vnd.jupyter.widget-state+json": {
    "281e5a208c9c4acbb92b00eecbf93c4f": {
     "model_module": "@jupyter-widgets/controls",
     "model_name": "VBoxModel",
     "state": {
      "_dom_classes": [
       "widget-interact"
      ],
      "_model_module": "@jupyter-widgets/controls",
      "_model_module_version": "1.5.0",
      "_model_name": "VBoxModel",
      "_view_count": null,
      "_view_module": "@jupyter-widgets/controls",
      "_view_module_version": "1.5.0",
      "_view_name": "VBoxView",
      "box_style": "",
      "children": [
       "IPY_MODEL_8ff8c17aa6964365a1e7d0ca0447767c",
       "IPY_MODEL_5e1dd62568eb4810b71d3bf5e17cdbae"
      ],
      "layout": "IPY_MODEL_4813cf771d084197bf1456eb27e8ed81"
     }
    },
    "4813cf771d084197bf1456eb27e8ed81": {
     "model_module": "@jupyter-widgets/base",
     "model_name": "LayoutModel",
     "state": {
      "_model_module": "@jupyter-widgets/base",
      "_model_module_version": "1.2.0",
      "_model_name": "LayoutModel",
      "_view_count": null,
      "_view_module": "@jupyter-widgets/base",
      "_view_module_version": "1.2.0",
      "_view_name": "LayoutView",
      "align_content": null,
      "align_items": null,
      "align_self": null,
      "border": null,
      "bottom": null,
      "display": null,
      "flex": null,
      "flex_flow": null,
      "grid_area": null,
      "grid_auto_columns": null,
      "grid_auto_flow": null,
      "grid_auto_rows": null,
      "grid_column": null,
      "grid_gap": null,
      "grid_row": null,
      "grid_template_areas": null,
      "grid_template_columns": null,
      "grid_template_rows": null,
      "height": null,
      "justify_content": null,
      "justify_items": null,
      "left": null,
      "margin": null,
      "max_height": null,
      "max_width": null,
      "min_height": null,
      "min_width": null,
      "object_fit": null,
      "object_position": null,
      "order": null,
      "overflow": null,
      "overflow_x": null,
      "overflow_y": null,
      "padding": null,
      "right": null,
      "top": null,
      "visibility": null,
      "width": null
     }
    },
    "4f7061adcc2740079b71946341e60edb": {
     "model_module": "@jupyter-widgets/controls",
     "model_name": "SliderStyleModel",
     "state": {
      "_model_module": "@jupyter-widgets/controls",
      "_model_module_version": "1.5.0",
      "_model_name": "SliderStyleModel",
      "_view_count": null,
      "_view_module": "@jupyter-widgets/base",
      "_view_module_version": "1.2.0",
      "_view_name": "StyleView",
      "description_width": "",
      "handle_color": null
     }
    },
    "5daf5395c7fe4246a34c4efa243ff2e9": {
     "model_module": "@jupyter-widgets/base",
     "model_name": "LayoutModel",
     "state": {
      "_model_module": "@jupyter-widgets/base",
      "_model_module_version": "1.2.0",
      "_model_name": "LayoutModel",
      "_view_count": null,
      "_view_module": "@jupyter-widgets/base",
      "_view_module_version": "1.2.0",
      "_view_name": "LayoutView",
      "align_content": null,
      "align_items": null,
      "align_self": null,
      "border": null,
      "bottom": null,
      "display": null,
      "flex": null,
      "flex_flow": null,
      "grid_area": null,
      "grid_auto_columns": null,
      "grid_auto_flow": null,
      "grid_auto_rows": null,
      "grid_column": null,
      "grid_gap": null,
      "grid_row": null,
      "grid_template_areas": null,
      "grid_template_columns": null,
      "grid_template_rows": null,
      "height": null,
      "justify_content": null,
      "justify_items": null,
      "left": null,
      "margin": null,
      "max_height": null,
      "max_width": null,
      "min_height": null,
      "min_width": null,
      "object_fit": null,
      "object_position": null,
      "order": null,
      "overflow": null,
      "overflow_x": null,
      "overflow_y": null,
      "padding": null,
      "right": null,
      "top": null,
      "visibility": null,
      "width": null
     }
    },
    "5e1dd62568eb4810b71d3bf5e17cdbae": {
     "model_module": "@jupyter-widgets/output",
     "model_name": "OutputModel",
     "state": {
      "_dom_classes": [],
      "_model_module": "@jupyter-widgets/output",
      "_model_module_version": "1.0.0",
      "_model_name": "OutputModel",
      "_view_count": null,
      "_view_module": "@jupyter-widgets/output",
      "_view_module_version": "1.0.0",
      "_view_name": "OutputView",
      "layout": "IPY_MODEL_5daf5395c7fe4246a34c4efa243ff2e9",
      "msg_id": "",
      "outputs": [
       {
        "image/png": "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\n",
        "metadata": {
         "needs_background": "light",
         "tags": []
        },
        "output_type": "display_data",
        "text/plain": "<Figure size 432x288 with 1 Axes>"
       }
      ]
     }
    },
    "8ff8c17aa6964365a1e7d0ca0447767c": {
     "model_module": "@jupyter-widgets/controls",
     "model_name": "FloatSliderModel",
     "state": {
      "_dom_classes": [],
      "_model_module": "@jupyter-widgets/controls",
      "_model_module_version": "1.5.0",
      "_model_name": "FloatSliderModel",
      "_view_count": null,
      "_view_module": "@jupyter-widgets/controls",
      "_view_module_version": "1.5.0",
      "_view_name": "FloatSliderView",
      "continuous_update": true,
      "description": "time",
      "description_tooltip": null,
      "disabled": false,
      "layout": "IPY_MODEL_ace84326f59c4591ba77c71b0b854985",
      "max": 10000,
      "min": 0,
      "orientation": "horizontal",
      "readout": true,
      "readout_format": ".2f",
      "step": 60,
      "style": "IPY_MODEL_4f7061adcc2740079b71946341e60edb",
      "value": 0
     }
    },
    "ace84326f59c4591ba77c71b0b854985": {
     "model_module": "@jupyter-widgets/base",
     "model_name": "LayoutModel",
     "state": {
      "_model_module": "@jupyter-widgets/base",
      "_model_module_version": "1.2.0",
      "_model_name": "LayoutModel",
      "_view_count": null,
      "_view_module": "@jupyter-widgets/base",
      "_view_module_version": "1.2.0",
      "_view_name": "LayoutView",
      "align_content": null,
      "align_items": null,
      "align_self": null,
      "border": null,
      "bottom": null,
      "display": null,
      "flex": null,
      "flex_flow": null,
      "grid_area": null,
      "grid_auto_columns": null,
      "grid_auto_flow": null,
      "grid_auto_rows": null,
      "grid_column": null,
      "grid_gap": null,
      "grid_row": null,
      "grid_template_areas": null,
      "grid_template_columns": null,
      "grid_template_rows": null,
      "height": null,
      "justify_content": null,
      "justify_items": null,
      "left": null,
      "margin": null,
      "max_height": null,
      "max_width": null,
      "min_height": null,
      "min_width": null,
      "object_fit": null,
      "object_position": null,
      "order": null,
      "overflow": null,
      "overflow_x": null,
      "overflow_y": null,
      "padding": null,
      "right": null,
      "top": null,
      "visibility": null,
      "width": null
     }
    }
   }
  }
 },
 "nbformat": 4,
 "nbformat_minor": 1
}
