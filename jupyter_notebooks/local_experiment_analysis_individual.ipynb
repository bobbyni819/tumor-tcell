{
 "cells": [
  {
   "cell_type": "markdown",
   "metadata": {
    "id": "iemTysKanIp1"
   },
   "source": [
    "#Format Data for Experiment in ABM environment"
   ]
  },
  {
   "cell_type": "code",
   "execution_count": null,
   "metadata": {},
   "outputs": [],
   "source": [
    "#Import packages\n",
    "from tumor_tcell.library.individual_analysis import individual_analysis"
   ]
  },
  {
   "cell_type": "code",
   "execution_count": null,
   "metadata": {},
   "outputs": [],
   "source": [
    "# individual_analysis(analysis_dir = '/mnt/c/Users/akoya-stanford/Python_Code/tumor-tcell/out/analysis/', \n",
    "#                     experiment_id='tumor_tcell_20210508.175135/', \n",
    "#                     bounds=[1800,1800])"
   ]
  },
  {
   "cell_type": "code",
   "execution_count": null,
   "metadata": {},
   "outputs": [],
   "source": [
    "#run for an entire list\n",
    "exp_list = ['tumor_tcell_20210708.165707/','tumor_tcell_20210708.165714/','tumor_tcell_20210708.165651/',\n",
    "            'tumor_tcell_20210708.165633/']\n",
    "\n",
    "for exp in exp_list:\n",
    "    individual_analysis(analysis_dir = '/mnt/c/Users/akoya-stanford/Python_Code/tumor-tcell/out/analysis/', \n",
    "                    experiment_id=exp, \n",
    "                    bounds=[1200,1200],\n",
    "                    tcells=True)"
   ]
  }
 ],
 "metadata": {
  "colab": {
   "collapsed_sections": [],
   "name": "21_04_ABM_CODEX_exp.ipynb",
   "provenance": [
    {
     "file_id": "16XtlMpm0ZcngKm9sdufNEQlP7yBsAloZ",
     "timestamp": 1617748650442
    },
    {
     "file_id": "10dSbwG2FL77SqkiZ-GGrCYRR2KaVHtsh",
     "timestamp": 1614633368744
    }
   ]
  },
  "kernelspec": {
   "display_name": "Python 3",
   "language": "python",
   "name": "python3"
  },
  "language_info": {
   "codemirror_mode": {
    "name": "ipython",
    "version": 3
   },
   "file_extension": ".py",
   "mimetype": "text/x-python",
   "name": "python",
   "nbconvert_exporter": "python",
   "pygments_lexer": "ipython3",
   "version": "3.8.5"
  },
  "widgets": {
   "application/vnd.jupyter.widget-state+json": {
    "281e5a208c9c4acbb92b00eecbf93c4f": {
     "model_module": "@jupyter-widgets/controls",
     "model_name": "VBoxModel",
     "state": {
      "_dom_classes": [
       "widget-interact"
      ],
      "_model_module": "@jupyter-widgets/controls",
      "_model_module_version": "1.5.0",
      "_model_name": "VBoxModel",
      "_view_count": null,
      "_view_module": "@jupyter-widgets/controls",
      "_view_module_version": "1.5.0",
      "_view_name": "VBoxView",
      "box_style": "",
      "children": [
       "IPY_MODEL_8ff8c17aa6964365a1e7d0ca0447767c",
       "IPY_MODEL_5e1dd62568eb4810b71d3bf5e17cdbae"
      ],
      "layout": "IPY_MODEL_4813cf771d084197bf1456eb27e8ed81"
     }
    },
    "4813cf771d084197bf1456eb27e8ed81": {
     "model_module": "@jupyter-widgets/base",
     "model_name": "LayoutModel",
     "state": {
      "_model_module": "@jupyter-widgets/base",
      "_model_module_version": "1.2.0",
      "_model_name": "LayoutModel",
      "_view_count": null,
      "_view_module": "@jupyter-widgets/base",
      "_view_module_version": "1.2.0",
      "_view_name": "LayoutView",
      "align_content": null,
      "align_items": null,
      "align_self": null,
      "border": null,
      "bottom": null,
      "display": null,
      "flex": null,
      "flex_flow": null,
      "grid_area": null,
      "grid_auto_columns": null,
      "grid_auto_flow": null,
      "grid_auto_rows": null,
      "grid_column": null,
      "grid_gap": null,
      "grid_row": null,
      "grid_template_areas": null,
      "grid_template_columns": null,
      "grid_template_rows": null,
      "height": null,
      "justify_content": null,
      "justify_items": null,
      "left": null,
      "margin": null,
      "max_height": null,
      "max_width": null,
      "min_height": null,
      "min_width": null,
      "object_fit": null,
      "object_position": null,
      "order": null,
      "overflow": null,
      "overflow_x": null,
      "overflow_y": null,
      "padding": null,
      "right": null,
      "top": null,
      "visibility": null,
      "width": null
     }
    },
    "4f7061adcc2740079b71946341e60edb": {
     "model_module": "@jupyter-widgets/controls",
     "model_name": "SliderStyleModel",
     "state": {
      "_model_module": "@jupyter-widgets/controls",
      "_model_module_version": "1.5.0",
      "_model_name": "SliderStyleModel",
      "_view_count": null,
      "_view_module": "@jupyter-widgets/base",
      "_view_module_version": "1.2.0",
      "_view_name": "StyleView",
      "description_width": "",
      "handle_color": null
     }
    },
    "5daf5395c7fe4246a34c4efa243ff2e9": {
     "model_module": "@jupyter-widgets/base",
     "model_name": "LayoutModel",
     "state": {
      "_model_module": "@jupyter-widgets/base",
      "_model_module_version": "1.2.0",
      "_model_name": "LayoutModel",
      "_view_count": null,
      "_view_module": "@jupyter-widgets/base",
      "_view_module_version": "1.2.0",
      "_view_name": "LayoutView",
      "align_content": null,
      "align_items": null,
      "align_self": null,
      "border": null,
      "bottom": null,
      "display": null,
      "flex": null,
      "flex_flow": null,
      "grid_area": null,
      "grid_auto_columns": null,
      "grid_auto_flow": null,
      "grid_auto_rows": null,
      "grid_column": null,
      "grid_gap": null,
      "grid_row": null,
      "grid_template_areas": null,
      "grid_template_columns": null,
      "grid_template_rows": null,
      "height": null,
      "justify_content": null,
      "justify_items": null,
      "left": null,
      "margin": null,
      "max_height": null,
      "max_width": null,
      "min_height": null,
      "min_width": null,
      "object_fit": null,
      "object_position": null,
      "order": null,
      "overflow": null,
      "overflow_x": null,
      "overflow_y": null,
      "padding": null,
      "right": null,
      "top": null,
      "visibility": null,
      "width": null
     }
    },
    "5e1dd62568eb4810b71d3bf5e17cdbae": {
     "model_module": "@jupyter-widgets/output",
     "model_name": "OutputModel",
     "state": {
      "_dom_classes": [],
      "_model_module": "@jupyter-widgets/output",
      "_model_module_version": "1.0.0",
      "_model_name": "OutputModel",
      "_view_count": null,
      "_view_module": "@jupyter-widgets/output",
      "_view_module_version": "1.0.0",
      "_view_name": "OutputView",
      "layout": "IPY_MODEL_5daf5395c7fe4246a34c4efa243ff2e9",
      "msg_id": "",
      "outputs": [
       {
        "image/png": "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\n",
        "metadata": {
         "needs_background": "light",
         "tags": []
        },
        "output_type": "display_data",
        "text/plain": "<Figure size 432x288 with 1 Axes>"
       }
      ]
     }
    },
    "8ff8c17aa6964365a1e7d0ca0447767c": {
     "model_module": "@jupyter-widgets/controls",
     "model_name": "FloatSliderModel",
     "state": {
      "_dom_classes": [],
      "_model_module": "@jupyter-widgets/controls",
      "_model_module_version": "1.5.0",
      "_model_name": "FloatSliderModel",
      "_view_count": null,
      "_view_module": "@jupyter-widgets/controls",
      "_view_module_version": "1.5.0",
      "_view_name": "FloatSliderView",
      "continuous_update": true,
      "description": "time",
      "description_tooltip": null,
      "disabled": false,
      "layout": "IPY_MODEL_ace84326f59c4591ba77c71b0b854985",
      "max": 10000,
      "min": 0,
      "orientation": "horizontal",
      "readout": true,
      "readout_format": ".2f",
      "step": 60,
      "style": "IPY_MODEL_4f7061adcc2740079b71946341e60edb",
      "value": 0
     }
    },
    "ace84326f59c4591ba77c71b0b854985": {
     "model_module": "@jupyter-widgets/base",
     "model_name": "LayoutModel",
     "state": {
      "_model_module": "@jupyter-widgets/base",
      "_model_module_version": "1.2.0",
      "_model_name": "LayoutModel",
      "_view_count": null,
      "_view_module": "@jupyter-widgets/base",
      "_view_module_version": "1.2.0",
      "_view_name": "LayoutView",
      "align_content": null,
      "align_items": null,
      "align_self": null,
      "border": null,
      "bottom": null,
      "display": null,
      "flex": null,
      "flex_flow": null,
      "grid_area": null,
      "grid_auto_columns": null,
      "grid_auto_flow": null,
      "grid_auto_rows": null,
      "grid_column": null,
      "grid_gap": null,
      "grid_row": null,
      "grid_template_areas": null,
      "grid_template_columns": null,
      "grid_template_rows": null,
      "height": null,
      "justify_content": null,
      "justify_items": null,
      "left": null,
      "margin": null,
      "max_height": null,
      "max_width": null,
      "min_height": null,
      "min_width": null,
      "object_fit": null,
      "object_position": null,
      "order": null,
      "overflow": null,
      "overflow_x": null,
      "overflow_y": null,
      "padding": null,
      "right": null,
      "top": null,
      "visibility": null,
      "width": null
     }
    }
   }
  }
 },
 "nbformat": 4,
 "nbformat_minor": 1
}
