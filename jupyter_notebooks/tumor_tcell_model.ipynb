{
 "cells": [
  {
   "cell_type": "markdown",
   "id": "e4156b51",
   "metadata": {},
   "source": [
    "# Tumor/T-cell model"
   ]
  },
  {
   "cell_type": "markdown",
   "id": "c689bc40",
   "metadata": {},
   "source": [
    "We will walk through the creation of the multi-scale agent based model of T cell-tumor model. First we will describe and demonstrate testing of individual components called \"processes\" and then gradually introduce more complexity by connecting individually components together. "
   ]
  },
  {
   "cell_type": "code",
   "execution_count": null,
   "id": "junior-russian",
   "metadata": {},
   "outputs": [],
   "source": [
    "%%capture\n",
    "#Install tumor-tcell from one directory up\n",
    "!pip install ../"
   ]
  },
  {
   "cell_type": "code",
   "execution_count": null,
   "id": "f68700ae",
   "metadata": {},
   "outputs": [],
   "source": [
    "#Import important packages for testing out the models throughout this jupyter notebook\n",
    "\n",
    "#External modules needed\n",
    "import seaborn as sns\n",
    "import matplotlib.pyplot as pl\n",
    "import pandas as pd\n",
    "\n",
    "#Vivarium Core modules needed\n",
    "from vivarium.core.composition import simulate_composer\n",
    "from vivarium.plots.agents_multigen import plot_agents_multigen\n",
    "from vivarium.library.units import units, remove_units\n",
    "\n",
    "#Process tumor-tcell modules needed\n",
    "from tumor_tcell.processes.tumor import test_batch_tumor\n",
    "from tumor_tcell.processes.tumor import get_timeline as get_timeline_tumor\n",
    "from tumor_tcell.processes.t_cell import test_batch_t_cell\n",
    "from tumor_tcell.processes.t_cell import get_timeline as get_timeline_tcell\n",
    "\n",
    "#Composite tumor-tcell modules needed\n",
    "from tumor_tcell.composites.t_cell_agent import TCellAgent\n",
    "from tumor_tcell.composites.tumor_agent import TumorAgent\n",
    "from tumor_tcell.composites.tumor_microenvironment import test_microenvironment, make_neighbors_config\n",
    "from tumor_tcell.plots.snapshots import plot_snapshots, format_snapshot_data\n",
    "\n",
    "#Experiment tumor-tcell modules needed\n",
    "from tumor_tcell.experiments.main import (\n",
    "    tumor_tcell_abm, plots_suite, get_tcells, get_tumors)\n",
    "\n",
    "#Analysis tumor-tcell modules needed\n",
    "from tumor_tcell.library.data_process import data_to_dataframes\n",
    "from tumor_tcell.library.population_analysis import division_analysis\n",
    "from tumor_tcell.library.population_plots import (\n",
    "    population_plot, division_plot, death_plot)\n",
    "\n",
    "#Set out directory\n",
    "outdir = 'out'"
   ]
  },
  {
   "cell_type": "markdown",
   "id": "3d723f14",
   "metadata": {},
   "source": [
    "## Processes"
   ]
  },
  {
   "cell_type": "markdown",
   "id": "bcdf68fd",
   "metadata": {},
   "source": [
    "The model is composed of two major cell types, each with two separate phenotpyes. Each cell has an associated process. The process for each cell type contains the fundamental rules that govern its behavior in interacting with the other cell types and with the inputs it receives from the environment.\n",
    "\n",
    "Testing the processes individually enables understanding if underlying parameters derived from literature values or primary data accurately represent behavior expected based on such research. "
   ]
  },
  {
   "cell_type": "markdown",
   "id": "66bbeeae",
   "metadata": {},
   "source": [
    "### Tumor"
   ]
  },
  {
   "cell_type": "markdown",
   "id": "32f096ca",
   "metadata": {},
   "source": [
    "The tumor process is focused on two states of a tumor: proliferative with low levels of immune molecules (MHCI and PDL1) and quiescent with high levels of immune molecules (MHCI and PDL1). Its transition from the proliferative state is dependent on the level of interferon gamma it is exposed to coming from the T cells. Both tumor types can be killed by recieving cytotoxic packets from the T cells."
   ]
  },
  {
   "cell_type": "markdown",
   "id": "216c56b8",
   "metadata": {},
   "source": [
    "In this next cell, we use the function to test out an individual tumor process. \n",
    "* This uses a get_timeline_tumor function which feeds input to the tumor process we will plan on exposing it to when we combine it with the environment and other proceses.\n",
    "* We can change variables like total_time (total simulation time in seconds), batch size (number of simulations to run for the process), timeline (preset inputs), and out_dir (save path for the plots) within the function test_batch_t_cell()"
   ]
  },
  {
   "cell_type": "code",
   "execution_count": null,
   "id": "7aee3380",
   "metadata": {},
   "outputs": [],
   "source": [
    "timeline = get_timeline_tumor()\n",
    "test_batch_tumor(\n",
    "#     total_time=10000,\n",
    "    batch_size=3,\n",
    "    timeline=timeline,\n",
    "    out_dir=outdir)"
   ]
  },
  {
   "cell_type": "markdown",
   "id": "2a5409e5",
   "metadata": {},
   "source": [
    "The experiment ID is recorded for each experiment and parameters that are set to emit from the process are plotted. We can see that the cell is receiving increasing numbers of cytotoxic packets, and T cell death is recorded after the threshold is met."
   ]
  },
  {
   "cell_type": "markdown",
   "id": "137bd8a8",
   "metadata": {},
   "source": [
    "### Tcell"
   ]
  },
  {
   "cell_type": "markdown",
   "id": "db659e40",
   "metadata": {},
   "source": [
    "The t cell process is focused on two states of a t cell: PD1- with increased secretion of immune molecules (IFNg and cytotoxic packets) and PD1+ with decreased secretion of immune molecules (IFNg and cytotoxic packets). These immune molecules have impact of the state and death of tumor cells. Its transition from the PD1- state is dependent on the length of time it is engaged with tumor cells. "
   ]
  },
  {
   "cell_type": "markdown",
   "id": "507c9391",
   "metadata": {},
   "source": [
    "In this next cell, we use the function to test out an individual t cell process. \n",
    "* This uses a get_timeline_tcell function which feeds input to the t cell process we will plan on exposing it to when we combine it with the environment and other proceses.\n",
    "* We can change variables like total_time (total simulation time in seconds), batch size (number of simulations to run for the process), timeline (preset inputs), and out_dir (save path for the plots) within the function test_batch_t_cell()"
   ]
  },
  {
   "cell_type": "code",
   "execution_count": null,
   "id": "63e96cb5",
   "metadata": {},
   "outputs": [],
   "source": [
    "timeline = get_timeline_tcell()\n",
    "test_batch_t_cell(\n",
    "    batch_size=3,\n",
    "    #total_time=100000,\n",
    "    timeline=timeline,\n",
    "    out_dir=outdir,\n",
    ")"
   ]
  },
  {
   "cell_type": "markdown",
   "id": "f433c8e4",
   "metadata": {},
   "source": [
    "The experiment ID is recorded for each experiment and parameters that are set to emit from the process are plotted. We can see that the cell is secreting increasing numbers of cytotoxic packets, it downregulates TCR in response to being exposed to MHCI for extended times, and death occurs for different T cells."
   ]
  },
  {
   "cell_type": "markdown",
   "id": "30751ce6",
   "metadata": {},
   "source": [
    "## Composites"
   ]
  },
  {
   "cell_type": "markdown",
   "id": "8f1a1ae1",
   "metadata": {},
   "source": [
    "### Tcell agent"
   ]
  },
  {
   "cell_type": "code",
   "execution_count": null,
   "id": "231e440a",
   "metadata": {},
   "outputs": [],
   "source": [
    "total_time = 100000\n",
    "agent_id = '0'\n",
    "parameters = {'agent_id': agent_id}\n",
    "composer = TCellAgent(parameters)\n",
    "\n",
    "# settings for simulation and plot\n",
    "initial = composer.initial_state()\n",
    "initial['internal']['cell_state'] = 'PD1p'  # set an initial state\n",
    "settings = {\n",
    "    'initial_state': initial,\n",
    "    'outer_path': ('agents', agent_id),\n",
    "    'return_raw_data': True,\n",
    "    'timestep': 60,\n",
    "    'total_time': total_time}\n",
    "tcell_agent_output = simulate_composer(composer, settings)"
   ]
  },
  {
   "cell_type": "code",
   "execution_count": null,
   "id": "c853c626",
   "metadata": {},
   "outputs": [],
   "source": [
    "plot_settings = {}\n",
    "fig = plot_agents_multigen(tcell_agent_output, plot_settings, out_dir =outdir)"
   ]
  },
  {
   "cell_type": "markdown",
   "id": "f16a08f1",
   "metadata": {},
   "source": [
    "### Tumor agent"
   ]
  },
  {
   "cell_type": "code",
   "execution_count": null,
   "id": "d2bcfa38",
   "metadata": {},
   "outputs": [],
   "source": [
    "total_time = 1000\n",
    "agent_id = '0'\n",
    "parameters = {'agent_id': agent_id}\n",
    "composer = TumorAgent(parameters)\n",
    "\n",
    "# settings for simulation and plot\n",
    "initial = composer.initial_state()\n",
    "initial['internal']['cell_state'] = 'PD1p'  # set an initial state\n",
    "settings = {\n",
    "    'initial_state': initial,\n",
    "    'outer_path': ('agents', agent_id),\n",
    "    'return_raw_data': True,\n",
    "    'timestep': 10,\n",
    "    'total_time': total_time}\n",
    "tumor_agent_output = simulate_composer(composer, settings)"
   ]
  },
  {
   "cell_type": "code",
   "execution_count": null,
   "id": "221bc610",
   "metadata": {},
   "outputs": [],
   "source": [
    "plot_settings = {}\n",
    "fig = plot_agents_multigen(tumor_agent_output, plot_settings, out_dir =outdir)"
   ]
  },
  {
   "cell_type": "markdown",
   "id": "c4ffdd3b",
   "metadata": {},
   "source": [
    "### Tumor Microenvironment"
   ]
  },
  {
   "cell_type": "code",
   "execution_count": null,
   "id": "aa147c45",
   "metadata": {},
   "outputs": [],
   "source": [
    "bounds=[10 * units.um, 10 * units.um]\n",
    "\n",
    "data = test_microenvironment(\n",
    "    bounds=bounds,\n",
    "    n_bins=[10, 10],\n",
    "    jitter_force=1e-4,\n",
    "    diffusion=1e-9,\n",
    "    n_agents=1,\n",
    "    end_time=6)\n",
    "\n",
    "# snapshot plot\n",
    "agents, fields = format_snapshot_data(data)\n",
    "fig = plot_snapshots(\n",
    "    agents=remove_units(agents),\n",
    "    fields=fields,\n",
    "    bounds=remove_units(bounds),\n",
    "    n_snapshots=5,\n",
    "    out_dir=outdir,\n",
    "    filename='snapshots')"
   ]
  },
  {
   "cell_type": "markdown",
   "id": "fcab3e0b",
   "metadata": {},
   "source": [
    "## Experiments"
   ]
  },
  {
   "cell_type": "code",
   "execution_count": null,
   "id": "950fe801",
   "metadata": {},
   "outputs": [],
   "source": [
    "##Simulated Experiment\n",
    "N_TUMORS = 120\n",
    "N_TCELLS = 12\n",
    "PD1n_per = 0.8\n",
    "PDL1n_per = 0.4\n",
    "DEFAULT_TUMORS = get_tumors(number=N_TUMORS, state_per=PD1n_per)\n",
    "DEFAULT_TCELLS = get_tcells(number=N_TCELLS, state_per=PDL1n_per)\n",
    "\n",
    "# global parameters\n",
    "TIMESTEP = 60\n",
    "BOUNDS = [200 * units.um, 200 * units.um]\n",
    "\n",
    "data = tumor_tcell_abm(total_time=18000, tumors=DEFAULT_TUMORS, tcells=DEFAULT_TCELLS, \n",
    "                       halt_threshold=500,emit_step=60, bounds=BOUNDS,sim_step=10*TIMESTEP,)\n",
    "data;"
   ]
  },
  {
   "cell_type": "code",
   "execution_count": null,
   "id": "be304156",
   "metadata": {},
   "outputs": [],
   "source": [
    "data = remove_units(data)\n",
    "data;"
   ]
  },
  {
   "cell_type": "markdown",
   "id": "398a6735",
   "metadata": {},
   "source": [
    "## Analysis"
   ]
  },
  {
   "cell_type": "markdown",
   "id": "0fb0ac2e",
   "metadata": {},
   "source": [
    "### Single Cell"
   ]
  },
  {
   "cell_type": "code",
   "execution_count": null,
   "id": "7a8dc6f7",
   "metadata": {},
   "outputs": [],
   "source": [
    "#Plot the data using tumor-tcell experiment notebook and save in current directory\n",
    "fig1, fig2, fig3 = plots_suite(data, out_dir = outdir, bounds=[b*units.um for b in BOUNDS])"
   ]
  },
  {
   "cell_type": "markdown",
   "id": "35aef26e",
   "metadata": {},
   "source": [
    "### Population Dynamics"
   ]
  },
  {
   "cell_type": "code",
   "execution_count": null,
   "id": "090f8e91",
   "metadata": {
    "scrolled": true
   },
   "outputs": [],
   "source": [
    "df_tumor_death, df_tcell_death, tumor_plot, tcell_plot = data_to_dataframes(data)"
   ]
  },
  {
   "cell_type": "code",
   "execution_count": null,
   "id": "ffb413ca",
   "metadata": {},
   "outputs": [],
   "source": [
    "divide_time_T = division_analysis(tcell_plot)"
   ]
  },
  {
   "cell_type": "code",
   "execution_count": null,
   "id": "0d2d7163",
   "metadata": {},
   "outputs": [],
   "source": [
    "divide_time_tumor = division_analysis(tumor_plot)"
   ]
  },
  {
   "cell_type": "code",
   "execution_count": null,
   "id": "3ebe1061",
   "metadata": {},
   "outputs": [],
   "source": [
    "division_plot(divide_data = divide_time_T, out_dir = outdir, save_name='Tcells')"
   ]
  },
  {
   "cell_type": "code",
   "execution_count": null,
   "id": "9a50bf87",
   "metadata": {},
   "outputs": [],
   "source": [
    "division_plot(divide_data = divide_time_tumor, out_dir = outdir, save_name='Tumors')"
   ]
  },
  {
   "cell_type": "code",
   "execution_count": null,
   "id": "ded2907f",
   "metadata": {},
   "outputs": [],
   "source": [
    "population_plot(population_data = tumor_plot, cell_states = ['PDL1n','PDL1p'], out_dir=outdir, save_name='Tumors')"
   ]
  },
  {
   "cell_type": "code",
   "execution_count": null,
   "id": "929e0ffd",
   "metadata": {},
   "outputs": [],
   "source": [
    "population_plot(population_data = tcell_plot, cell_states = ['PD1n','PD1p'], out_dir=outdir, save_name='Tcells')"
   ]
  },
  {
   "cell_type": "code",
   "execution_count": null,
   "id": "3d3cf7b9",
   "metadata": {},
   "outputs": [],
   "source": [
    "death_plot(death_data = df_tumor_death, out_dir=outdir, save_name='Tumors')"
   ]
  },
  {
   "cell_type": "code",
   "execution_count": null,
   "id": "3b528b2c",
   "metadata": {},
   "outputs": [],
   "source": [
    "death_plot(death_data = df_tcell_death, out_dir=outdir, save_name='Tcells')"
   ]
  },
  {
   "cell_type": "code",
   "execution_count": null,
   "id": "5ba8f7c1",
   "metadata": {},
   "outputs": [],
   "source": [
    "df_tumor_death"
   ]
  },
  {
   "cell_type": "code",
   "execution_count": null,
   "id": "bbf4688e",
   "metadata": {},
   "outputs": [],
   "source": [
    "tcell_plot"
   ]
  },
  {
   "cell_type": "code",
   "execution_count": null,
   "id": "b4051f39",
   "metadata": {},
   "outputs": [],
   "source": []
  }
 ],
 "metadata": {
  "kernelspec": {
   "display_name": "Python 3",
   "language": "python",
   "name": "python3"
  },
  "language_info": {
   "codemirror_mode": {
    "name": "ipython",
    "version": 3
   },
   "file_extension": ".py",
   "mimetype": "text/x-python",
   "name": "python",
   "nbconvert_exporter": "python",
   "pygments_lexer": "ipython3",
   "version": "3.8.5"
  },
  "toc": {
   "base_numbering": 1,
   "nav_menu": {},
   "number_sections": false,
   "sideBar": true,
   "skip_h1_title": false,
   "title_cell": "Table of Contents",
   "title_sidebar": "Contents",
   "toc_cell": false,
   "toc_position": {},
   "toc_section_display": true,
   "toc_window_display": true
  }
 },
 "nbformat": 4,
 "nbformat_minor": 5
}
