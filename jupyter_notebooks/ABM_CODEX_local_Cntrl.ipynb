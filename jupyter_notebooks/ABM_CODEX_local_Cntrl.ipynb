{
 "cells": [
  {
   "cell_type": "markdown",
   "metadata": {
    "id": "iemTysKanIp1"
   },
   "source": [
    "# Using CODEX Multiplexed Imaging Data as Input (No T cells)"
   ]
  },
  {
   "cell_type": "markdown",
   "metadata": {},
   "source": [
    "This notebook was used to import CODEX multiplexed imaging data for the No T cell treated condition to initialize a tumor-tcell experiment"
   ]
  },
  {
   "cell_type": "code",
   "execution_count": 1,
   "metadata": {
    "executionInfo": {
     "elapsed": 1123,
     "status": "ok",
     "timestamp": 1617811204750,
     "user": {
      "displayName": "John Wirthlin Hickey",
      "photoUrl": "",
      "userId": "07408315926250182330"
     },
     "user_tz": 420
    },
    "id": "cT4WUWr_WNy9"
   },
   "outputs": [],
   "source": [
    "#Import Packages\n",
    "#Needed for moving to output\n",
    "import numpy as np\n",
    "import pandas as pd\n",
    "import os\n",
    "import seaborn as sns\n",
    "import matplotlib.pyplot as pl\n",
    "import itertools\n",
    "from collections import Counter\n",
    "\n",
    "#Import other needed packages\n",
    "from vivarium.library.units import units, remove_units\n",
    "from tumor_tcell.experiments.main import tumor_tcell_abm\n",
    "from tumor_tcell.experiments.main import plots_suite\n",
    "from tumor_tcell.experiments.main import get_tcells\n",
    "from tumor_tcell.experiments.main import get_tumors\n",
    "from tumor_tcell.library.phylogeny import get_phylogeny"
   ]
  },
  {
   "cell_type": "markdown",
   "metadata": {},
   "source": [
    "Import the data needed from a CODEX multiplexed experiment (this experiment output only contains necessary input columns to the tumor-tcell)"
   ]
  },
  {
   "cell_type": "code",
   "execution_count": 3,
   "metadata": {},
   "outputs": [
    {
     "data": {
      "text/plain": [
       "'/mnt/c/Users/akoya-stanford/Python_Code/tumor-tcell/out/analysis/Cntrl'"
      ]
     },
     "execution_count": 3,
     "metadata": {},
     "output_type": "execute_result"
    }
   ],
   "source": [
    "#Read in the data from parent directory\n",
    "analysis_dir = '/mnt/c/Users/akoya-stanford/Python_Code/tumor-tcell/out/analysis/'\n",
    "experiment_id = 'Cntrl/'\n",
    "experiment_dir = analysis_dir+experiment_id\n",
    "os.chdir(experiment_dir)\n",
    "\n",
    "#Read in the data from parent directory\n",
    "df_2HC_exp = pd.read_csv('Cntrl_exp_1of4.csv')\n",
    "df_2HC_exp.rename(columns = {\"Unnamed: 0\": \"cell_index\"},  inplace = True) \n",
    "df_2HC_exp.set_index('cell_index', inplace = True)\n",
    "df_2HC_exp"
   ]
  },
  {
   "cell_type": "markdown",
   "metadata": {},
   "source": [
    "This block of code establishes intial parameters for the tumor_tcell_abm simulation:\n",
    "* bounds - the size of the experimental space in microns for x,y\n",
    "* Y pos - the column number for the y column in dataframe imported\n",
    "* X pos - the column number for the x column in dataframe imported\n",
    "* H2Kb pos - the column number for the H2Kb/MHCI column in dataframe imported (used for tumor cells)\n",
    "* PD1 - the column number for the PD1 column in dataframe imported (used for T cells)\n",
    "* PDL1 - the column number for the PD1 column in dataframe imported (used for tumor cells)\n",
    "* Celltype - the column number for the cell type identified from the CODEX data\n",
    "* IFNg_con - the column number for thedefault level of IFNg for all cells\n",
    "* tumor_diameter - control tumor diameter in simulation\n",
    "* tcell_diameter - control t cell diameter in simulation\n",
    "It will loop through the imported dataframe and establish a structure of dictionaries that can be used as input to the tumor_tcell_abm simulation "
   ]
  },
  {
   "cell_type": "code",
   "execution_count": 5,
   "metadata": {
    "colab": {
     "base_uri": "https://localhost:8080/"
    },
    "executionInfo": {
     "elapsed": 4592,
     "status": "ok",
     "timestamp": 1617811238771,
     "user": {
      "displayName": "John Wirthlin Hickey",
      "photoUrl": "",
      "userId": "07408315926250182330"
     },
     "user_tz": 420
    },
    "id": "omrt10VH0p9c",
    "outputId": "9ac7e71e-3fd2-4441-90fa-bf90e7357ddc"
   },
   "outputs": [
    {
     "data": {
      "text/plain": [
       "{}"
      ]
     },
     "execution_count": 5,
     "metadata": {},
     "output_type": "execute_result"
    }
   ],
   "source": [
    "#Set bounds\n",
    "bounds = [1800,1800]\n",
    "\n",
    "#Create a copy\n",
    "df_2HC_exp1 = df_2HC_exp.copy()\n",
    "\n",
    "#Column Number for iloc iterating\n",
    "Ypos = 0\n",
    "Xpos = 1\n",
    "H2Kb = 3\n",
    "PD1 = 4\n",
    "PDL1 = 5\n",
    "Celltype = 7\n",
    "IFNg_con = 8 \n",
    "\n",
    "tumor_diameter = 15\n",
    "tcell_diameter = 7.5\n",
    "\n",
    "tumors = {}\n",
    "IFNg = {}\n",
    "tcells = {}\n",
    "\n",
    "for i in range(len(df_2HC_exp1)):\n",
    "  if df_2HC_exp1.iloc[i, Celltype] == 'PDL1p' or df_2HC_exp1.iloc[i, Celltype] == 'PDL1n':\n",
    "    tumors.update({\n",
    "        'tumor_'+ str(df_2HC_exp1.index[i]) : {\n",
    "            'location': [df_2HC_exp1.iloc[i, Xpos]*units.um,df_2HC_exp1.iloc[i, Ypos]*units.um],\n",
    "            'type': 'tumor',\n",
    "            'cell_state': df_2HC_exp1.iloc[i, Celltype],\n",
    "            'PDL1': df_2HC_exp1.iloc[i, PDL1],\n",
    "            'MHCI': df_2HC_exp1.iloc[i, H2Kb],\n",
    "            'diameter': tumor_diameter*units.um,\n",
    "        }\n",
    "    })\n",
    "    \n",
    "    IFNg.update({\n",
    "        df_2HC_exp1.index[i] : {\n",
    "            'amount': df_2HC_exp1.iloc[i, IFNg_con],\n",
    "            'location': [df_2HC_exp1.iloc[i, Xpos]*units.um,df_2HC_exp1.iloc[i, Ypos]*units.um],\n",
    "        }\n",
    "    })\n",
    "\n",
    "  else: \n",
    "    tcells.update({\n",
    "        'tcell_'+ str(df_2HC_exp1.index[i]) : {\n",
    "            'location': [df_2HC_exp1.iloc[i, Xpos]*units.um,df_2HC_exp1.iloc[i, Ypos]*units.um],\n",
    "            'type': 'tcell',\n",
    "            'cell_state': df_2HC_exp1.iloc[i, Celltype],\n",
    "            'PD1': df_2HC_exp1.iloc[i, PD1],\n",
    "            'diameter': tcell_diameter*units.um,\n",
    "        }\n",
    "    })\n",
    "    IFNg.update({\n",
    "        df_2HC_exp1.index[i]: {\n",
    "        'amount': df_2HC_exp1.iloc[i, IFNg_con],\n",
    "        'location': [df_2HC_exp1.iloc[i, Xpos]*units.um,df_2HC_exp1.iloc[i, Ypos]*units.um],\n",
    "        }\n",
    "    })\n",
    "\n",
    "tcells"
   ]
  },
  {
   "cell_type": "markdown",
   "metadata": {
    "id": "vDGBmw7dnXOc"
   },
   "source": [
    "Here tumor_tcell_abm can directly be called, initialized with the two dictionaries created (tumors, tcells), set for the time and bounds. \n",
    "Also, parameters like halt_threshold (number of cells to stop the simulation) and emit_step (how often to output data from the simulation in second). \n",
    "emitter=database enables storing the data in a database for future retrieval and usually is not changed. "
   ]
  },
  {
   "cell_type": "code",
   "execution_count": 6,
   "metadata": {
    "colab": {
     "base_uri": "https://localhost:8080/"
    },
    "executionInfo": {
     "elapsed": 217836,
     "status": "ok",
     "timestamp": 1617811459588,
     "user": {
      "displayName": "John Wirthlin Hickey",
      "photoUrl": "",
      "userId": "07408315926250182330"
     },
     "user_tz": 420
    },
    "id": "SeSFGmzswuru",
    "outputId": "1b3ee9d8-dc85-4d49-cd28-0cff44a8a6a5"
   },
   "outputs": [
    {
     "name": "stdout",
     "output_type": "stream",
     "text": [
      "Initializing experiment tumor_tcell_20210716.142727\n"
     ]
    },
    {
     "name": "stderr",
     "output_type": "stream",
     "text": [
      " 69%|██████▉   | 299/432 [53:18:30<55:17:58, 1496.83s/it]"
     ]
    },
    {
     "name": "stdout",
     "output_type": "stream",
     "text": [
      "halt threshold of 10000 reached at time = 178800\n"
     ]
    },
    {
     "name": "stderr",
     "output_type": "stream",
     "text": [
      "\r",
      " 69%|██████▉   | 300/432 [53:18:30<38:25:20, 1047.89s/it]"
     ]
    },
    {
     "name": "stdout",
     "output_type": "stream",
     "text": [
      "halt threshold of 10000 reached at time = 179400\n"
     ]
    },
    {
     "name": "stderr",
     "output_type": "stream",
     "text": [
      "\r",
      " 70%|██████▉   | 301/432 [53:18:31<26:41:44, 733.62s/it] "
     ]
    },
    {
     "name": "stdout",
     "output_type": "stream",
     "text": [
      "halt threshold of 10000 reached at time = 180000\n"
     ]
    },
    {
     "name": "stderr",
     "output_type": "stream",
     "text": [
      "\r",
      " 70%|██████▉   | 302/432 [53:18:31<18:32:52, 513.63s/it]"
     ]
    },
    {
     "name": "stdout",
     "output_type": "stream",
     "text": [
      "halt threshold of 10000 reached at time = 180600\n"
     ]
    },
    {
     "name": "stderr",
     "output_type": "stream",
     "text": [
      "\r",
      " 70%|███████   | 303/432 [53:18:31<12:53:13, 359.64s/it]"
     ]
    },
    {
     "name": "stdout",
     "output_type": "stream",
     "text": [
      "halt threshold of 10000 reached at time = 181200\n"
     ]
    },
    {
     "name": "stderr",
     "output_type": "stream",
     "text": [
      "\r",
      " 70%|███████   | 304/432 [53:18:32<8:57:16, 251.85s/it] "
     ]
    },
    {
     "name": "stdout",
     "output_type": "stream",
     "text": [
      "halt threshold of 10000 reached at time = 181800\n"
     ]
    },
    {
     "name": "stderr",
     "output_type": "stream",
     "text": [
      "\r",
      " 71%|███████   | 305/432 [53:18:32<6:13:22, 176.39s/it]"
     ]
    },
    {
     "name": "stdout",
     "output_type": "stream",
     "text": [
      "halt threshold of 10000 reached at time = 182400\n"
     ]
    },
    {
     "name": "stderr",
     "output_type": "stream",
     "text": [
      "\r",
      " 71%|███████   | 306/432 [53:18:32<4:19:30, 123.58s/it]"
     ]
    },
    {
     "name": "stdout",
     "output_type": "stream",
     "text": [
      "halt threshold of 10000 reached at time = 183000\n"
     ]
    },
    {
     "name": "stderr",
     "output_type": "stream",
     "text": [
      "\r",
      " 71%|███████   | 307/432 [53:18:33<3:00:25, 86.60s/it] "
     ]
    },
    {
     "name": "stdout",
     "output_type": "stream",
     "text": [
      "halt threshold of 10000 reached at time = 183600\n"
     ]
    },
    {
     "name": "stderr",
     "output_type": "stream",
     "text": [
      "\r",
      " 71%|███████▏  | 308/432 [53:18:33<2:05:30, 60.73s/it]"
     ]
    },
    {
     "name": "stdout",
     "output_type": "stream",
     "text": [
      "halt threshold of 10000 reached at time = 184200\n"
     ]
    },
    {
     "name": "stderr",
     "output_type": "stream",
     "text": [
      "\r",
      " 72%|███████▏  | 309/432 [53:18:33<1:27:20, 42.61s/it]"
     ]
    },
    {
     "name": "stdout",
     "output_type": "stream",
     "text": [
      "halt threshold of 10000 reached at time = 184800\n"
     ]
    },
    {
     "name": "stderr",
     "output_type": "stream",
     "text": [
      "\r",
      " 72%|███████▏  | 310/432 [53:18:34<1:00:51, 29.93s/it]"
     ]
    },
    {
     "name": "stdout",
     "output_type": "stream",
     "text": [
      "halt threshold of 10000 reached at time = 185400\n"
     ]
    },
    {
     "name": "stderr",
     "output_type": "stream",
     "text": [
      "\r",
      " 72%|███████▏  | 311/432 [53:18:34<42:27, 21.05s/it]  "
     ]
    },
    {
     "name": "stdout",
     "output_type": "stream",
     "text": [
      "halt threshold of 10000 reached at time = 186000\n"
     ]
    },
    {
     "name": "stderr",
     "output_type": "stream",
     "text": [
      "\r",
      " 72%|███████▏  | 312/432 [53:18:34<29:40, 14.84s/it]"
     ]
    },
    {
     "name": "stdout",
     "output_type": "stream",
     "text": [
      "halt threshold of 10000 reached at time = 186600\n"
     ]
    },
    {
     "name": "stderr",
     "output_type": "stream",
     "text": [
      "\r",
      " 72%|███████▏  | 313/432 [53:18:35<20:48, 10.49s/it]"
     ]
    },
    {
     "name": "stdout",
     "output_type": "stream",
     "text": [
      "halt threshold of 10000 reached at time = 187200\n"
     ]
    },
    {
     "name": "stderr",
     "output_type": "stream",
     "text": [
      "\r",
      " 73%|███████▎  | 314/432 [53:18:35<14:38,  7.44s/it]"
     ]
    },
    {
     "name": "stdout",
     "output_type": "stream",
     "text": [
      "halt threshold of 10000 reached at time = 187800\n"
     ]
    },
    {
     "name": "stderr",
     "output_type": "stream",
     "text": [
      "\r",
      " 73%|███████▎  | 315/432 [53:18:35<10:21,  5.31s/it]"
     ]
    },
    {
     "name": "stdout",
     "output_type": "stream",
     "text": [
      "halt threshold of 10000 reached at time = 188400\n"
     ]
    },
    {
     "name": "stderr",
     "output_type": "stream",
     "text": [
      "\r",
      " 73%|███████▎  | 316/432 [53:18:37<08:06,  4.19s/it]"
     ]
    },
    {
     "name": "stdout",
     "output_type": "stream",
     "text": [
      "halt threshold of 10000 reached at time = 189000\n"
     ]
    },
    {
     "name": "stderr",
     "output_type": "stream",
     "text": [
      "\r",
      " 73%|███████▎  | 317/432 [53:18:37<05:48,  3.03s/it]"
     ]
    },
    {
     "name": "stdout",
     "output_type": "stream",
     "text": [
      "halt threshold of 10000 reached at time = 189600\n"
     ]
    },
    {
     "name": "stderr",
     "output_type": "stream",
     "text": [
      "\r",
      " 74%|███████▎  | 318/432 [53:18:38<04:13,  2.23s/it]"
     ]
    },
    {
     "name": "stdout",
     "output_type": "stream",
     "text": [
      "halt threshold of 10000 reached at time = 190200\n"
     ]
    },
    {
     "name": "stderr",
     "output_type": "stream",
     "text": [
      "\r",
      " 74%|███████▍  | 319/432 [53:18:38<03:07,  1.66s/it]"
     ]
    },
    {
     "name": "stdout",
     "output_type": "stream",
     "text": [
      "halt threshold of 10000 reached at time = 190800\n"
     ]
    },
    {
     "name": "stderr",
     "output_type": "stream",
     "text": [
      "\r",
      " 74%|███████▍  | 320/432 [53:18:38<02:21,  1.26s/it]"
     ]
    },
    {
     "name": "stdout",
     "output_type": "stream",
     "text": [
      "halt threshold of 10000 reached at time = 191400\n"
     ]
    },
    {
     "name": "stderr",
     "output_type": "stream",
     "text": [
      "\r",
      " 74%|███████▍  | 321/432 [53:18:39<01:49,  1.02it/s]"
     ]
    },
    {
     "name": "stdout",
     "output_type": "stream",
     "text": [
      "halt threshold of 10000 reached at time = 192000\n"
     ]
    },
    {
     "name": "stderr",
     "output_type": "stream",
     "text": [
      "\r",
      " 75%|███████▍  | 322/432 [53:18:39<01:26,  1.26it/s]"
     ]
    },
    {
     "name": "stdout",
     "output_type": "stream",
     "text": [
      "halt threshold of 10000 reached at time = 192600\n"
     ]
    },
    {
     "name": "stderr",
     "output_type": "stream",
     "text": [
      "\r",
      " 75%|███████▍  | 323/432 [53:18:39<01:11,  1.53it/s]"
     ]
    },
    {
     "name": "stdout",
     "output_type": "stream",
     "text": [
      "halt threshold of 10000 reached at time = 193200\n"
     ]
    },
    {
     "name": "stderr",
     "output_type": "stream",
     "text": [
      "\r",
      " 75%|███████▌  | 324/432 [53:18:40<01:00,  1.79it/s]"
     ]
    },
    {
     "name": "stdout",
     "output_type": "stream",
     "text": [
      "halt threshold of 10000 reached at time = 193800\n"
     ]
    },
    {
     "name": "stderr",
     "output_type": "stream",
     "text": [
      "\r",
      " 75%|███████▌  | 325/432 [53:18:40<00:52,  2.03it/s]"
     ]
    },
    {
     "name": "stdout",
     "output_type": "stream",
     "text": [
      "halt threshold of 10000 reached at time = 194400\n"
     ]
    },
    {
     "name": "stderr",
     "output_type": "stream",
     "text": [
      "\r",
      " 75%|███████▌  | 326/432 [53:18:40<00:47,  2.24it/s]"
     ]
    },
    {
     "name": "stdout",
     "output_type": "stream",
     "text": [
      "halt threshold of 10000 reached at time = 195000\n"
     ]
    },
    {
     "name": "stderr",
     "output_type": "stream",
     "text": [
      "\r",
      " 76%|███████▌  | 327/432 [53:18:41<00:43,  2.42it/s]"
     ]
    },
    {
     "name": "stdout",
     "output_type": "stream",
     "text": [
      "halt threshold of 10000 reached at time = 195600\n"
     ]
    },
    {
     "name": "stderr",
     "output_type": "stream",
     "text": [
      "\r",
      " 76%|███████▌  | 328/432 [53:18:41<00:40,  2.56it/s]"
     ]
    },
    {
     "name": "stdout",
     "output_type": "stream",
     "text": [
      "halt threshold of 10000 reached at time = 196200\n"
     ]
    },
    {
     "name": "stderr",
     "output_type": "stream",
     "text": [
      "\r",
      " 76%|███████▌  | 329/432 [53:18:41<00:38,  2.68it/s]"
     ]
    },
    {
     "name": "stdout",
     "output_type": "stream",
     "text": [
      "halt threshold of 10000 reached at time = 196800\n"
     ]
    },
    {
     "name": "stderr",
     "output_type": "stream",
     "text": [
      "\r",
      " 76%|███████▋  | 330/432 [53:18:42<00:36,  2.77it/s]"
     ]
    },
    {
     "name": "stdout",
     "output_type": "stream",
     "text": [
      "halt threshold of 10000 reached at time = 197400\n"
     ]
    },
    {
     "name": "stderr",
     "output_type": "stream",
     "text": [
      "\r",
      " 77%|███████▋  | 331/432 [53:18:42<00:35,  2.83it/s]"
     ]
    },
    {
     "name": "stdout",
     "output_type": "stream",
     "text": [
      "halt threshold of 10000 reached at time = 198000\n"
     ]
    },
    {
     "name": "stderr",
     "output_type": "stream",
     "text": [
      "\r",
      " 77%|███████▋  | 332/432 [53:18:42<00:34,  2.87it/s]"
     ]
    },
    {
     "name": "stdout",
     "output_type": "stream",
     "text": [
      "halt threshold of 10000 reached at time = 198600\n"
     ]
    },
    {
     "name": "stderr",
     "output_type": "stream",
     "text": [
      "\r",
      " 77%|███████▋  | 333/432 [53:18:43<00:34,  2.91it/s]"
     ]
    },
    {
     "name": "stdout",
     "output_type": "stream",
     "text": [
      "halt threshold of 10000 reached at time = 199200\n"
     ]
    },
    {
     "name": "stderr",
     "output_type": "stream",
     "text": [
      "\r",
      " 77%|███████▋  | 334/432 [53:18:44<01:10,  1.40it/s]"
     ]
    },
    {
     "name": "stdout",
     "output_type": "stream",
     "text": [
      "halt threshold of 10000 reached at time = 199800\n"
     ]
    },
    {
     "name": "stderr",
     "output_type": "stream",
     "text": [
      "\r",
      " 78%|███████▊  | 335/432 [53:18:45<00:58,  1.66it/s]"
     ]
    },
    {
     "name": "stdout",
     "output_type": "stream",
     "text": [
      "halt threshold of 10000 reached at time = 200400\n"
     ]
    },
    {
     "name": "stderr",
     "output_type": "stream",
     "text": [
      "\r",
      " 78%|███████▊  | 336/432 [53:18:45<00:50,  1.91it/s]"
     ]
    },
    {
     "name": "stdout",
     "output_type": "stream",
     "text": [
      "halt threshold of 10000 reached at time = 201000\n"
     ]
    },
    {
     "name": "stderr",
     "output_type": "stream",
     "text": [
      "\r",
      " 78%|███████▊  | 337/432 [53:18:45<00:44,  2.15it/s]"
     ]
    },
    {
     "name": "stdout",
     "output_type": "stream",
     "text": [
      "halt threshold of 10000 reached at time = 201600\n"
     ]
    },
    {
     "name": "stderr",
     "output_type": "stream",
     "text": [
      "\r",
      " 78%|███████▊  | 338/432 [53:18:46<00:40,  2.33it/s]"
     ]
    },
    {
     "name": "stdout",
     "output_type": "stream",
     "text": [
      "halt threshold of 10000 reached at time = 202200\n"
     ]
    },
    {
     "name": "stderr",
     "output_type": "stream",
     "text": [
      "\r",
      " 78%|███████▊  | 339/432 [53:18:46<00:37,  2.50it/s]"
     ]
    },
    {
     "name": "stdout",
     "output_type": "stream",
     "text": [
      "halt threshold of 10000 reached at time = 202800\n"
     ]
    },
    {
     "name": "stderr",
     "output_type": "stream",
     "text": [
      "\r",
      " 79%|███████▊  | 340/432 [53:18:46<00:35,  2.62it/s]"
     ]
    },
    {
     "name": "stdout",
     "output_type": "stream",
     "text": [
      "halt threshold of 10000 reached at time = 203400\n"
     ]
    },
    {
     "name": "stderr",
     "output_type": "stream",
     "text": [
      "\r",
      " 79%|███████▉  | 341/432 [53:18:47<00:33,  2.72it/s]"
     ]
    },
    {
     "name": "stdout",
     "output_type": "stream",
     "text": [
      "halt threshold of 10000 reached at time = 204000\n"
     ]
    },
    {
     "name": "stderr",
     "output_type": "stream",
     "text": [
      "\r",
      " 79%|███████▉  | 342/432 [53:18:47<00:32,  2.79it/s]"
     ]
    },
    {
     "name": "stdout",
     "output_type": "stream",
     "text": [
      "halt threshold of 10000 reached at time = 204600\n"
     ]
    },
    {
     "name": "stderr",
     "output_type": "stream",
     "text": [
      "\r",
      " 79%|███████▉  | 343/432 [53:18:47<00:31,  2.85it/s]"
     ]
    },
    {
     "name": "stdout",
     "output_type": "stream",
     "text": [
      "halt threshold of 10000 reached at time = 205200\n"
     ]
    },
    {
     "name": "stderr",
     "output_type": "stream",
     "text": [
      "\r",
      " 80%|███████▉  | 344/432 [53:18:48<00:30,  2.88it/s]"
     ]
    },
    {
     "name": "stdout",
     "output_type": "stream",
     "text": [
      "halt threshold of 10000 reached at time = 205800\n"
     ]
    },
    {
     "name": "stderr",
     "output_type": "stream",
     "text": [
      "\r",
      " 80%|███████▉  | 345/432 [53:18:48<00:29,  2.91it/s]"
     ]
    },
    {
     "name": "stdout",
     "output_type": "stream",
     "text": [
      "halt threshold of 10000 reached at time = 206400\n"
     ]
    },
    {
     "name": "stderr",
     "output_type": "stream",
     "text": [
      "\r",
      " 80%|████████  | 346/432 [53:18:48<00:29,  2.93it/s]"
     ]
    },
    {
     "name": "stdout",
     "output_type": "stream",
     "text": [
      "halt threshold of 10000 reached at time = 207000\n"
     ]
    },
    {
     "name": "stderr",
     "output_type": "stream",
     "text": [
      "\r",
      " 80%|████████  | 347/432 [53:18:49<00:28,  2.94it/s]"
     ]
    },
    {
     "name": "stdout",
     "output_type": "stream",
     "text": [
      "halt threshold of 10000 reached at time = 207600\n"
     ]
    },
    {
     "name": "stderr",
     "output_type": "stream",
     "text": [
      "\r",
      " 81%|████████  | 348/432 [53:18:49<00:28,  2.95it/s]"
     ]
    },
    {
     "name": "stdout",
     "output_type": "stream",
     "text": [
      "halt threshold of 10000 reached at time = 208200\n"
     ]
    },
    {
     "name": "stderr",
     "output_type": "stream",
     "text": [
      "\r",
      " 81%|████████  | 349/432 [53:18:49<00:28,  2.95it/s]"
     ]
    },
    {
     "name": "stdout",
     "output_type": "stream",
     "text": [
      "halt threshold of 10000 reached at time = 208800\n"
     ]
    },
    {
     "name": "stderr",
     "output_type": "stream",
     "text": [
      "\r",
      " 81%|████████  | 350/432 [53:18:50<00:27,  2.96it/s]"
     ]
    },
    {
     "name": "stdout",
     "output_type": "stream",
     "text": [
      "halt threshold of 10000 reached at time = 209400\n"
     ]
    },
    {
     "name": "stderr",
     "output_type": "stream",
     "text": [
      "\r",
      " 81%|████████▏ | 351/432 [53:18:50<00:27,  2.96it/s]"
     ]
    },
    {
     "name": "stdout",
     "output_type": "stream",
     "text": [
      "halt threshold of 10000 reached at time = 210000\n"
     ]
    },
    {
     "name": "stderr",
     "output_type": "stream",
     "text": [
      "\r",
      " 81%|████████▏ | 352/432 [53:18:52<00:57,  1.40it/s]"
     ]
    },
    {
     "name": "stdout",
     "output_type": "stream",
     "text": [
      "halt threshold of 10000 reached at time = 210600\n"
     ]
    },
    {
     "name": "stderr",
     "output_type": "stream",
     "text": [
      "\r",
      " 82%|████████▏ | 353/432 [53:18:52<00:47,  1.66it/s]"
     ]
    },
    {
     "name": "stdout",
     "output_type": "stream",
     "text": [
      "halt threshold of 10000 reached at time = 211200\n"
     ]
    },
    {
     "name": "stderr",
     "output_type": "stream",
     "text": [
      "\r",
      " 82%|████████▏ | 354/432 [53:18:52<00:40,  1.92it/s]"
     ]
    },
    {
     "name": "stdout",
     "output_type": "stream",
     "text": [
      "halt threshold of 10000 reached at time = 211800\n"
     ]
    },
    {
     "name": "stderr",
     "output_type": "stream",
     "text": [
      "\r",
      " 82%|████████▏ | 355/432 [53:18:53<00:35,  2.14it/s]"
     ]
    },
    {
     "name": "stdout",
     "output_type": "stream",
     "text": [
      "halt threshold of 10000 reached at time = 212400\n"
     ]
    },
    {
     "name": "stderr",
     "output_type": "stream",
     "text": [
      "\r",
      " 82%|████████▏ | 356/432 [53:18:53<00:32,  2.35it/s]"
     ]
    },
    {
     "name": "stdout",
     "output_type": "stream",
     "text": [
      "halt threshold of 10000 reached at time = 213000\n"
     ]
    },
    {
     "name": "stderr",
     "output_type": "stream",
     "text": [
      "\r",
      " 83%|████████▎ | 357/432 [53:18:53<00:29,  2.50it/s]"
     ]
    },
    {
     "name": "stdout",
     "output_type": "stream",
     "text": [
      "halt threshold of 10000 reached at time = 213600\n"
     ]
    },
    {
     "name": "stderr",
     "output_type": "stream",
     "text": [
      "\r",
      " 83%|████████▎ | 358/432 [53:18:54<00:28,  2.63it/s]"
     ]
    },
    {
     "name": "stdout",
     "output_type": "stream",
     "text": [
      "halt threshold of 10000 reached at time = 214200\n"
     ]
    },
    {
     "name": "stderr",
     "output_type": "stream",
     "text": [
      "\r",
      " 83%|████████▎ | 359/432 [53:18:54<00:26,  2.71it/s]"
     ]
    },
    {
     "name": "stdout",
     "output_type": "stream",
     "text": [
      "halt threshold of 10000 reached at time = 214800\n"
     ]
    },
    {
     "name": "stderr",
     "output_type": "stream",
     "text": [
      "\r",
      " 83%|████████▎ | 360/432 [53:18:54<00:25,  2.79it/s]"
     ]
    },
    {
     "name": "stdout",
     "output_type": "stream",
     "text": [
      "halt threshold of 10000 reached at time = 215400\n"
     ]
    },
    {
     "name": "stderr",
     "output_type": "stream",
     "text": [
      "\r",
      " 84%|████████▎ | 361/432 [53:18:55<00:24,  2.85it/s]"
     ]
    },
    {
     "name": "stdout",
     "output_type": "stream",
     "text": [
      "halt threshold of 10000 reached at time = 216000\n"
     ]
    },
    {
     "name": "stderr",
     "output_type": "stream",
     "text": [
      "\r",
      " 84%|████████▍ | 362/432 [53:18:55<00:24,  2.88it/s]"
     ]
    },
    {
     "name": "stdout",
     "output_type": "stream",
     "text": [
      "halt threshold of 10000 reached at time = 216600\n"
     ]
    },
    {
     "name": "stderr",
     "output_type": "stream",
     "text": [
      "\r",
      " 84%|████████▍ | 363/432 [53:18:55<00:23,  2.91it/s]"
     ]
    },
    {
     "name": "stdout",
     "output_type": "stream",
     "text": [
      "halt threshold of 10000 reached at time = 217200\n"
     ]
    },
    {
     "name": "stderr",
     "output_type": "stream",
     "text": [
      "\r",
      " 84%|████████▍ | 364/432 [53:18:56<00:23,  2.93it/s]"
     ]
    },
    {
     "name": "stdout",
     "output_type": "stream",
     "text": [
      "halt threshold of 10000 reached at time = 217800\n"
     ]
    },
    {
     "name": "stderr",
     "output_type": "stream",
     "text": [
      "\r",
      " 84%|████████▍ | 365/432 [53:18:56<00:22,  2.95it/s]"
     ]
    },
    {
     "name": "stdout",
     "output_type": "stream",
     "text": [
      "halt threshold of 10000 reached at time = 218400\n"
     ]
    },
    {
     "name": "stderr",
     "output_type": "stream",
     "text": [
      "\r",
      " 85%|████████▍ | 366/432 [53:18:56<00:22,  2.94it/s]"
     ]
    },
    {
     "name": "stdout",
     "output_type": "stream",
     "text": [
      "halt threshold of 10000 reached at time = 219000\n"
     ]
    },
    {
     "name": "stderr",
     "output_type": "stream",
     "text": [
      "\r",
      " 85%|████████▍ | 367/432 [53:18:57<00:21,  2.96it/s]"
     ]
    },
    {
     "name": "stdout",
     "output_type": "stream",
     "text": [
      "halt threshold of 10000 reached at time = 219600\n"
     ]
    },
    {
     "name": "stderr",
     "output_type": "stream",
     "text": [
      "\r",
      " 85%|████████▌ | 368/432 [53:18:57<00:21,  2.97it/s]"
     ]
    },
    {
     "name": "stdout",
     "output_type": "stream",
     "text": [
      "halt threshold of 10000 reached at time = 220200\n"
     ]
    },
    {
     "name": "stderr",
     "output_type": "stream",
     "text": [
      "\r",
      " 85%|████████▌ | 369/432 [53:18:57<00:21,  2.97it/s]"
     ]
    },
    {
     "name": "stdout",
     "output_type": "stream",
     "text": [
      "halt threshold of 10000 reached at time = 220800\n"
     ]
    },
    {
     "name": "stderr",
     "output_type": "stream",
     "text": [
      "\r",
      " 86%|████████▌ | 370/432 [53:18:59<00:44,  1.40it/s]"
     ]
    },
    {
     "name": "stdout",
     "output_type": "stream",
     "text": [
      "halt threshold of 10000 reached at time = 221400\n"
     ]
    },
    {
     "name": "stderr",
     "output_type": "stream",
     "text": [
      "\r",
      " 86%|████████▌ | 371/432 [53:18:59<00:36,  1.67it/s]"
     ]
    },
    {
     "name": "stdout",
     "output_type": "stream",
     "text": [
      "halt threshold of 10000 reached at time = 222000\n"
     ]
    },
    {
     "name": "stderr",
     "output_type": "stream",
     "text": [
      "\r",
      " 86%|████████▌ | 372/432 [53:19:00<00:31,  1.92it/s]"
     ]
    },
    {
     "name": "stdout",
     "output_type": "stream",
     "text": [
      "halt threshold of 10000 reached at time = 222600\n"
     ]
    },
    {
     "name": "stderr",
     "output_type": "stream",
     "text": [
      "\r",
      " 86%|████████▋ | 373/432 [53:19:00<00:27,  2.14it/s]"
     ]
    },
    {
     "name": "stdout",
     "output_type": "stream",
     "text": [
      "halt threshold of 10000 reached at time = 223200\n"
     ]
    },
    {
     "name": "stderr",
     "output_type": "stream",
     "text": [
      "\r",
      " 87%|████████▋ | 374/432 [53:19:00<00:24,  2.33it/s]"
     ]
    },
    {
     "name": "stdout",
     "output_type": "stream",
     "text": [
      "halt threshold of 10000 reached at time = 223800\n"
     ]
    },
    {
     "name": "stderr",
     "output_type": "stream",
     "text": [
      "\r",
      " 87%|████████▋ | 375/432 [53:19:01<00:22,  2.50it/s]"
     ]
    },
    {
     "name": "stdout",
     "output_type": "stream",
     "text": [
      "halt threshold of 10000 reached at time = 224400\n"
     ]
    },
    {
     "name": "stderr",
     "output_type": "stream",
     "text": [
      "\r",
      " 87%|████████▋ | 376/432 [53:19:01<00:21,  2.62it/s]"
     ]
    },
    {
     "name": "stdout",
     "output_type": "stream",
     "text": [
      "halt threshold of 10000 reached at time = 225000\n"
     ]
    },
    {
     "name": "stderr",
     "output_type": "stream",
     "text": [
      "\r",
      " 87%|████████▋ | 377/432 [53:19:01<00:20,  2.72it/s]"
     ]
    },
    {
     "name": "stdout",
     "output_type": "stream",
     "text": [
      "halt threshold of 10000 reached at time = 225600\n"
     ]
    },
    {
     "name": "stderr",
     "output_type": "stream",
     "text": [
      "\r",
      " 88%|████████▊ | 378/432 [53:19:02<00:19,  2.79it/s]"
     ]
    },
    {
     "name": "stdout",
     "output_type": "stream",
     "text": [
      "halt threshold of 10000 reached at time = 226200\n"
     ]
    },
    {
     "name": "stderr",
     "output_type": "stream",
     "text": [
      "\r",
      " 88%|████████▊ | 379/432 [53:19:02<00:18,  2.85it/s]"
     ]
    },
    {
     "name": "stdout",
     "output_type": "stream",
     "text": [
      "halt threshold of 10000 reached at time = 226800\n"
     ]
    },
    {
     "name": "stderr",
     "output_type": "stream",
     "text": [
      "\r",
      " 88%|████████▊ | 380/432 [53:19:02<00:17,  2.89it/s]"
     ]
    },
    {
     "name": "stdout",
     "output_type": "stream",
     "text": [
      "halt threshold of 10000 reached at time = 227400\n"
     ]
    },
    {
     "name": "stderr",
     "output_type": "stream",
     "text": [
      "\r",
      " 88%|████████▊ | 381/432 [53:19:03<00:17,  2.91it/s]"
     ]
    },
    {
     "name": "stdout",
     "output_type": "stream",
     "text": [
      "halt threshold of 10000 reached at time = 228000\n"
     ]
    },
    {
     "name": "stderr",
     "output_type": "stream",
     "text": [
      "\r",
      " 88%|████████▊ | 382/432 [53:19:03<00:17,  2.93it/s]"
     ]
    },
    {
     "name": "stdout",
     "output_type": "stream",
     "text": [
      "halt threshold of 10000 reached at time = 228600\n"
     ]
    },
    {
     "name": "stderr",
     "output_type": "stream",
     "text": [
      "\r",
      " 89%|████████▊ | 383/432 [53:19:03<00:16,  2.95it/s]"
     ]
    },
    {
     "name": "stdout",
     "output_type": "stream",
     "text": [
      "halt threshold of 10000 reached at time = 229200\n"
     ]
    },
    {
     "name": "stderr",
     "output_type": "stream",
     "text": [
      "\r",
      " 89%|████████▉ | 384/432 [53:19:04<00:16,  2.95it/s]"
     ]
    },
    {
     "name": "stdout",
     "output_type": "stream",
     "text": [
      "halt threshold of 10000 reached at time = 229800\n"
     ]
    },
    {
     "name": "stderr",
     "output_type": "stream",
     "text": [
      "\r",
      " 89%|████████▉ | 385/432 [53:19:04<00:15,  2.96it/s]"
     ]
    },
    {
     "name": "stdout",
     "output_type": "stream",
     "text": [
      "halt threshold of 10000 reached at time = 230400\n"
     ]
    },
    {
     "name": "stderr",
     "output_type": "stream",
     "text": [
      "\r",
      " 89%|████████▉ | 386/432 [53:19:04<00:15,  2.96it/s]"
     ]
    },
    {
     "name": "stdout",
     "output_type": "stream",
     "text": [
      "halt threshold of 10000 reached at time = 231000\n"
     ]
    },
    {
     "name": "stderr",
     "output_type": "stream",
     "text": [
      "\r",
      " 90%|████████▉ | 387/432 [53:19:05<00:15,  2.96it/s]"
     ]
    },
    {
     "name": "stdout",
     "output_type": "stream",
     "text": [
      "halt threshold of 10000 reached at time = 231600\n"
     ]
    },
    {
     "name": "stderr",
     "output_type": "stream",
     "text": [
      "\r",
      " 90%|████████▉ | 388/432 [53:19:05<00:14,  2.95it/s]"
     ]
    },
    {
     "name": "stdout",
     "output_type": "stream",
     "text": [
      "halt threshold of 10000 reached at time = 232200\n"
     ]
    },
    {
     "name": "stderr",
     "output_type": "stream",
     "text": [
      "\r",
      " 90%|█████████ | 389/432 [53:19:07<00:30,  1.40it/s]"
     ]
    },
    {
     "name": "stdout",
     "output_type": "stream",
     "text": [
      "halt threshold of 10000 reached at time = 232800\n"
     ]
    },
    {
     "name": "stderr",
     "output_type": "stream",
     "text": [
      "\r",
      " 90%|█████████ | 390/432 [53:19:07<00:25,  1.66it/s]"
     ]
    },
    {
     "name": "stdout",
     "output_type": "stream",
     "text": [
      "halt threshold of 10000 reached at time = 233400\n"
     ]
    },
    {
     "name": "stderr",
     "output_type": "stream",
     "text": [
      "\r",
      " 91%|█████████ | 391/432 [53:19:07<00:21,  1.92it/s]"
     ]
    },
    {
     "name": "stdout",
     "output_type": "stream",
     "text": [
      "halt threshold of 10000 reached at time = 234000\n"
     ]
    },
    {
     "name": "stderr",
     "output_type": "stream",
     "text": [
      "\r",
      " 91%|█████████ | 392/432 [53:19:08<00:18,  2.14it/s]"
     ]
    },
    {
     "name": "stdout",
     "output_type": "stream",
     "text": [
      "halt threshold of 10000 reached at time = 234600\n"
     ]
    },
    {
     "name": "stderr",
     "output_type": "stream",
     "text": [
      "\r",
      " 91%|█████████ | 393/432 [53:19:08<00:16,  2.34it/s]"
     ]
    },
    {
     "name": "stdout",
     "output_type": "stream",
     "text": [
      "halt threshold of 10000 reached at time = 235200\n"
     ]
    },
    {
     "name": "stderr",
     "output_type": "stream",
     "text": [
      "\r",
      " 91%|█████████ | 394/432 [53:19:08<00:15,  2.49it/s]"
     ]
    },
    {
     "name": "stdout",
     "output_type": "stream",
     "text": [
      "halt threshold of 10000 reached at time = 235800\n"
     ]
    },
    {
     "name": "stderr",
     "output_type": "stream",
     "text": [
      "\r",
      " 91%|█████████▏| 395/432 [53:19:09<00:14,  2.61it/s]"
     ]
    },
    {
     "name": "stdout",
     "output_type": "stream",
     "text": [
      "halt threshold of 10000 reached at time = 236400\n"
     ]
    },
    {
     "name": "stderr",
     "output_type": "stream",
     "text": [
      "\r",
      " 92%|█████████▏| 396/432 [53:19:09<00:13,  2.71it/s]"
     ]
    },
    {
     "name": "stdout",
     "output_type": "stream",
     "text": [
      "halt threshold of 10000 reached at time = 237000\n"
     ]
    },
    {
     "name": "stderr",
     "output_type": "stream",
     "text": [
      "\r",
      " 92%|█████████▏| 397/432 [53:19:09<00:12,  2.78it/s]"
     ]
    },
    {
     "name": "stdout",
     "output_type": "stream",
     "text": [
      "halt threshold of 10000 reached at time = 237600\n"
     ]
    },
    {
     "name": "stderr",
     "output_type": "stream",
     "text": [
      "\r",
      " 92%|█████████▏| 398/432 [53:19:10<00:12,  2.83it/s]"
     ]
    },
    {
     "name": "stdout",
     "output_type": "stream",
     "text": [
      "halt threshold of 10000 reached at time = 238200\n"
     ]
    },
    {
     "name": "stderr",
     "output_type": "stream",
     "text": [
      "\r",
      " 92%|█████████▏| 399/432 [53:19:10<00:11,  2.87it/s]"
     ]
    },
    {
     "name": "stdout",
     "output_type": "stream",
     "text": [
      "halt threshold of 10000 reached at time = 238800\n"
     ]
    },
    {
     "name": "stderr",
     "output_type": "stream",
     "text": [
      "\r",
      " 93%|█████████▎| 400/432 [53:19:10<00:11,  2.89it/s]"
     ]
    },
    {
     "name": "stdout",
     "output_type": "stream",
     "text": [
      "halt threshold of 10000 reached at time = 239400\n"
     ]
    },
    {
     "name": "stderr",
     "output_type": "stream",
     "text": [
      "\r",
      " 93%|█████████▎| 401/432 [53:19:11<00:10,  2.90it/s]"
     ]
    },
    {
     "name": "stdout",
     "output_type": "stream",
     "text": [
      "halt threshold of 10000 reached at time = 240000\n"
     ]
    },
    {
     "name": "stderr",
     "output_type": "stream",
     "text": [
      "\r",
      " 93%|█████████▎| 402/432 [53:19:11<00:10,  2.92it/s]"
     ]
    },
    {
     "name": "stdout",
     "output_type": "stream",
     "text": [
      "halt threshold of 10000 reached at time = 240600\n"
     ]
    },
    {
     "name": "stderr",
     "output_type": "stream",
     "text": [
      "\r",
      " 93%|█████████▎| 403/432 [53:19:11<00:09,  2.94it/s]"
     ]
    },
    {
     "name": "stdout",
     "output_type": "stream",
     "text": [
      "halt threshold of 10000 reached at time = 241200\n"
     ]
    },
    {
     "name": "stderr",
     "output_type": "stream",
     "text": [
      "\r",
      " 94%|█████████▎| 404/432 [53:19:12<00:09,  2.94it/s]"
     ]
    },
    {
     "name": "stdout",
     "output_type": "stream",
     "text": [
      "halt threshold of 10000 reached at time = 241800\n"
     ]
    },
    {
     "name": "stderr",
     "output_type": "stream",
     "text": [
      "\r",
      " 94%|█████████▍| 405/432 [53:19:12<00:09,  2.93it/s]"
     ]
    },
    {
     "name": "stdout",
     "output_type": "stream",
     "text": [
      "halt threshold of 10000 reached at time = 242400\n"
     ]
    },
    {
     "name": "stderr",
     "output_type": "stream",
     "text": [
      "\r",
      " 94%|█████████▍| 406/432 [53:19:12<00:08,  2.94it/s]"
     ]
    },
    {
     "name": "stdout",
     "output_type": "stream",
     "text": [
      "halt threshold of 10000 reached at time = 243000\n"
     ]
    },
    {
     "name": "stderr",
     "output_type": "stream",
     "text": [
      "\r",
      " 94%|█████████▍| 407/432 [53:19:14<00:17,  1.39it/s]"
     ]
    },
    {
     "name": "stdout",
     "output_type": "stream",
     "text": [
      "halt threshold of 10000 reached at time = 243600\n"
     ]
    },
    {
     "name": "stderr",
     "output_type": "stream",
     "text": [
      "\r",
      " 94%|█████████▍| 408/432 [53:19:14<00:14,  1.65it/s]"
     ]
    },
    {
     "name": "stdout",
     "output_type": "stream",
     "text": [
      "halt threshold of 10000 reached at time = 244200\n"
     ]
    },
    {
     "name": "stderr",
     "output_type": "stream",
     "text": [
      "\r",
      " 95%|█████████▍| 409/432 [53:19:15<00:12,  1.91it/s]"
     ]
    },
    {
     "name": "stdout",
     "output_type": "stream",
     "text": [
      "halt threshold of 10000 reached at time = 244800\n"
     ]
    },
    {
     "name": "stderr",
     "output_type": "stream",
     "text": [
      "\r",
      " 95%|█████████▍| 410/432 [53:19:15<00:10,  2.14it/s]"
     ]
    },
    {
     "name": "stdout",
     "output_type": "stream",
     "text": [
      "halt threshold of 10000 reached at time = 245400\n"
     ]
    },
    {
     "name": "stderr",
     "output_type": "stream",
     "text": [
      "\r",
      " 95%|█████████▌| 411/432 [53:19:15<00:08,  2.34it/s]"
     ]
    },
    {
     "name": "stdout",
     "output_type": "stream",
     "text": [
      "halt threshold of 10000 reached at time = 246000\n"
     ]
    },
    {
     "name": "stderr",
     "output_type": "stream",
     "text": [
      "\r",
      " 95%|█████████▌| 412/432 [53:19:16<00:08,  2.49it/s]"
     ]
    },
    {
     "name": "stdout",
     "output_type": "stream",
     "text": [
      "halt threshold of 10000 reached at time = 246600\n"
     ]
    },
    {
     "name": "stderr",
     "output_type": "stream",
     "text": [
      "\r",
      " 96%|█████████▌| 413/432 [53:19:16<00:07,  2.62it/s]"
     ]
    },
    {
     "name": "stdout",
     "output_type": "stream",
     "text": [
      "halt threshold of 10000 reached at time = 247200\n"
     ]
    },
    {
     "name": "stderr",
     "output_type": "stream",
     "text": [
      "\r",
      " 96%|█████████▌| 414/432 [53:19:16<00:06,  2.71it/s]"
     ]
    },
    {
     "name": "stdout",
     "output_type": "stream",
     "text": [
      "halt threshold of 10000 reached at time = 247800\n"
     ]
    },
    {
     "name": "stderr",
     "output_type": "stream",
     "text": [
      "\r",
      " 96%|█████████▌| 415/432 [53:19:17<00:06,  2.78it/s]"
     ]
    },
    {
     "name": "stdout",
     "output_type": "stream",
     "text": [
      "halt threshold of 10000 reached at time = 248400\n"
     ]
    },
    {
     "name": "stderr",
     "output_type": "stream",
     "text": [
      "\r",
      " 96%|█████████▋| 416/432 [53:19:17<00:05,  2.84it/s]"
     ]
    },
    {
     "name": "stdout",
     "output_type": "stream",
     "text": [
      "halt threshold of 10000 reached at time = 249000\n"
     ]
    },
    {
     "name": "stderr",
     "output_type": "stream",
     "text": [
      "\r",
      " 97%|█████████▋| 417/432 [53:19:17<00:05,  2.88it/s]"
     ]
    },
    {
     "name": "stdout",
     "output_type": "stream",
     "text": [
      "halt threshold of 10000 reached at time = 249600\n"
     ]
    },
    {
     "name": "stderr",
     "output_type": "stream",
     "text": [
      "\r",
      " 97%|█████████▋| 418/432 [53:19:18<00:04,  2.90it/s]"
     ]
    },
    {
     "name": "stdout",
     "output_type": "stream",
     "text": [
      "halt threshold of 10000 reached at time = 250200\n"
     ]
    },
    {
     "name": "stderr",
     "output_type": "stream",
     "text": [
      "\r",
      " 97%|█████████▋| 419/432 [53:19:18<00:04,  2.91it/s]"
     ]
    },
    {
     "name": "stdout",
     "output_type": "stream",
     "text": [
      "halt threshold of 10000 reached at time = 250800\n"
     ]
    },
    {
     "name": "stderr",
     "output_type": "stream",
     "text": [
      "\r",
      " 97%|█████████▋| 420/432 [53:19:18<00:04,  2.93it/s]"
     ]
    },
    {
     "name": "stdout",
     "output_type": "stream",
     "text": [
      "halt threshold of 10000 reached at time = 251400\n"
     ]
    },
    {
     "name": "stderr",
     "output_type": "stream",
     "text": [
      "\r",
      " 97%|█████████▋| 421/432 [53:19:19<00:03,  2.91it/s]"
     ]
    },
    {
     "name": "stdout",
     "output_type": "stream",
     "text": [
      "halt threshold of 10000 reached at time = 252000\n"
     ]
    },
    {
     "name": "stderr",
     "output_type": "stream",
     "text": [
      "\r",
      " 98%|█████████▊| 422/432 [53:19:19<00:03,  2.92it/s]"
     ]
    },
    {
     "name": "stdout",
     "output_type": "stream",
     "text": [
      "halt threshold of 10000 reached at time = 252600\n"
     ]
    },
    {
     "name": "stderr",
     "output_type": "stream",
     "text": [
      "\r",
      " 98%|█████████▊| 423/432 [53:19:19<00:03,  2.93it/s]"
     ]
    },
    {
     "name": "stdout",
     "output_type": "stream",
     "text": [
      "halt threshold of 10000 reached at time = 253200\n"
     ]
    },
    {
     "name": "stderr",
     "output_type": "stream",
     "text": [
      "\r",
      " 98%|█████████▊| 424/432 [53:19:20<00:02,  2.93it/s]"
     ]
    },
    {
     "name": "stdout",
     "output_type": "stream",
     "text": [
      "halt threshold of 10000 reached at time = 253800\n"
     ]
    },
    {
     "name": "stderr",
     "output_type": "stream",
     "text": [
      "\r",
      " 98%|█████████▊| 425/432 [53:19:21<00:05,  1.37it/s]"
     ]
    },
    {
     "name": "stdout",
     "output_type": "stream",
     "text": [
      "halt threshold of 10000 reached at time = 254400\n"
     ]
    },
    {
     "name": "stderr",
     "output_type": "stream",
     "text": [
      "\r",
      " 99%|█████████▊| 426/432 [53:19:22<00:03,  1.63it/s]"
     ]
    },
    {
     "name": "stdout",
     "output_type": "stream",
     "text": [
      "halt threshold of 10000 reached at time = 255000\n"
     ]
    },
    {
     "name": "stderr",
     "output_type": "stream",
     "text": [
      "\r",
      " 99%|█████████▉| 427/432 [53:19:22<00:02,  1.88it/s]"
     ]
    },
    {
     "name": "stdout",
     "output_type": "stream",
     "text": [
      "halt threshold of 10000 reached at time = 255600\n"
     ]
    },
    {
     "name": "stderr",
     "output_type": "stream",
     "text": [
      "\r",
      " 99%|█████████▉| 428/432 [53:19:22<00:01,  2.10it/s]"
     ]
    },
    {
     "name": "stdout",
     "output_type": "stream",
     "text": [
      "halt threshold of 10000 reached at time = 256200\n"
     ]
    },
    {
     "name": "stderr",
     "output_type": "stream",
     "text": [
      "\r",
      " 99%|█████████▉| 429/432 [53:19:23<00:01,  2.30it/s]"
     ]
    },
    {
     "name": "stdout",
     "output_type": "stream",
     "text": [
      "halt threshold of 10000 reached at time = 256800\n"
     ]
    },
    {
     "name": "stderr",
     "output_type": "stream",
     "text": [
      "\r",
      "100%|█████████▉| 430/432 [53:19:23<00:00,  2.47it/s]"
     ]
    },
    {
     "name": "stdout",
     "output_type": "stream",
     "text": [
      "halt threshold of 10000 reached at time = 257400\n"
     ]
    },
    {
     "name": "stderr",
     "output_type": "stream",
     "text": [
      "\r",
      "100%|█████████▉| 431/432 [53:19:23<00:00,  2.59it/s]"
     ]
    },
    {
     "name": "stdout",
     "output_type": "stream",
     "text": [
      "halt threshold of 10000 reached at time = 258000\n"
     ]
    },
    {
     "name": "stderr",
     "output_type": "stream",
     "text": [
      "100%|██████████| 432/432 [53:19:24<00:00, 444.36s/it]"
     ]
    },
    {
     "name": "stdout",
     "output_type": "stream",
     "text": [
      "halt threshold of 10000 reached at time = 258600\n",
      "Completed in 191964.29 seconds\n"
     ]
    },
    {
     "name": "stderr",
     "output_type": "stream",
     "text": [
      "\n"
     ]
    }
   ],
   "source": [
    "#using experimental CODEX data\n",
    "data = tumor_tcell_abm(tumors=tumors, \n",
    "                       tcells=tcells, \n",
    "                       n_tcells = 0,\n",
    "                       total_time=259200, \n",
    "                       bounds=[b*units.um for b in bounds], \n",
    "                       halt_threshold=10000,\n",
    "                       emit_step=600,\n",
    "                       emitter='database',)\n",
    "data;"
   ]
  },
  {
   "cell_type": "code",
   "execution_count": null,
   "metadata": {},
   "outputs": [],
   "source": []
  }
 ],
 "metadata": {
  "colab": {
   "collapsed_sections": [],
   "name": "21_04_ABM_CODEX_exp.ipynb",
   "provenance": [
    {
     "file_id": "16XtlMpm0ZcngKm9sdufNEQlP7yBsAloZ",
     "timestamp": 1617748650442
    },
    {
     "file_id": "10dSbwG2FL77SqkiZ-GGrCYRR2KaVHtsh",
     "timestamp": 1614633368744
    }
   ]
  },
  "kernelspec": {
   "display_name": "Python 3",
   "language": "python",
   "name": "python3"
  },
  "language_info": {
   "codemirror_mode": {
    "name": "ipython",
    "version": 3
   },
   "file_extension": ".py",
   "mimetype": "text/x-python",
   "name": "python",
   "nbconvert_exporter": "python",
   "pygments_lexer": "ipython3",
   "version": "3.8.5"
  },
  "widgets": {
   "application/vnd.jupyter.widget-state+json": {
    "281e5a208c9c4acbb92b00eecbf93c4f": {
     "model_module": "@jupyter-widgets/controls",
     "model_name": "VBoxModel",
     "state": {
      "_dom_classes": [
       "widget-interact"
      ],
      "_model_module": "@jupyter-widgets/controls",
      "_model_module_version": "1.5.0",
      "_model_name": "VBoxModel",
      "_view_count": null,
      "_view_module": "@jupyter-widgets/controls",
      "_view_module_version": "1.5.0",
      "_view_name": "VBoxView",
      "box_style": "",
      "children": [
       "IPY_MODEL_8ff8c17aa6964365a1e7d0ca0447767c",
       "IPY_MODEL_5e1dd62568eb4810b71d3bf5e17cdbae"
      ],
      "layout": "IPY_MODEL_4813cf771d084197bf1456eb27e8ed81"
     }
    },
    "4813cf771d084197bf1456eb27e8ed81": {
     "model_module": "@jupyter-widgets/base",
     "model_name": "LayoutModel",
     "state": {
      "_model_module": "@jupyter-widgets/base",
      "_model_module_version": "1.2.0",
      "_model_name": "LayoutModel",
      "_view_count": null,
      "_view_module": "@jupyter-widgets/base",
      "_view_module_version": "1.2.0",
      "_view_name": "LayoutView",
      "align_content": null,
      "align_items": null,
      "align_self": null,
      "border": null,
      "bottom": null,
      "display": null,
      "flex": null,
      "flex_flow": null,
      "grid_area": null,
      "grid_auto_columns": null,
      "grid_auto_flow": null,
      "grid_auto_rows": null,
      "grid_column": null,
      "grid_gap": null,
      "grid_row": null,
      "grid_template_areas": null,
      "grid_template_columns": null,
      "grid_template_rows": null,
      "height": null,
      "justify_content": null,
      "justify_items": null,
      "left": null,
      "margin": null,
      "max_height": null,
      "max_width": null,
      "min_height": null,
      "min_width": null,
      "object_fit": null,
      "object_position": null,
      "order": null,
      "overflow": null,
      "overflow_x": null,
      "overflow_y": null,
      "padding": null,
      "right": null,
      "top": null,
      "visibility": null,
      "width": null
     }
    },
    "4f7061adcc2740079b71946341e60edb": {
     "model_module": "@jupyter-widgets/controls",
     "model_name": "SliderStyleModel",
     "state": {
      "_model_module": "@jupyter-widgets/controls",
      "_model_module_version": "1.5.0",
      "_model_name": "SliderStyleModel",
      "_view_count": null,
      "_view_module": "@jupyter-widgets/base",
      "_view_module_version": "1.2.0",
      "_view_name": "StyleView",
      "description_width": "",
      "handle_color": null
     }
    },
    "5daf5395c7fe4246a34c4efa243ff2e9": {
     "model_module": "@jupyter-widgets/base",
     "model_name": "LayoutModel",
     "state": {
      "_model_module": "@jupyter-widgets/base",
      "_model_module_version": "1.2.0",
      "_model_name": "LayoutModel",
      "_view_count": null,
      "_view_module": "@jupyter-widgets/base",
      "_view_module_version": "1.2.0",
      "_view_name": "LayoutView",
      "align_content": null,
      "align_items": null,
      "align_self": null,
      "border": null,
      "bottom": null,
      "display": null,
      "flex": null,
      "flex_flow": null,
      "grid_area": null,
      "grid_auto_columns": null,
      "grid_auto_flow": null,
      "grid_auto_rows": null,
      "grid_column": null,
      "grid_gap": null,
      "grid_row": null,
      "grid_template_areas": null,
      "grid_template_columns": null,
      "grid_template_rows": null,
      "height": null,
      "justify_content": null,
      "justify_items": null,
      "left": null,
      "margin": null,
      "max_height": null,
      "max_width": null,
      "min_height": null,
      "min_width": null,
      "object_fit": null,
      "object_position": null,
      "order": null,
      "overflow": null,
      "overflow_x": null,
      "overflow_y": null,
      "padding": null,
      "right": null,
      "top": null,
      "visibility": null,
      "width": null
     }
    },
    "5e1dd62568eb4810b71d3bf5e17cdbae": {
     "model_module": "@jupyter-widgets/output",
     "model_name": "OutputModel",
     "state": {
      "_dom_classes": [],
      "_model_module": "@jupyter-widgets/output",
      "_model_module_version": "1.0.0",
      "_model_name": "OutputModel",
      "_view_count": null,
      "_view_module": "@jupyter-widgets/output",
      "_view_module_version": "1.0.0",
      "_view_name": "OutputView",
      "layout": "IPY_MODEL_5daf5395c7fe4246a34c4efa243ff2e9",
      "msg_id": "",
      "outputs": [
       {
        "image/png": "iVBORw0KGgoAAAANSUhEUgAAAYUAAAEKCAYAAAD9xUlFAAAABHNCSVQICAgIfAhkiAAAAAlwSFlzAAALEgAACxIB0t1+/AAAADh0RVh0U29mdHdhcmUAbWF0cGxvdGxpYiB2ZXJzaW9uMy4yLjIsIGh0dHA6Ly9tYXRwbG90bGliLm9yZy+WH4yJAAASNElEQVR4nO3df6zddX3H8edrreMPxQFy1zRALZhqhstW8YaQTJwbToE4qy5jkEVRidUEEp3bDEoyzf5yKpqYTUyNHbgwRIdM/kAHI0ayZDhvsZYiIAWLtCntHSxihnEW3vvjfO/H08u5/YE953vKfT6Sk/M97+8597zyzWle/X7P995vqgpJkgB+re8AkqTpYSlIkhpLQZLUWAqSpMZSkCQ1loIkqRlbKSQ5Lcm3kvwgyb1J3t/NT0pye5IHu/sTu3mSfDbJjiTbkpw1rmySpNHGuaewH/jLqjoTOAe4PMmZwJXAHVW1DrijewxwAbCuu20ErhljNknSCGMrharaU1V3d8s/Be4DTgE2ANd1T7sOeEu3vAH4Ug3cBZyQZPW48kmSnm3lJN4kyVrgVcB3gFVVtadb9Riwqls+BXh06GW7utkelnDyySfX2rVrj3JaSXp+27Jly39X1cyodWMvhSQvAm4CPlBVTyZp66qqkhzR39lIspHB4SXWrFnD3Nzc0YwrSc97SR5Zat1Yzz5K8gIGhXB9VX2tG+9dOCzU3e/r5ruB04Zefmo3O0BVbaqq2aqanZkZWXSSpOdonGcfBfgicF9VfXpo1S3Apd3ypcDXh+bv6M5COgf4ydBhJknSBIzz8NHvAW8H7kmytZt9BPg48JUklwGPABd1624FLgR2AE8B7xpjNknSCGMrhar6DyBLrD5vxPMLuHxceSRJh+ZvNEuSGktBktRYCpKkxlKQJDWWgiSpsRQkSY2lIElqLAVJUmMpSJIaS0GS1FgKkqTGUpAkNZaCJKmxFCRJjaUgSWosBUlSYylIkppxXqN5c5J9SbYPzW5MsrW77Vy4TGeStUl+NrTu8+PKJUla2jiv0Xwt8PfAlxYGVfVnC8tJrgZ+MvT8h6pq/RjzSJIOYZzXaL4zydpR65IEuAj4w3G9vyTpyPX1ncK5wN6qenBodnqS7yX5dpJze8olScvaOA8fHcwlwA1Dj/cAa6rq8SSvBv41ySur6snFL0yyEdgIsGbNmomElaTlYuJ7CklWAm8DblyYVdXPq+rxbnkL8BDw8lGvr6pNVTVbVbMzMzOTiCxJy0Yfh49eD9xfVbsWBklmkqzols8A1gEP95BNkpa1cZ6SegPwn8ArkuxKclm36mIOPHQE8FpgW3eK6r8A76uqJ8aVTZI02jjPPrpkifk7R8xuAm4aVxZJ0uHxN5olSY2lIElqLAVJUmMpSJIaS0GS1FgKkqTGUpAkNZaCJKmxFCRJjaUgSWosBUlSYylIkhpLQZLUWAqSpMZSkCQ1loIkqbEUJEmNpSBJasZ5jebNSfYl2T40+1iS3Um2drcLh9Z9OMmOJA8keeO4ckmSljbOPYVrgfNHzD9TVeu7260ASc4ELgZe2b3mc0lWjDGbJGmEsZVCVd0JPHGYT98AfLmqfl5VPwJ2AGePK5skabQ+vlO4Ism27vDSid3sFODRoefs6mbPkmRjkrkkc/Pz8+POKknLyqRL4RrgZcB6YA9w9ZH+gKraVFWzVTU7MzNztPNJ0rI20VKoqr1V9XRVPQN8gV8eItoNnDb01FO7mSRpgiZaCklWDz18K7BwZtItwMVJjktyOrAO+K9JZpMkwcpx/eAkNwCvA05Osgv4KPC6JOuBAnYC7wWoqnuTfAX4AbAfuLyqnh5XNknSaKmqvjM8Z7OzszU3N9d3DEk6piTZUlWzo9b5G82SpMZSkCQ1loIkqbEUJEmNpSBJaiwFSVJjKUiSGktBktRYCpKkxlKQJDWWgiSpsRQkSY2lIElqLAVJUmMpSJIaS0GS1FgKkqRmbKWQZHOSfUm2D80+meT+JNuS3JzkhG6+NsnPkmztbp8fVy5J0tLGuadwLXD+otntwG9X1e8APwQ+PLTuoapa393eN8ZckqQljK0UqupO4IlFs9uqan/38C7g1HG9vyTpyPX5ncK7gW8MPT49yfeSfDvJuX2FkqTlbGUfb5rkKmA/cH032gOsqarHk7wa+Nckr6yqJ0e8diOwEWDNmjWTiixJy8LE9xSSvBN4E/DnVVUAVfXzqnq8W94CPAS8fNTrq2pTVc1W1ezMzMyEUkvS8jDRUkhyPvAh4M1V9dTQfCbJim75DGAd8PAks0mSxnj4KMkNwOuAk5PsAj7K4Gyj44DbkwDc1Z1p9Frgb5P8AngGeF9VPTHyB0uSxmZspVBVl4wYf3GJ594E3DSuLJKkw+NvNEuSGktBktRYCpKkxlKQJDWWgiSpsRQkSY2lIElqLAVJUmMpSJIaS0GS1FgKkqTGUpAkNZaCJKmxFCRJjaUgSWosBUlSYylIkpqxlkKSzUn2Jdk+NDspye1JHuzuT+zmSfLZJDuSbEty1jizSZKebdx7CtcC5y+aXQncUVXrgDu6xwAXAOu620bgmjFnkyQtMtZSqKo7gScWjTcA13XL1wFvGZp/qQbuAk5Isnqc+SRJB+rjO4VVVbWnW34MWNUtnwI8OvS8Xd1MkjQhS5ZCkluTrB3nm1dVAXUkr0myMclckrn5+fkxJZOk5elgewr/CNyW5KokLziK77l34bBQd7+vm+8GTht63qnd7ABVtamqZqtqdmZm5ijGkiQtWQpV9VXgLODFwFySv0rywYXbr/CetwCXdsuXAl8fmr+jOwvpHOAnQ4eZJEkTsPIQ6/8P+F/gOOB44Jkj+eFJbgBeB5ycZBfwUeDjwFeSXAY8AlzUPf1W4EJgB/AU8K4jeS9J0q9uyVJIcj7waQb/gz+rqp460h9eVZcsseq8Ec8t4PIjfQ9J0tFzsD2Fq4A/rap7JxVGktSvJUuhqs6dZBBJUv/820eSpMZSkCQ1loIkqbEUJEmNpSBJaiwFSVJjKUiSGktBktRYCpKkxlKQJDWWgiSpsRQkSY2lIElqLAVJUmMpSJKaQ12O86hL8grgxqHRGcDfACcA7wHmu/lHqurWCceTpGVt4qVQVQ8A6wGSrAB2AzczuCbzZ6rqU5POJEka6Pvw0XnAQ1X1SM85JEn0XwoXAzcMPb4iybYkm5Oc2FcoSVqueiuFJL8OvBn4aje6BngZg0NLe4Crl3jdxiRzSebm5+dHPUWS9Bz1uadwAXB3Ve0FqKq9VfV0VT0DfAE4e9SLqmpTVc1W1ezMzMwE40rS81+fpXAJQ4eOkqweWvdWYPvEE0nSMjfxs48AkrwQ+CPgvUPjTyRZDxSwc9E6SdIE9FIKVfW/wEsWzd7eRxZJ0i/1ffaRJGmKWAqSpMZSkCQ1loIkqbEUJEmNpSBJaiwFSVJjKUiSGktBktRYCpKkxlKQJDWWgiSpsRQkSY2lIElqLAVJUmMpSJIaS0GS1PRy5TWAJDuBnwJPA/urajbJScCNwFoGl+S8qKr+p6+MkrTc9L2n8AdVtb6qZrvHVwJ3VNU64I7usSRpQvouhcU2ANd1y9cBb+kxiyQtO32WQgG3JdmSZGM3W1VVe7rlx4BV/USTpOWpt+8UgNdU1e4kvwncnuT+4ZVVVUlq8Yu6AtkIsGbNmskklaRlorc9hara3d3vA24Gzgb2JlkN0N3vG/G6TVU1W1WzMzMzk4wsSc97vZRCkhcmOX5hGXgDsB24Bbi0e9qlwNf7yCdJy1Vfh49WATcnWcjwz1X1zSTfBb6S5DLgEeCinvJJ0rLUSylU1cPA746YPw6cN/lEkiSYvlNSJUk9shQkSY2lIElqLAVJUmMpSJIaS0GS1FgKkqTGUpAkNZaCJKmxFCRJjaUgSWosBUlSYylIkhpLQZLUWAqSpMZSkCQ1loIkqZl4KSQ5Lcm3kvwgyb1J3t/NP5Zkd5Kt3e3CSWeTpOWuj8tx7gf+sqruTnI8sCXJ7d26z1TVp3rIJEmih1Koqj3Anm75p0nuA06ZdA5J0rP1+p1CkrXAq4DvdKMrkmxLsjnJib0Fk6RlqrdSSPIi4CbgA1X1JHAN8DJgPYM9iauXeN3GJHNJ5ubn5yeWV5KWg15KIckLGBTC9VX1NYCq2ltVT1fVM8AXgLNHvbaqNlXVbFXNzszMTC60JC0DfZx9FOCLwH1V9emh+eqhp70V2D7pbJK03PVx9tHvAW8H7kmytZt9BLgkyXqggJ3Ae3vIJknLWh9nH/0HkBGrbp10FknSgfyNZklSYylIkhpLQZLUWAqSpMZSkCQ1loIkqbEUJEmNpSBJaiwFSVJjKUiSGktBktRYCpKkxlKQJDWWgiSpsRQkSY2lIElqLAVJUmMpSJKaqSuFJOcneSDJjiRX9p1HkpaTqSqFJCuAfwAuAM4ELklyZr+pJGn5mKpSAM4GdlTVw1X1f8CXgQ09Z5KkZWPaSuEU4NGhx7u6WZNkY5K5JHPz8/MTDSdJz3fTVgqHVFWbqmq2qmZnZmb6jiNJzyvTVgq7gdOGHp/azSRJEzBtpfBdYF2S05P8OnAxcEvPmSRp2VjZd4BhVbU/yRXAvwErgM1VdW/PsSRp2ZiqUgCoqluBW/vOIUnL0bQdPpIk9chSkCQ1qaq+MzxnSeaBR3p6+5OB/+7pvZ8L847fsZbZvOM1zXlfWlUjz+k/pkuhT0nmqmq27xyHy7zjd6xlNu94HWt5F3j4SJLUWAqSpMZSeO429R3gCJl3/I61zOYdr2MtL+B3CpKkIe4pSJIaS+EQkpyW5FtJfpDk3iTv7+YfS7I7ydbudmHfWYcl2Znkni7bXDc7KcntSR7s7k/sOydAklcMbcetSZ5M8oFp2sZJNifZl2T70Gzk9szAZ7urB25LctYUZf5kkvu7XDcnOaGbr03ys6Ft/fkpybvkZyDJh7tt/ECSN05J3huHsu5MsrWb9759D1tVeTvIDVgNnNUtHw/8kMFV4T4G/FXf+Q6Seydw8qLZJ4Aru+Urgb/rO+eI3CuAx4CXTtM2Bl4LnAVsP9T2BC4EvgEEOAf4zhRlfgOwslv+u6HMa4efN0V5R34Gun+D3weOA04HHgJW9J130fqrgb+Zlu17uDf3FA6hqvZU1d3d8k+B+1h04Z9jyAbgum75OuAtPWZZynnAQ1XV1y8ljlRVdwJPLBovtT03AF+qgbuAE5KsnkzSXxqVuapuq6r93cO7GPx5+qmwxDZeygbgy1X186r6EbCDwZUbJ+ZgeZMEuAi4YZKZjgZL4QgkWQu8CvhON7qi2w3fPC2HYoYUcFuSLUk2drNVVbWnW34MWNVPtIO6mAP/IU3zNl5qex7yCoJT4t0M9mgWnJ7ke0m+neTcvkKNMOozMO3b+Fxgb1U9ODSb1u17AEvhMCV5EXAT8IGqehK4BngZsB7Yw2BXcZq8pqrOAi4ALk/y2uGVNdinnapTz7praLwZ+Go3mvZt3Ezj9jyYJFcB+4Hru9EeYE1VvQr4IPDPSV7cV74hx8xnYJFLOPA/N9O6fZ/FUjgMSV7AoBCur6qvAVTV3qp6uqqeAb7AhHddD6Wqdnf3+4CbGeTbu3AYo7vf11/CkS4A7q6qvTD925ilt+dUX0EwyTuBNwF/3pUZ3WGYx7vlLQyO0b+8t5Cdg3wGpnYbJ1kJvA24cWE2rdt3FEvhELpjg18E7quqTw/Nh48RvxXYvvi1fUnywiTHLywz+HJxO4Or2F3aPe1S4Ov9JFzSAf+7muZt3Flqe94CvKM7C+kc4CdDh5l6leR84EPAm6vqqaH5TJIV3fIZwDrg4X5S/tJBPgO3ABcnOS7J6Qzy/tek8y3h9cD9VbVrYTCt23ekvr/pnvYb8BoGhwW2AVu724XAPwH3dPNbgNV9Zx3KfAaDMzO+D9wLXNXNXwLcATwI/DtwUt9ZhzK/EHgc+I2h2dRsYwZltQf4BYPj15cttT0ZnHX0Dwz+N3gPMDtFmXcwOBa/8Fn+fPfcP+k+K1uBu4E/npK8S34GgKu6bfwAcME05O3m1wLvW/Tc3rfv4d78jWZJUuPhI0lSYylIkhpLQZLUWAqSpMZSkCQ1loJ0FGXwV3V/lOSk7vGJ3eO1/SaTDo+lIB1FVfUogz/N8PFu9HFgU1Xt7C2UdAT8PQXpKOv+LMoWYDPwHmB9Vf2i31TS4VnZdwDp+aaqfpHkr4FvAm+wEHQs8fCRNB4XMPgTCL/ddxDpSFgK0lGWZD3wRwyuuvYXfVxgR3quLAXpKOr+qu41DK678WPgk8Cn+k0lHT5LQTq63gP8uKpu7x5/DvitJL/fYybpsHn2kSSpcU9BktRYCpKkxlKQJDWWgiSpsRQkSY2lIElqLAVJUmMpSJKa/wc2a8DU0ULwBwAAAABJRU5ErkJggg==\n",
        "metadata": {
         "needs_background": "light",
         "tags": []
        },
        "output_type": "display_data",
        "text/plain": "<Figure size 432x288 with 1 Axes>"
       }
      ]
     }
    },
    "8ff8c17aa6964365a1e7d0ca0447767c": {
     "model_module": "@jupyter-widgets/controls",
     "model_name": "FloatSliderModel",
     "state": {
      "_dom_classes": [],
      "_model_module": "@jupyter-widgets/controls",
      "_model_module_version": "1.5.0",
      "_model_name": "FloatSliderModel",
      "_view_count": null,
      "_view_module": "@jupyter-widgets/controls",
      "_view_module_version": "1.5.0",
      "_view_name": "FloatSliderView",
      "continuous_update": true,
      "description": "time",
      "description_tooltip": null,
      "disabled": false,
      "layout": "IPY_MODEL_ace84326f59c4591ba77c71b0b854985",
      "max": 10000,
      "min": 0,
      "orientation": "horizontal",
      "readout": true,
      "readout_format": ".2f",
      "step": 60,
      "style": "IPY_MODEL_4f7061adcc2740079b71946341e60edb",
      "value": 0
     }
    },
    "ace84326f59c4591ba77c71b0b854985": {
     "model_module": "@jupyter-widgets/base",
     "model_name": "LayoutModel",
     "state": {
      "_model_module": "@jupyter-widgets/base",
      "_model_module_version": "1.2.0",
      "_model_name": "LayoutModel",
      "_view_count": null,
      "_view_module": "@jupyter-widgets/base",
      "_view_module_version": "1.2.0",
      "_view_name": "LayoutView",
      "align_content": null,
      "align_items": null,
      "align_self": null,
      "border": null,
      "bottom": null,
      "display": null,
      "flex": null,
      "flex_flow": null,
      "grid_area": null,
      "grid_auto_columns": null,
      "grid_auto_flow": null,
      "grid_auto_rows": null,
      "grid_column": null,
      "grid_gap": null,
      "grid_row": null,
      "grid_template_areas": null,
      "grid_template_columns": null,
      "grid_template_rows": null,
      "height": null,
      "justify_content": null,
      "justify_items": null,
      "left": null,
      "margin": null,
      "max_height": null,
      "max_width": null,
      "min_height": null,
      "min_width": null,
      "object_fit": null,
      "object_position": null,
      "order": null,
      "overflow": null,
      "overflow_x": null,
      "overflow_y": null,
      "padding": null,
      "right": null,
      "top": null,
      "visibility": null,
      "width": null
     }
    }
   }
  }
 },
 "nbformat": 4,
 "nbformat_minor": 1
}
